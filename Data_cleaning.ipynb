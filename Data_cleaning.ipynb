{
 "cells": [
  {
   "cell_type": "markdown",
   "id": "7340e92c",
   "metadata": {
    "toc": true
   },
   "source": [
    "<h1>Table of Contents<span class=\"tocSkip\"></span></h1>\n",
    "<div class=\"toc\"><ul class=\"toc-item\"><li><span><a href=\"#Concevez-une-application-à-destination-de-la-santé:-une-application-pour-faciliter-la-perte-de-poids\" data-toc-modified-id=\"Concevez-une-application-à-destination-de-la-santé:-une-application-pour-faciliter-la-perte-de-poids-1\"><strong>Concevez une application à destination de la santé: une application pour faciliter la perte de poids</strong></a></span></li><li><span><a href=\"#0.-Imports-et-fonctions\" data-toc-modified-id=\"0.-Imports-et-fonctions-2\">0. Imports et fonctions</a></span></li><li><span><a href=\"#1.-Introduction\" data-toc-modified-id=\"1.-Introduction-3\">1. Introduction</a></span></li><li><span><a href=\"#2.-Le-jeu-des-données\" data-toc-modified-id=\"2.-Le-jeu-des-données-4\">2. Le jeu des données</a></span><ul class=\"toc-item\"><li><span><a href=\"#2.1-Analyse-préliminaire-du-jeu-des-données\" data-toc-modified-id=\"2.1-Analyse-préliminaire-du-jeu-des-données-4.1\">2.1 Analyse préliminaire du jeu des données</a></span></li><li><span><a href=\"#2.2-Prémiers-filtres-sur-les-variables\" data-toc-modified-id=\"2.2-Prémiers-filtres-sur-les-variables-4.2\">2.2 Prémiers filtres sur les variables</a></span></li></ul></li><li><span><a href=\"#3.-Analyses-préliminaires\" data-toc-modified-id=\"3.-Analyses-préliminaires-5\">3. Analyses préliminaires</a></span><ul class=\"toc-item\"><li><span><a href=\"#3.1-Analyse-des-informations-nutritionelles\" data-toc-modified-id=\"3.1-Analyse-des-informations-nutritionelles-5.1\">3.1 Analyse des informations nutritionelles</a></span><ul class=\"toc-item\"><li><span><a href=\"#A.-Analyse-des-variables-salt-et-sodium\" data-toc-modified-id=\"A.-Analyse-des-variables-salt-et-sodium-5.1.1\">A. Analyse des variables salt et sodium</a></span></li><li><span><a href=\"#B.-Analyse-des-nutriments\" data-toc-modified-id=\"B.-Analyse-des-nutriments-5.1.2\">B. Analyse des nutriments</a></span></li></ul></li><li><span><a href=\"#3.2-Analyse-des-vitamines\" data-toc-modified-id=\"3.2-Analyse-des-vitamines-5.2\">3.2 Analyse des vitamines</a></span></li><li><span><a href=\"#3.3-Analyse-des-catégories\" data-toc-modified-id=\"3.3-Analyse-des-catégories-5.3\">3.3 Analyse des catégories</a></span></li><li><span><a href=\"#3.4-Analyse-du-Nutri-score\" data-toc-modified-id=\"3.4-Analyse-du-Nutri-score-5.4\">3.4 Analyse du Nutri-score</a></span></li></ul></li><li><span><a href=\"#4.-Traitement-des-valeurs-manquantes\" data-toc-modified-id=\"4.-Traitement-des-valeurs-manquantes-6\">4. Traitement des valeurs manquantes</a></span><ul class=\"toc-item\"><li><span><a href=\"#4.1-Macronutriments\" data-toc-modified-id=\"4.1-Macronutriments-6.1\">4.1 Macronutriments</a></span><ul class=\"toc-item\"><li><span><a href=\"#A.-Glucides-et-sucres\" data-toc-modified-id=\"A.-Glucides-et-sucres-6.1.1\">A. Glucides et sucres</a></span></li><li><span><a href=\"#B.-Gras-et-gras-saturés\" data-toc-modified-id=\"B.-Gras-et-gras-saturés-6.1.2\">B. Gras et gras saturés</a></span></li><li><span><a href=\"#C.-Proteines\" data-toc-modified-id=\"C.-Proteines-6.1.3\">C. Proteines</a></span></li></ul></li><li><span><a href=\"#4.2-Apport-énergétique\" data-toc-modified-id=\"4.2-Apport-énergétique-6.2\">4.2 Apport énergétique</a></span></li><li><span><a href=\"#4.3-Teneur-en-sel\" data-toc-modified-id=\"4.3-Teneur-en-sel-6.3\">4.3 Teneur en sel</a></span></li><li><span><a href=\"#4.4-Teneur-en-fibres\" data-toc-modified-id=\"4.4-Teneur-en-fibres-6.4\">4.4 Teneur en fibres</a></span></li><li><span><a href=\"#4.5-Score-nutritionnel\" data-toc-modified-id=\"4.5-Score-nutritionnel-6.5\">4.5 Score nutritionnel</a></span></li><li><span><a href=\"#4.6-Catégorie-du-produit-:-PNNS-groups\" data-toc-modified-id=\"4.6-Catégorie-du-produit-:-PNNS-groups-6.6\">4.6 Catégorie du produit : PNNS groups</a></span><ul class=\"toc-item\"><li><span><a href=\"#4.6.1-pnns_groups_1\" data-toc-modified-id=\"4.6.1-pnns_groups_1-6.6.1\">4.6.1 pnns_groups_1</a></span></li><li><span><a href=\"#4.6.2-pnns_groups_2\" data-toc-modified-id=\"4.6.2-pnns_groups_2-6.6.2\">4.6.2 pnns_groups_2</a></span></li></ul></li><li><span><a href=\"#4.7-Nutri-score\" data-toc-modified-id=\"4.7-Nutri-score-6.7\">4.7 Nutri-score</a></span></li></ul></li><li><span><a href=\"#5.-Conclusions\" data-toc-modified-id=\"5.-Conclusions-7\">5. Conclusions</a></span></li></ul></div>"
   ]
  },
  {
   "cell_type": "markdown",
   "id": "66f0a528-01b8-4cc0-82be-638f1d683f99",
   "metadata": {},
   "source": [
    "# **Concevez une application à destination de la santé: une application pour faciliter la perte de poids**"
   ]
  },
  {
   "cell_type": "markdown",
   "id": "a6769ab4-403a-4674-8521-aba1c6a0c7b7",
   "metadata": {},
   "source": [
    "# 0. Imports et fonctions"
   ]
  },
  {
   "cell_type": "code",
   "execution_count": 412,
   "id": "9778965b-5ebc-4e92-a768-77b68628acd9",
   "metadata": {},
   "outputs": [],
   "source": [
    "import pandas as pd\n",
    "import seaborn as sns\n",
    "import numpy as np\n",
    "from matplotlib import pyplot as plt\n",
    "from sklearn.impute import KNNImputer\n",
    "from sklearn.preprocessing import LabelEncoder\n",
    "from scipy.stats import mannwhitneyu\n",
    "from sklearn.preprocessing import StandardScaler\n",
    "from sklearn.preprocessing import MinMaxScaler"
   ]
  },
  {
   "cell_type": "code",
   "execution_count": 420,
   "id": "8c152977-dea6-451f-9635-f2bb12ba6a81",
   "metadata": {},
   "outputs": [],
   "source": [
    "def remove_outliers_nutrients(data, columns):\n",
    "    \"\"\"Cette fonction prend en entrée un dataframe, et supprime les observations aberrantes, c’est-à-dire les observations pour \n",
    "    lesquelles les valeurs nutritionnelles ne sont pas comprises entre 0g et 100g. \n",
    "    Pour le sel et les fibres, les limites sont plus contraignantes parc qu'il est rare des trouver des produits avec \n",
    "    une teneur en sel ou en fibres très élevée\n",
    "    ----------------------------------------------------------------------------------------------------------\n",
    "    Args: \n",
    "    data : dataframe \n",
    "    columns : liste des variables (colonnes) où il faut enlever les valeurs aberrantes\n",
    "    \n",
    "    Return: dataframe sans valeurs aberrantes\n",
    "    \n",
    "    \"\"\"\n",
    "    for col in columns:\n",
    "        #mask pour ne garder que les valeurs manquantes ou les valeurs comprises entre 0 et 100\n",
    "        mask = (data[col].isna() | ((data[col] >= 0) & (data[col] <= 100)))\n",
    "        data = data[mask]\n",
    "    #mask pour le sel: la teneur doir etre inférieure à 10g\n",
    "    mask = (data['salt_100g'].isna() | ((data['salt_100g'] >= 0) & (data['salt_100g'] <= 10)))\n",
    "    data = data[mask]\n",
    "    #mask pour les fibres: la teneur doir etre inférieure à 60g\n",
    "    mask = (data['fiber_100g'].isna() | ((data['fiber_100g'] >= 0) & (data['fiber_100g'] <= 60)))\n",
    "    data = data[mask]\n",
    "    return data.reset_index().drop(\"index\", axis = 1)  \n",
    "    \n",
    "def remove_outliers_vitamins(data, columns): \n",
    "    \"\"\"Cette fonction prend en entrée un dataframe, et supprime les observations aberrantes, c’est-à-dire \n",
    "    les observations pour lesquelles les valeurs nutritionnelles liées aux vitaminesne sont pas comprises \n",
    "    entre 0g et 1g. \n",
    "    ----------------------------------------------------------------------------------------------------------\n",
    "    Args: \n",
    "    data : dataframe \n",
    "    columns : liste des variables (colonnes) où il faut supprimer les valeurs aberrantes\n",
    "    \n",
    "    Return: dataframe sans valeurs aberrantes\n",
    "    \n",
    "    \"\"\"\n",
    "    for col in columns:\n",
    "        #mask pour ne garder que les valeurs manquantes ou les valeurs comprises entre 0 et 1\n",
    "        mask = (data[col].isna() | ((data[col] >= 0) & (data[col] <= 1)))\n",
    "        data = data[mask]\n",
    "\n",
    "    return data.reset_index().drop(\"index\", axis = 1)    \n",
    "\n",
    "def clean_pnns_1(data):\n",
    "    \"\"\"Cette fonction prend en entrée un dataframe et uniformise les valeurs de la variable 'pnns_groups_1'. \n",
    "    ----------------------------------------------------------------------------------------------------------\n",
    "    Args: \n",
    "    data : dataframe \n",
    "    Return: dataframe avec les valeurs de la variable 'pnns_groups_1' uniformisés\n",
    "    \n",
    "    \"\"\"\n",
    "    for category in data['pnns_groups_1'].unique():\n",
    "        if category is not np.nan:\n",
    "            #remplacement de la catégorie unknown avec Nan\n",
    "            if category == 'unknown': \n",
    "                data.loc[data['pnns_groups_1']==category, 'pnns_groups_1'] = np.nan\n",
    "            elif category.islower():\n",
    "                #uniformisations des noms des catégories\n",
    "                new_name = \" \".join(category.split(\"-\")).capitalize()\n",
    "                data.loc[data['pnns_groups_1']==category, 'pnns_groups_1'] = new_name\n",
    "    return data\n",
    "\n",
    "def clean_pnns_2(data):\n",
    "    \"\"\"Cette fonction prend en entrée un dataframe et uniformise les valeurs de la variable 'pnns_groups_2'. \n",
    "    ----------------------------------------------------------------------------------------------------------\n",
    "    Args: \n",
    "    data : dataframe \n",
    "    Return: dataframe avec les valeurs de la variable 'pnns_groups_2' uniformisés\n",
    "    \n",
    "    \"\"\"\n",
    "    for category in data['pnns_groups_2'].unique():\n",
    "        if category is not np.nan:\n",
    "             #remplacement de la catégorie unknown avec Nan\n",
    "            if category == 'unknown': \n",
    "                data.loc[data['pnns_groups_2']==category, 'pnns_groups_2'] = np.nan\n",
    "            elif category.islower():\n",
    "                #uniformisations des noms des catégories\n",
    "                new_name = category.capitalize()\n",
    "                data.loc[data['pnns_groups_2']==category, 'pnns_groups_2'] = new_name\n",
    "    return data\n",
    "\n",
    "def remove_outliers_scores(data):\n",
    "    \"\"\"Cette fonction prend en entrée un dataframe, et supprime les observations aberrantes, c’est-à-dire \n",
    "    les observations pour lesquelles la correspondance entre score nutritionnel et Nutri-score n'est pas correcte. \n",
    "    ----------------------------------------------------------------------------------------------------------\n",
    "    Args: \n",
    "    data : dataframe \n",
    "    \n",
    "    Return: dataframe sans valeurs aberrantes\n",
    "    \n",
    "    \"\"\"\n",
    "    #initialisation liste pour stocker les index des valeurs aberrantes\n",
    "    indexes_to_drop = []\n",
    "    #dictionnaire de corresnpondance Nutri-score et score nutritionnel\n",
    "    dict_ranges = {'a': (-15, 1), 'b': (-15, 2), 'c': (2, 10), 'd': (6, 18), 'e': (10, 40)}\n",
    "    for grade, values in dict_ranges.items():\n",
    "        data_grade = data[data['nutrition_grade_fr']== grade]\n",
    "        to_drop = (data_grade[(data_grade['nutrition-score-fr_100g'] < values[0]) | (data_grade['nutrition-score-fr_100g'] > values[1]) ]).index\n",
    "        indexes_to_drop = indexes_to_drop + list(to_drop)\n",
    "    data.drop(indexes_to_drop, inplace = True)\n",
    "    return data.reset_index().drop(\"index\", axis = 1)  \n",
    "\n",
    "def energy_100_null_values(data):\n",
    "    \"\"\"Cette fonction prend en entrée un dataframe et remplace les valeurs manquantes de la variable 'energy_100' \n",
    "    avec une nouvelle variable qui est l'apport énérgetique calculé en fonction des macronutriments. De plus, elle \n",
    "    supprime les valeurs aberrantes, pour lesquels l'apport énergétique est trop éleve. L'apport énergétique maximal\n",
    "    correspond aux produits composés à 100% des gras ce qui correspond à 3768.12 KJ. \n",
    "    ----------------------------------------------------------------------------------------------------------\n",
    "    Args: \n",
    "    data : dataframe \n",
    "    \n",
    "    Return: dataframe avec valeurs manquantes de la variable 'energy_100g remplacés'\n",
    "    \n",
    "    \"\"\"\n",
    "    #calcul apport énergétique\n",
    "    data['calculated_energy'] = (data['fat_100g']*9 + data['carbohydrates_100g']*4 + data['proteins_100g']*4)*4.1868\n",
    "    #remplacement des valeurs manquantes\n",
    "    data['energy_100g'] = data['energy_100g'].fillna(data['calculated_energy'])\n",
    "    #supression des valeurs aberrantes\n",
    "    data = data[data['energy_100g'] <= 3768.12]\n",
    "    data.drop('calculated_energy', axis = 1 ,inplace = True)\n",
    "    return data.reset_index().drop(\"index\", axis = 1) \n",
    "\n",
    "def knn_imputer(data, columns, n_neighbors):\n",
    "    \"\"\"Cette fonction remplace les valeurs manquantes d'une variable numerique (ou plusierus) en utilisant \n",
    "    la methode KNN Imputer.\n",
    "    ----------------------------------------------------------------------------------------------------------\n",
    "    Args: \n",
    "    data : dataframe \n",
    "    columns: variables à fournir en entrée au KNN Imputer\n",
    "    n_neighbors: nombre des voisins du KNN Imputer\n",
    "    \n",
    "    Return: dataframe avec valeurs imputées\n",
    "    \n",
    "    \"\"\"\n",
    "    #scaling des données\n",
    "    scaler = StandardScaler()\n",
    "    data_scaled = scaler.fit_transform(data[columns])\n",
    "    #KNN imputer\n",
    "    imputer = KNNImputer(n_neighbors=n_neighbors)\n",
    "    data_transformed = imputer.fit_transform(data_scaled)\n",
    "    #transformation inverse du StandardScaler\n",
    "    data_rescaled = pd.DataFrame(scaler.inverse_transform(data_transformed), columns = columns, index = data.index)\n",
    "    return data_rescaled\n",
    "\n",
    "def knn_imputer_categorical(data, categorical, columns, n_neighbors):\n",
    "    \"\"\"Cette fonction remplace les valeure manquantes d'une variable catégorielle en utilisant la methode \n",
    "    KNN Imputer.\n",
    "    ----------------------------------------------------------------------------------------------------------\n",
    "    Args: \n",
    "    data : dataframe \n",
    "    categorical: variable catégorielle avec valeurs manquantes\n",
    "    columns: variables à fournir en entrée au KNN Imputer\n",
    "    n_neighbors: nombre des voisins du KNN Imputer\n",
    "    \n",
    "    Return: dataframe avec valeurs imputées\n",
    "    \n",
    "    \"\"\"\n",
    "    #selection données en entrée\n",
    "    data_columns = data[columns]\n",
    "    #labelisation numérique de la variable catégorielle\n",
    "    categorical_notna = data_columns.loc[data_columns[categorical].notna(), categorical]\n",
    "    labels = LabelEncoder()\n",
    "    numerical_labels = pd.Series(labels.fit_transform(categorical_notna), index= categorical_notna.index)\n",
    "    data_columns.loc[categorical_notna.index, categorical] = numerical_labels\n",
    "    data_columns[categorical]= data_columns[categorical].astype('float64')\n",
    "    #scaling des données\n",
    "    scaler = StandardScaler()\n",
    "    scaled = scaler.fit_transform(data_columns)\n",
    "    #imputation KNN\n",
    "    imputer = KNNImputer(n_neighbors=n_neighbors)\n",
    "    data_transformed = imputer.fit_transform(scaled)\n",
    "    #tranformation inverse du Standardscaler\n",
    "    data_rescaled = pd.DataFrame(scaler.inverse_transform(data_transformed), columns = columns, index = data.index)\n",
    "    #remplacement de la variable catégorielle avec la variable imputée\n",
    "    data.loc[:, categorical] = data_rescaled.loc[:, categorical].values\n",
    "    #tranformation inverse du LabelEncoder\n",
    "    data[categorical] =  data[categorical].astype('int64')\n",
    "    data[categorical] = labels.inverse_transform(data[categorical])\n",
    "    return data\n",
    "\n",
    "def fill_nutrition_scores(data):\n",
    "    \"\"\"Cette fonction remplace les valeure manquantes du nutriscore en attribuant au score nutritionnel le Nutri-score\n",
    "    approprié (la conversion est différente pour les produits solides et les boissons).\n",
    "    ----------------------------------------------------------------------------------------------------------\n",
    "    Args: \n",
    "    data : dataframe     \n",
    "    Return: dataframe avec valeurs manquantes de la variable 'nutrition_grade_fr' remplacées\n",
    "    \n",
    "    \"\"\"\n",
    "    #initialisation de la variable 'calculated_grade' a NaN\n",
    "    data['calculated_grade'] = np.nan\n",
    "    #dictionnaire de conversion produits solides\n",
    "    dict_ranges_solid = {'a': (-15, -1), 'b': (0, 2), 'c': (3, 10), 'd': (11, 18), 'e': (19, 40)}\n",
    "    #dictionnaire de conversion boission\n",
    "    dict_ranges_bev = {'b': (-15, 1), 'c': (2, 5), 'd': (6, 9), 'e': (10, 40)}\n",
    "    #boissons\n",
    "    data_bev = data[data['pnns_groups_1']=='Beverages']\n",
    "    #produits solides\n",
    "    data_sol = data[data['pnns_groups_1']!='Beverages']\n",
    "    #conversion score nutritionnel - Nutri-score\n",
    "    for grade, values in dict_ranges_solid.items():\n",
    "        data_grade = data_sol[(data_sol['nutrition-score-fr_100g'] >= values[0]) & (data_sol['nutrition-score-fr_100g'] <= values[1]) ].index\n",
    "        data_sol.loc[data_grade, \"calculated_grade\"] = grade\n",
    "    for grade, values in dict_ranges_bev.items():\n",
    "        data_grade = data_bev[(data_bev['nutrition-score-fr_100g'] >= values[0]) & (data_bev['nutrition-score-fr_100g'] <= values[1]) ].index\n",
    "        data_bev.loc[data_grade, 'calculated_grade'] = grade\n",
    "    data = pd.concat([data_bev, data_sol])\n",
    "    #remplacement des valeurs manquantes\n",
    "    data['nutrition_grade_fr'] = data['nutrition_grade_fr'].fillna(data['calculated_grade'])\n",
    "    #suppression de la variables calculated_grade, qui a accompli son but\n",
    "    data.drop(['calculated_grade'], axis = 1, inplace=True)\n",
    "    return data\n",
    "\n",
    "def clean_dataset(path):\n",
    "    \"\"\"\n",
    "    fonction pour automatiser le traitement du dataset\n",
    "    \"\"\"\n",
    "    data = pd.read_csv(path, sep = '\\t', low_memory= False)\n",
    "    columns = ['code', 'url', 'product_name','fat_100g', 'saturated-fat_100g', 'carbohydrates_100g','sugars_100g', 'fiber_100g','proteins_100g', \n",
    "        'salt_100g','vitamin-a_100g', 'beta-carotene_100g', 'vitamin-d_100g','vitamin-e_100g', 'vitamin-k_100g', 'vitamin-c_100g', 'vitamin-b1_100g','vitamin-b2_100g', 'vitamin-pp_100g', \n",
    "        'vitamin-b6_100g','vitamin-b9_100g', 'vitamin-b12_100g','energy_100g', 'pnns_groups_1', 'nutrition_grade_fr',            \n",
    "        'nutrition-score-fr_100g']\n",
    "    data = data[columns]\n",
    "    nutrients_columns = [ 'fat_100g', 'saturated-fat_100g', 'carbohydrates_100g','sugars_100g', 'fiber_100g',\n",
    "                         'proteins_100g', 'salt_100g']\n",
    "    data = remove_outliers_nutrients(data, nutrients_columns)\n",
    "    print('outliers nutrients done')\n",
    "    vitamins_columns = ['vitamin-a_100g', 'beta-carotene_100g', 'vitamin-d_100g','vitamin-e_100g', 'vitamin-k_100g', 'vitamin-c_100g', 'vitamin-b1_100g','vitamin-b2_100g', 'vitamin-pp_100g', \n",
    "        'vitamin-b6_100g','vitamin-b9_100g', 'vitamin-b12_100g']\n",
    "    data = remove_outliers_vitamins(data, vitamins_columns)\n",
    "    print('outliers vitamins done')\n",
    "    data_vitamines_columns = data.columns[data.columns.str.contains('vitamin') |  data.columns.str.contains('carotene')]\n",
    "    data['vitamins_100g'] = data[data_vitamines_columns].sum(axis = 1)\n",
    "    data = data.drop(data_vitamines_columns, axis = 1)\n",
    "    print('vitamins sum done')\n",
    "    data = clean_pnns_1(data)\n",
    "    print('pnns 1 cleaned')\n",
    "    data = remove_outliers_scores(data)\n",
    "    print('outliers score done')\n",
    "    data = data[data['carbohydrates_100g'].notna()|data['sugars_100g'].notna()]\n",
    "    data['sugars_100g'] = data['sugars_100g'].fillna(data['carbohydrates_100g'])\n",
    "    data['carbohydrates_100g'] = data['carbohydrates_100g'].fillna(data['sugars_100g'])\n",
    "    mask = (data[\"carbohydrates_100g\"] - data[\"sugars_100g\"])>= 0\n",
    "    data = data[mask]\n",
    "    print('glucides/sucres done')\n",
    "    data= data[data['fat_100g'].notna()|data['saturated-fat_100g'].notna()]\n",
    "    data['fat_100g'] = data['fat_100g'].fillna(data['saturated-fat_100g'])\n",
    "    data['saturated-fat_100g'] = data['saturated-fat_100g'].fillna(data['fat_100g'])\n",
    "    mask = (data[\"fat_100g\"] - data[\"saturated-fat_100g\"])>= 0\n",
    "    data = data[mask]\n",
    "    print('gras/gras saturés done')\n",
    "    data = data[data[\"proteins_100g\"].notna()]\n",
    "    print('proteins done')\n",
    "    data = energy_100_null_values(data)\n",
    "    print('energy done')\n",
    "    data['salt_100g'] = data['salt_100g'].fillna(data['salt_100g'].median())\n",
    "    print('salt done')\n",
    "    imputed_data = knn_imputer(data, nutrients_columns, 5)\n",
    "    data['fiber_100g'] = data['fiber_100g'].fillna(imputed_data['fiber_100g'])\n",
    "    print('fiber done')\n",
    "    mask = data[\"fat_100g\"] + data[\"carbohydrates_100g\"]+ data[\"proteins_100g\"]+  data[\"vitamins_100g\"]+ data[\"salt_100g\"]+ data[\"fiber_100g\"] <= 100\n",
    "    data = data[mask]\n",
    "    data.reset_index().drop(\"index\", axis = 1, inplace= True)\n",
    "    print('nutrients done')\n",
    "    knn_data_nutriscore = ['energy_100g', 'fat_100g', 'saturated-fat_100g','sugars_100g', 'fiber_100g', 'proteins_100g',\n",
    "    'salt_100g', 'nutrition-score-fr_100g', 'vitamins_100g']\n",
    "    imputed_data_score = knn_imputer(data, knn_data_nutriscore, 5)\n",
    "    data[\"nutrition-score-fr_100g\"] = data[\"nutrition-score-fr_100g\"].fillna(imputed_data_score[\"nutrition-score-fr_100g\"].astype('int64'))\n",
    "    print('Nutrition-score done')\n",
    "    columns_knn_pnns_1 = ['pnns_groups_1','energy_100g', 'fat_100g','saturated-fat_100g', 'carbohydrates_100g', 'sugars_100g', \n",
    "    'fiber_100g','proteins_100g', 'salt_100g', 'nutrition-score-fr_100g','vitamins_100g']\n",
    "    data = knn_imputer_categorical(data, 'pnns_groups_1', columns_knn_pnns_1, 15)\n",
    "    print('imputer pnns_groups_1 done')\n",
    "    data = fill_nutrition_scores(data)\n",
    "    print('Nutri-score filled')\n",
    "    data['code'] = data['code'].astype('float64')\n",
    "    data['code'] = data['code'].astype('int64')\n",
    "    data.to_csv('Data/Cleaning/automatised_cleaning.csv')"
   ]
  },
  {
   "cell_type": "markdown",
   "id": "5265132d-3470-406a-ad1f-40d828b66b61",
   "metadata": {},
   "source": [
    "# 1. Introduction\n",
    "\n",
    "Ce projet consiste en la proposition d'une application à destination de la santé, en utilisant le jeu de données Open Food Facts. \n",
    "\n",
    "Mon idée d'application est la suivante : **l’utilisateur va utiliser l’application pour scanner un produit, et l'application va proposer des produits similaires, c’est à dire dans la même catégorie, avec des valeurs de  macronutriments similaires, avec le même Nutri-score ou un Nutri-score supérieur, mais avec moins de calories.**\n",
    "(Le Nutri-score est un système d'étiquetage nutritionnel à cinq niveaux, allant de A à E et du vert au rouge, établi en fonction de la valeur nutritionnelle d'un produit alimentaire).\n",
    "\n",
    "Il faudra vérifier la faisabilité de cette application à partir de ce jeu de données, et pour ce faire, la première étape consiste dans le pré-traitement des données pour sélectionner les variables d'intérêt, supprimer doublons, supprimer les valeurs aberrantes et traiter les valeurs manquantes.\n"
   ]
  },
  {
   "cell_type": "markdown",
   "id": "e7d66b82-26ed-4684-b6fe-c84852a7ee1d",
   "metadata": {
    "tags": []
   },
   "source": [
    "# 2. Le jeu des données"
   ]
  },
  {
   "cell_type": "markdown",
   "id": "20612934-416b-4574-827b-ce4405d48c0e",
   "metadata": {},
   "source": [
    "## 2.1 Analyse préliminaire du jeu des données"
   ]
  },
  {
   "cell_type": "markdown",
   "id": "9fe9c2eb-68a7-4745-b19d-52dde690e033",
   "metadata": {},
   "source": [
    "Le jeu de données Open Food Facts est disponible sur le site officiel. \n",
    "Les variables sont définies à cette adresse :\n",
    "https://world.openfoodfacts.org/data/data-fields.txt\n",
    "\n",
    "Je vais commencer à examiner le jeu des données"
   ]
  },
  {
   "cell_type": "code",
   "execution_count": 365,
   "id": "598f4720-ee63-4cc7-9229-bf95e84b59b8",
   "metadata": {},
   "outputs": [],
   "source": [
    "#lecture jeu des données.  \n",
    "path = 'Data/Source/'\n",
    "data = pd.read_csv(path + 'fr.openfoodfacts.org.products.csv',sep = '\\t', low_memory= False)  #low memory = false pour eviter un warning sur les colonnes avec des mixed types"
   ]
  },
  {
   "cell_type": "code",
   "execution_count": 366,
   "id": "66193cef-794e-4680-a384-517bddf63256",
   "metadata": {},
   "outputs": [
    {
     "data": {
      "text/plain": [
       "(320772, 162)"
      ]
     },
     "execution_count": 366,
     "metadata": {},
     "output_type": "execute_result"
    }
   ],
   "source": [
    "#nombre des lignes et colonnes\n",
    "data.shape"
   ]
  },
  {
   "cell_type": "code",
   "execution_count": 367,
   "id": "eb3be5c5-fc82-4685-9b4f-224071bfd73f",
   "metadata": {
    "tags": []
   },
   "outputs": [
    {
     "data": {
      "text/html": [
       "<div>\n",
       "<style scoped>\n",
       "    .dataframe tbody tr th:only-of-type {\n",
       "        vertical-align: middle;\n",
       "    }\n",
       "\n",
       "    .dataframe tbody tr th {\n",
       "        vertical-align: top;\n",
       "    }\n",
       "\n",
       "    .dataframe thead th {\n",
       "        text-align: right;\n",
       "    }\n",
       "</style>\n",
       "<table border=\"1\" class=\"dataframe\">\n",
       "  <thead>\n",
       "    <tr style=\"text-align: right;\">\n",
       "      <th></th>\n",
       "      <th>code</th>\n",
       "      <th>url</th>\n",
       "      <th>creator</th>\n",
       "      <th>created_t</th>\n",
       "      <th>created_datetime</th>\n",
       "      <th>last_modified_t</th>\n",
       "      <th>last_modified_datetime</th>\n",
       "      <th>product_name</th>\n",
       "      <th>generic_name</th>\n",
       "      <th>quantity</th>\n",
       "      <th>...</th>\n",
       "      <th>ph_100g</th>\n",
       "      <th>fruits-vegetables-nuts_100g</th>\n",
       "      <th>collagen-meat-protein-ratio_100g</th>\n",
       "      <th>cocoa_100g</th>\n",
       "      <th>chlorophyl_100g</th>\n",
       "      <th>carbon-footprint_100g</th>\n",
       "      <th>nutrition-score-fr_100g</th>\n",
       "      <th>nutrition-score-uk_100g</th>\n",
       "      <th>glycemic-index_100g</th>\n",
       "      <th>water-hardness_100g</th>\n",
       "    </tr>\n",
       "  </thead>\n",
       "  <tbody>\n",
       "    <tr>\n",
       "      <th>117396</th>\n",
       "      <td>0607880010558</td>\n",
       "      <td>http://world-fr.openfoodfacts.org/produit/0607...</td>\n",
       "      <td>usda-ndb-import</td>\n",
       "      <td>1489137325</td>\n",
       "      <td>2017-03-10T09:15:25Z</td>\n",
       "      <td>1489137325</td>\n",
       "      <td>2017-03-10T09:15:25Z</td>\n",
       "      <td>Cream Style Corn</td>\n",
       "      <td>NaN</td>\n",
       "      <td>NaN</td>\n",
       "      <td>...</td>\n",
       "      <td>NaN</td>\n",
       "      <td>NaN</td>\n",
       "      <td>NaN</td>\n",
       "      <td>NaN</td>\n",
       "      <td>NaN</td>\n",
       "      <td>NaN</td>\n",
       "      <td>1.0</td>\n",
       "      <td>1.0</td>\n",
       "      <td>NaN</td>\n",
       "      <td>NaN</td>\n",
       "    </tr>\n",
       "    <tr>\n",
       "      <th>313447</th>\n",
       "      <td>8710496977176</td>\n",
       "      <td>http://world-fr.openfoodfacts.org/produit/8710...</td>\n",
       "      <td>openfoodfacts-contributors</td>\n",
       "      <td>1461524196</td>\n",
       "      <td>2016-04-24T18:56:36Z</td>\n",
       "      <td>1461524197</td>\n",
       "      <td>2016-04-24T18:56:37Z</td>\n",
       "      <td>DeRuijter</td>\n",
       "      <td>NaN</td>\n",
       "      <td>400 g</td>\n",
       "      <td>...</td>\n",
       "      <td>NaN</td>\n",
       "      <td>NaN</td>\n",
       "      <td>NaN</td>\n",
       "      <td>NaN</td>\n",
       "      <td>NaN</td>\n",
       "      <td>NaN</td>\n",
       "      <td>NaN</td>\n",
       "      <td>NaN</td>\n",
       "      <td>NaN</td>\n",
       "      <td>NaN</td>\n",
       "    </tr>\n",
       "    <tr>\n",
       "      <th>185180</th>\n",
       "      <td>26063256</td>\n",
       "      <td>http://world-fr.openfoodfacts.org/produit/2606...</td>\n",
       "      <td>sto</td>\n",
       "      <td>1492608144</td>\n",
       "      <td>2017-04-19T13:22:24Z</td>\n",
       "      <td>1492608311</td>\n",
       "      <td>2017-04-19T13:25:11Z</td>\n",
       "      <td>Pommes</td>\n",
       "      <td>Pommes GALA, CAL 136-200g, Catégorie 1</td>\n",
       "      <td>1500 g</td>\n",
       "      <td>...</td>\n",
       "      <td>NaN</td>\n",
       "      <td>NaN</td>\n",
       "      <td>NaN</td>\n",
       "      <td>NaN</td>\n",
       "      <td>NaN</td>\n",
       "      <td>NaN</td>\n",
       "      <td>-5.0</td>\n",
       "      <td>-5.0</td>\n",
       "      <td>NaN</td>\n",
       "      <td>NaN</td>\n",
       "    </tr>\n",
       "    <tr>\n",
       "      <th>223479</th>\n",
       "      <td>3292090135244</td>\n",
       "      <td>http://world-fr.openfoodfacts.org/produit/3292...</td>\n",
       "      <td>kiliweb</td>\n",
       "      <td>1486542773</td>\n",
       "      <td>2017-02-08T08:32:53Z</td>\n",
       "      <td>1486542902</td>\n",
       "      <td>2017-02-08T08:35:02Z</td>\n",
       "      <td>Coca-cola zéro 2L</td>\n",
       "      <td>NaN</td>\n",
       "      <td>NaN</td>\n",
       "      <td>...</td>\n",
       "      <td>NaN</td>\n",
       "      <td>NaN</td>\n",
       "      <td>NaN</td>\n",
       "      <td>NaN</td>\n",
       "      <td>NaN</td>\n",
       "      <td>NaN</td>\n",
       "      <td>0.0</td>\n",
       "      <td>0.0</td>\n",
       "      <td>NaN</td>\n",
       "      <td>NaN</td>\n",
       "    </tr>\n",
       "    <tr>\n",
       "      <th>308069</th>\n",
       "      <td>8412800005857</td>\n",
       "      <td>http://world-fr.openfoodfacts.org/produit/8412...</td>\n",
       "      <td>neptuno</td>\n",
       "      <td>1488536457</td>\n",
       "      <td>2017-03-03T10:20:57Z</td>\n",
       "      <td>1488544599</td>\n",
       "      <td>2017-03-03T12:36:39Z</td>\n",
       "      <td>Postre cremoso de arroz</td>\n",
       "      <td>Postre de arroz</td>\n",
       "      <td>400 g (4 x 100 g)</td>\n",
       "      <td>...</td>\n",
       "      <td>NaN</td>\n",
       "      <td>NaN</td>\n",
       "      <td>NaN</td>\n",
       "      <td>NaN</td>\n",
       "      <td>NaN</td>\n",
       "      <td>NaN</td>\n",
       "      <td>-1.0</td>\n",
       "      <td>-1.0</td>\n",
       "      <td>NaN</td>\n",
       "      <td>NaN</td>\n",
       "    </tr>\n",
       "  </tbody>\n",
       "</table>\n",
       "<p>5 rows × 162 columns</p>\n",
       "</div>"
      ],
      "text/plain": [
       "                 code                                                url  \\\n",
       "117396  0607880010558  http://world-fr.openfoodfacts.org/produit/0607...   \n",
       "313447  8710496977176  http://world-fr.openfoodfacts.org/produit/8710...   \n",
       "185180       26063256  http://world-fr.openfoodfacts.org/produit/2606...   \n",
       "223479  3292090135244  http://world-fr.openfoodfacts.org/produit/3292...   \n",
       "308069  8412800005857  http://world-fr.openfoodfacts.org/produit/8412...   \n",
       "\n",
       "                           creator   created_t      created_datetime  \\\n",
       "117396             usda-ndb-import  1489137325  2017-03-10T09:15:25Z   \n",
       "313447  openfoodfacts-contributors  1461524196  2016-04-24T18:56:36Z   \n",
       "185180                         sto  1492608144  2017-04-19T13:22:24Z   \n",
       "223479                     kiliweb  1486542773  2017-02-08T08:32:53Z   \n",
       "308069                     neptuno  1488536457  2017-03-03T10:20:57Z   \n",
       "\n",
       "       last_modified_t last_modified_datetime             product_name  \\\n",
       "117396      1489137325   2017-03-10T09:15:25Z         Cream Style Corn   \n",
       "313447      1461524197   2016-04-24T18:56:37Z                DeRuijter   \n",
       "185180      1492608311   2017-04-19T13:25:11Z                   Pommes   \n",
       "223479      1486542902   2017-02-08T08:35:02Z        Coca-cola zéro 2L   \n",
       "308069      1488544599   2017-03-03T12:36:39Z  Postre cremoso de arroz   \n",
       "\n",
       "                                  generic_name           quantity  ...  \\\n",
       "117396                                     NaN                NaN  ...   \n",
       "313447                                     NaN              400 g  ...   \n",
       "185180  Pommes GALA, CAL 136-200g, Catégorie 1             1500 g  ...   \n",
       "223479                                     NaN                NaN  ...   \n",
       "308069                         Postre de arroz  400 g (4 x 100 g)  ...   \n",
       "\n",
       "       ph_100g fruits-vegetables-nuts_100g collagen-meat-protein-ratio_100g  \\\n",
       "117396     NaN                         NaN                              NaN   \n",
       "313447     NaN                         NaN                              NaN   \n",
       "185180     NaN                         NaN                              NaN   \n",
       "223479     NaN                         NaN                              NaN   \n",
       "308069     NaN                         NaN                              NaN   \n",
       "\n",
       "       cocoa_100g chlorophyl_100g carbon-footprint_100g  \\\n",
       "117396        NaN             NaN                   NaN   \n",
       "313447        NaN             NaN                   NaN   \n",
       "185180        NaN             NaN                   NaN   \n",
       "223479        NaN             NaN                   NaN   \n",
       "308069        NaN             NaN                   NaN   \n",
       "\n",
       "       nutrition-score-fr_100g nutrition-score-uk_100g glycemic-index_100g  \\\n",
       "117396                     1.0                     1.0                 NaN   \n",
       "313447                     NaN                     NaN                 NaN   \n",
       "185180                    -5.0                    -5.0                 NaN   \n",
       "223479                     0.0                     0.0                 NaN   \n",
       "308069                    -1.0                    -1.0                 NaN   \n",
       "\n",
       "       water-hardness_100g  \n",
       "117396                 NaN  \n",
       "313447                 NaN  \n",
       "185180                 NaN  \n",
       "223479                 NaN  \n",
       "308069                 NaN  \n",
       "\n",
       "[5 rows x 162 columns]"
      ]
     },
     "execution_count": 367,
     "metadata": {},
     "output_type": "execute_result"
    }
   ],
   "source": [
    "#exemple des données\n",
    "data.sample(5)"
   ]
  },
  {
   "cell_type": "code",
   "execution_count": 368,
   "id": "d2d304d5-b428-4e0a-9ad9-7ab236537108",
   "metadata": {},
   "outputs": [
    {
     "name": "stdout",
     "output_type": "stream",
     "text": [
      "<class 'pandas.core.frame.DataFrame'>\n",
      "RangeIndex: 320772 entries, 0 to 320771\n",
      "Columns: 162 entries, code to water-hardness_100g\n",
      "dtypes: float64(106), object(56)\n",
      "memory usage: 396.5+ MB\n"
     ]
    }
   ],
   "source": [
    "#informations sur le dataframe\n",
    "data.info()"
   ]
  },
  {
   "cell_type": "code",
   "execution_count": 369,
   "id": "01af146c-82ec-4268-8e70-4532e15927f1",
   "metadata": {},
   "outputs": [],
   "source": [
    "pd.set_option('display.max_rows', None)"
   ]
  },
  {
   "cell_type": "code",
   "execution_count": 370,
   "id": "f0dfa169-4327-40f2-8863-31a55b3a25f0",
   "metadata": {
    "tags": []
   },
   "outputs": [
    {
     "data": {
      "text/plain": [
       "code                                              23\n",
       "url                                               23\n",
       "creator                                            2\n",
       "created_t                                          3\n",
       "created_datetime                                   9\n",
       "last_modified_t                                    0\n",
       "last_modified_datetime                             0\n",
       "product_name                                   17762\n",
       "generic_name                                  267977\n",
       "quantity                                      215953\n",
       "packaging                                     241812\n",
       "packaging_tags                                241811\n",
       "brands                                         28412\n",
       "brands_tags                                    28420\n",
       "categories                                    236362\n",
       "categories_tags                               236383\n",
       "categories_fr                                 236361\n",
       "origins                                       298582\n",
       "origins_tags                                  298619\n",
       "manufacturing_places                          284271\n",
       "manufacturing_places_tags                     284277\n",
       "labels                                        274213\n",
       "labels_tags                                   274128\n",
       "labels_fr                                     274106\n",
       "emb_codes                                     291466\n",
       "emb_codes_tags                                291469\n",
       "first_packaging_code_geo                      301969\n",
       "cities                                        320749\n",
       "cities_tags                                   300452\n",
       "purchase_places                               262579\n",
       "stores                                        269050\n",
       "countries                                        280\n",
       "countries_tags                                   280\n",
       "countries_fr                                     280\n",
       "ingredients_text                               71810\n",
       "allergens                                     292428\n",
       "allergens_fr                                  320753\n",
       "traces                                        296419\n",
       "traces_tags                                   296443\n",
       "traces_fr                                     296420\n",
       "serving_size                                  109441\n",
       "no_nutriments                                 320772\n",
       "additives_n                                    71833\n",
       "additives                                      71867\n",
       "additives_tags                                166092\n",
       "additives_fr                                  166092\n",
       "ingredients_from_palm_oil_n                    71833\n",
       "ingredients_from_palm_oil                     320772\n",
       "ingredients_from_palm_oil_tags                315937\n",
       "ingredients_that_may_be_from_palm_oil_n        71833\n",
       "ingredients_that_may_be_from_palm_oil         320772\n",
       "ingredients_that_may_be_from_palm_oil_tags    309076\n",
       "nutrition_grade_uk                            320772\n",
       "nutrition_grade_fr                             99562\n",
       "pnns_groups_1                                 229259\n",
       "pnns_groups_2                                 226281\n",
       "states                                            46\n",
       "states_tags                                       46\n",
       "states_fr                                         46\n",
       "main_category                                 236406\n",
       "main_category_fr                              236406\n",
       "image_url                                     244936\n",
       "image_small_url                               244936\n",
       "energy_100g                                    59659\n",
       "energy-from-fat_100g                          319915\n",
       "fat_100g                                       76881\n",
       "saturated-fat_100g                             91218\n",
       "butyric-acid_100g                             320772\n",
       "caproic-acid_100g                             320772\n",
       "caprylic-acid_100g                            320771\n",
       "capric-acid_100g                              320770\n",
       "lauric-acid_100g                              320768\n",
       "myristic-acid_100g                            320771\n",
       "palmitic-acid_100g                            320771\n",
       "stearic-acid_100g                             320771\n",
       "arachidic-acid_100g                           320748\n",
       "behenic-acid_100g                             320749\n",
       "lignoceric-acid_100g                          320772\n",
       "cerotic-acid_100g                             320772\n",
       "montanic-acid_100g                            320771\n",
       "melissic-acid_100g                            320772\n",
       "monounsaturated-fat_100g                      297949\n",
       "polyunsaturated-fat_100g                      297913\n",
       "omega-3-fat_100g                              319931\n",
       "alpha-linolenic-acid_100g                     320586\n",
       "eicosapentaenoic-acid_100g                    320734\n",
       "docosahexaenoic-acid_100g                     320694\n",
       "omega-6-fat_100g                              320584\n",
       "linoleic-acid_100g                            320623\n",
       "arachidonic-acid_100g                         320764\n",
       "gamma-linolenic-acid_100g                     320748\n",
       "dihomo-gamma-linolenic-acid_100g              320749\n",
       "omega-9-fat_100g                              320751\n",
       "oleic-acid_100g                               320759\n",
       "elaidic-acid_100g                             320772\n",
       "gondoic-acid_100g                             320758\n",
       "mead-acid_100g                                320772\n",
       "erucic-acid_100g                              320772\n",
       "nervonic-acid_100g                            320772\n",
       "trans-fat_100g                                177474\n",
       "cholesterol_100g                              176682\n",
       "carbohydrates_100g                             77184\n",
       "sugars_100g                                    75801\n",
       "sucrose_100g                                  320700\n",
       "glucose_100g                                  320746\n",
       "fructose_100g                                 320734\n",
       "lactose_100g                                  320510\n",
       "maltose_100g                                  320768\n",
       "maltodextrins_100g                            320761\n",
       "starch_100g                                   320506\n",
       "polyols_100g                                  320358\n",
       "fiber_100g                                    119886\n",
       "proteins_100g                                  60850\n",
       "casein_100g                                   320745\n",
       "serum-proteins_100g                           320756\n",
       "nucleotides_100g                              320763\n",
       "salt_100g                                      65262\n",
       "sodium_100g                                    65309\n",
       "alcohol_100g                                  316639\n",
       "vitamin-a_100g                                183218\n",
       "beta-carotene_100g                            320738\n",
       "vitamin-d_100g                                313715\n",
       "vitamin-e_100g                                319432\n",
       "vitamin-k_100g                                319854\n",
       "vitamin-c_100g                                179905\n",
       "vitamin-b1_100g                               309618\n",
       "vitamin-b2_100g                               309957\n",
       "vitamin-pp_100g                               309043\n",
       "vitamin-b6_100g                               313988\n",
       "vitamin-b9_100g                               315532\n",
       "folates_100g                                  317730\n",
       "vitamin-b12_100g                              315472\n",
       "biotin_100g                                   320442\n",
       "pantothenic-acid_100g                         318289\n",
       "silica_100g                                   320734\n",
       "bicarbonate_100g                              320691\n",
       "potassium_100g                                296024\n",
       "chloride_100g                                 320614\n",
       "calcium_100g                                  179722\n",
       "phosphorus_100g                               314927\n",
       "iron_100g                                     180310\n",
       "magnesium_100g                                314519\n",
       "zinc_100g                                     316843\n",
       "copper_100g                                   318666\n",
       "manganese_100g                                319152\n",
       "fluoride_100g                                 320693\n",
       "selenium_100g                                 319604\n",
       "chromium_100g                                 320752\n",
       "molybdenum_100g                               320761\n",
       "iodine_100g                                   320513\n",
       "caffeine_100g                                 320694\n",
       "taurine_100g                                  320743\n",
       "ph_100g                                       320723\n",
       "fruits-vegetables-nuts_100g                   317736\n",
       "collagen-meat-protein-ratio_100g              320607\n",
       "cocoa_100g                                    319824\n",
       "chlorophyl_100g                               320772\n",
       "carbon-footprint_100g                         320504\n",
       "nutrition-score-fr_100g                        99562\n",
       "nutrition-score-uk_100g                        99562\n",
       "glycemic-index_100g                           320772\n",
       "water-hardness_100g                           320772\n",
       "dtype: int64"
      ]
     },
     "execution_count": 370,
     "metadata": {},
     "output_type": "execute_result"
    }
   ],
   "source": [
    "data.isna().sum()"
   ]
  },
  {
   "cell_type": "code",
   "execution_count": 371,
   "id": "b01f2a7a-7954-4b19-a12d-13c64c412830",
   "metadata": {},
   "outputs": [
    {
     "data": {
      "text/plain": [
       "0"
      ]
     },
     "execution_count": 371,
     "metadata": {},
     "output_type": "execute_result"
    }
   ],
   "source": [
    "#verification doublons\n",
    "data.duplicated().sum()"
   ]
  },
  {
   "cell_type": "markdown",
   "id": "1ce20b30-de80-41c6-ab41-6cd621bb4d1e",
   "metadata": {},
   "source": [
    "Le jeu de données comprend 320772 produits et 162 variables, il n'y a pas des doublons.\n",
    "Le jeu de données, comme anticipé sur la page web des définitions des variables, peut être séparé en quatre groupes :\n",
    "\n",
    " - Les informations générales sur le produit : nom, date de modification, etc.\n",
    " - Un ensemble de tags : catégorie du produit, localisation, origine, etc.\n",
    " - Les ingrédients composant les produits et leurs additifs éventuels\n",
    " - Des informations nutritionnelles : quantité en grammes d’un nutriment pour 100 grammes du produit\n",
    " \n",
    "Il y a énormément des valeurs manquantes, mais aussi beaucoup de variables qui ne sont pas utiles à l’application. Je vais donc commencer à filtrer les variables."
   ]
  },
  {
   "cell_type": "markdown",
   "id": "4ed84fd7-3864-4046-8739-1c694d4991e0",
   "metadata": {},
   "source": [
    "## 2.2 Prémiers filtres sur les variables"
   ]
  },
  {
   "cell_type": "markdown",
   "id": "27d069fc-2380-456f-8166-fb40f3b84c81",
   "metadata": {},
   "source": [
    "Je vais réaliser un premier filtre en suppriment la majorité des variables qui ne sont pas liées aux informations nutritionnelles ou au Nutri-score (variables liées aux origines, packaging, labels, huile de palme, pays, addictifs, etc.). Je vais néanmoins garder le code du produit (pour l’identifier à partir d’un scan), ainsi que son nom et url sur Open Food Facts, pour pouvoir les afficher sur l’application. "
   ]
  },
  {
   "cell_type": "code",
   "execution_count": 372,
   "id": "d76d6f33-7384-4604-befb-0aaa963c9818",
   "metadata": {
    "tags": []
   },
   "outputs": [],
   "source": [
    "data = data.drop([\n",
    "    'creator', \n",
    "    'created_t', \n",
    "    'created_datetime', \n",
    "    'last_modified_t', \n",
    "    'last_modified_datetime', \n",
    "    'generic_name', \n",
    "    'quantity', \n",
    "    'packaging', \n",
    "    'packaging_tags', \n",
    "    'brands', \n",
    "    'brands_tags', \n",
    "    'origins', \n",
    "    'origins_tags', \n",
    "    'manufacturing_places', \n",
    "    'manufacturing_places_tags', \n",
    "    'labels', \n",
    "    'labels_tags', \n",
    "    'labels_fr', \n",
    "    'emb_codes', \n",
    "    'emb_codes_tags', \n",
    "    'first_packaging_code_geo', \n",
    "    'cities', \n",
    "    'cities_tags', \n",
    "    'purchase_places', \n",
    "    'stores', \n",
    "    'countries', \n",
    "    'countries_fr', \n",
    "    'countries_tags', \n",
    "    'ingredients_text', \n",
    "    'allergens', \n",
    "    'allergens_fr', \n",
    "    'traces', \n",
    "    'traces_tags', \n",
    "    'traces_fr', \n",
    "    'serving_size', \n",
    "    'no_nutriments', \n",
    "    'additives_n', \n",
    "    'additives', \n",
    "    'additives_tags', \n",
    "    'additives_fr', \n",
    "    'ingredients_from_palm_oil_n', \n",
    "    'ingredients_from_palm_oil', \n",
    "    'ingredients_from_palm_oil_tags', \n",
    "    'ingredients_that_may_be_from_palm_oil_n', \n",
    "    'ingredients_that_may_be_from_palm_oil', \n",
    "    'ingredients_that_may_be_from_palm_oil_tags', \n",
    "    'states', \n",
    "    'states_tags', \n",
    "    'states_fr', \n",
    "    'image_url', \n",
    "    'image_small_url', \n",
    "    'carbon-footprint_100g']\n",
    "    , axis = 1)"
   ]
  },
  {
   "cell_type": "code",
   "execution_count": 373,
   "id": "bb7b5072-b34a-4deb-85d9-eccf6c0689b9",
   "metadata": {},
   "outputs": [
    {
     "data": {
      "text/plain": [
       "(320772, 110)"
      ]
     },
     "execution_count": 373,
     "metadata": {},
     "output_type": "execute_result"
    }
   ],
   "source": [
    "#nombre lignes et colonnes\n",
    "data.shape"
   ]
  },
  {
   "cell_type": "markdown",
   "id": "64392c71-5339-4e52-8e80-2b874ebff4bd",
   "metadata": {},
   "source": [
    "Ainsi, les variables ont été réduites à 110"
   ]
  },
  {
   "cell_type": "markdown",
   "id": "bc0e6b1b-f067-434b-89e0-035964927527",
   "metadata": {},
   "source": [
    "Aussi, je ne vais pas m'intéresser aux acides: même si certains acides pourraient apporter des bienfaits, il ne sont pas liés au nombre des calories ou au Nutri-score."
   ]
  },
  {
   "cell_type": "code",
   "execution_count": 374,
   "id": "7b7b3dd3-1b90-4fcb-a130-a850fd1597e0",
   "metadata": {},
   "outputs": [],
   "source": [
    "#filtre pour eliminer les acides\n",
    "data = data.loc[:,~data.columns.str.contains(\"acid\")]"
   ]
  },
  {
   "cell_type": "code",
   "execution_count": 375,
   "id": "c7f21db3-bd28-4da6-b76f-7bc8c2e8c4ef",
   "metadata": {},
   "outputs": [
    {
     "data": {
      "text/plain": [
       "(320772, 82)"
      ]
     },
     "execution_count": 375,
     "metadata": {},
     "output_type": "execute_result"
    }
   ],
   "source": [
    "#nombre lignes et colonnes\n",
    "data.shape"
   ]
  },
  {
   "cell_type": "markdown",
   "id": "08eb5744-eb06-4c8c-8de8-cb26a22c9f55",
   "metadata": {},
   "source": [
    "Maintenant, il devient plus facile d’examiner les variables. \n"
   ]
  },
  {
   "cell_type": "code",
   "execution_count": 376,
   "id": "c15ce08f-fc75-456c-b9e4-6bed225d1b35",
   "metadata": {},
   "outputs": [
    {
     "data": {
      "text/plain": [
       "Index(['code', 'url', 'product_name', 'categories', 'categories_tags',\n",
       "       'categories_fr', 'nutrition_grade_uk', 'nutrition_grade_fr',\n",
       "       'pnns_groups_1', 'pnns_groups_2', 'main_category', 'main_category_fr',\n",
       "       'energy_100g', 'energy-from-fat_100g', 'fat_100g', 'saturated-fat_100g',\n",
       "       'monounsaturated-fat_100g', 'polyunsaturated-fat_100g',\n",
       "       'omega-3-fat_100g', 'omega-6-fat_100g', 'omega-9-fat_100g',\n",
       "       'trans-fat_100g', 'cholesterol_100g', 'carbohydrates_100g',\n",
       "       'sugars_100g', 'sucrose_100g', 'glucose_100g', 'fructose_100g',\n",
       "       'lactose_100g', 'maltose_100g', 'maltodextrins_100g', 'starch_100g',\n",
       "       'polyols_100g', 'fiber_100g', 'proteins_100g', 'casein_100g',\n",
       "       'serum-proteins_100g', 'nucleotides_100g', 'salt_100g', 'sodium_100g',\n",
       "       'alcohol_100g', 'vitamin-a_100g', 'beta-carotene_100g',\n",
       "       'vitamin-d_100g', 'vitamin-e_100g', 'vitamin-k_100g', 'vitamin-c_100g',\n",
       "       'vitamin-b1_100g', 'vitamin-b2_100g', 'vitamin-pp_100g',\n",
       "       'vitamin-b6_100g', 'vitamin-b9_100g', 'folates_100g',\n",
       "       'vitamin-b12_100g', 'biotin_100g', 'silica_100g', 'bicarbonate_100g',\n",
       "       'potassium_100g', 'chloride_100g', 'calcium_100g', 'phosphorus_100g',\n",
       "       'iron_100g', 'magnesium_100g', 'zinc_100g', 'copper_100g',\n",
       "       'manganese_100g', 'fluoride_100g', 'selenium_100g', 'chromium_100g',\n",
       "       'molybdenum_100g', 'iodine_100g', 'caffeine_100g', 'taurine_100g',\n",
       "       'ph_100g', 'fruits-vegetables-nuts_100g',\n",
       "       'collagen-meat-protein-ratio_100g', 'cocoa_100g', 'chlorophyl_100g',\n",
       "       'nutrition-score-fr_100g', 'nutrition-score-uk_100g',\n",
       "       'glycemic-index_100g', 'water-hardness_100g'],\n",
       "      dtype='object')"
      ]
     },
     "execution_count": 376,
     "metadata": {},
     "output_type": "execute_result"
    }
   ],
   "source": [
    "#liste des variables\n",
    "data.columns"
   ]
  },
  {
   "cell_type": "markdown",
   "id": "f149e736-b3ec-4ffa-8c83-f6042207589f",
   "metadata": {},
   "source": [
    "Après ces premiers filtres, parmi les variables qui restent, je ne vais garder que les macronutriments (glucides,  gras, et proteines) et les éléments qui contribuent au Nutri-Score : apport énergétique, acides gras saturés,  fibres et teneur en sel. (Pour plus de détails : https://www.santepubliquefrance.fr/media/files/02-determinants-de-sante/nutrition-et-activite-physique/nutri-score/qr-scientifique-technique). \n",
    "\n",
    "Je vais également garder toutes les variables liées aux vitamines : en effet les vitamines sont prises en compte dans le Nutri-Score par la teneur minimale en fruits, légumes, légumineuses, fruits à coque et huiles de colza, de noix et d’olive. Dans le jeu des données, il s’agit de la variable `fruits-vegetables-nuts_100g`, constituée à 99% des valeurs manquantes. Dans la suite, je vais essayer créer une variable liée à la somme de vitamines pour remplacer la variable `fruits-vegetables-nuts_100g`.\n"
   ]
  },
  {
   "cell_type": "code",
   "execution_count": 377,
   "id": "262ad7fe-a4ce-4e24-ab8d-6070e107955f",
   "metadata": {},
   "outputs": [],
   "source": [
    "#variables à supprimer\n",
    "to_drop = [\n",
    "    'energy-from-fat_100g', \n",
    "    'monounsaturated-fat_100g', \n",
    "    'polyunsaturated-fat_100g', \n",
    "    'omega-3-fat_100g', \n",
    "    'omega-6-fat_100g', \n",
    "    'omega-9-fat_100g', \n",
    "    'trans-fat_100g', \n",
    "    'cholesterol_100g', \n",
    "    'sucrose_100g', \n",
    "    'glucose_100g', \n",
    "    'fructose_100g', \n",
    "    'lactose_100g', \n",
    "    'maltose_100g', \n",
    "    'maltodextrins_100g', \n",
    "    'starch_100g', \n",
    "    'polyols_100g', \n",
    "    'casein_100g', \n",
    "    'serum-proteins_100g', \n",
    "    'nucleotides_100g', \n",
    "    'folates_100g', \n",
    "    'biotin_100g', \n",
    "    'silica_100g', \n",
    "    'bicarbonate_100g', \n",
    "    'potassium_100g', \n",
    "    'chloride_100g', \n",
    "    'calcium_100g', \n",
    "    'phosphorus_100g', \n",
    "    'iron_100g', \n",
    "    'magnesium_100g', \n",
    "    'zinc_100g', \n",
    "    'copper_100g', \n",
    "    'manganese_100g', \n",
    "    'fluoride_100g', \n",
    "    'selenium_100g', \n",
    "    'chromium_100g', \n",
    "    'molybdenum_100g', \n",
    "    'iodine_100g', \n",
    "    'caffeine_100g', \n",
    "    'taurine_100g', \n",
    "    'ph_100g', \n",
    "    'collagen-meat-protein-ratio_100g', \n",
    "    'cocoa_100g', \n",
    "    'chlorophyl_100g', \n",
    "    'glycemic-index_100g', \n",
    "    'water-hardness_100g', \n",
    "    'alcohol_100g']"
   ]
  },
  {
   "cell_type": "code",
   "execution_count": 378,
   "id": "6e222ef8-84ea-4d09-a1df-c706cf51e090",
   "metadata": {},
   "outputs": [],
   "source": [
    "#on drop les variables pas interessantes\n",
    "data = data.drop(to_drop, axis = 1)"
   ]
  },
  {
   "cell_type": "code",
   "execution_count": 379,
   "id": "3b48afe3-c6f5-4a48-b686-9def486efa1f",
   "metadata": {},
   "outputs": [
    {
     "data": {
      "text/plain": [
       "(320772, 36)"
      ]
     },
     "execution_count": 379,
     "metadata": {},
     "output_type": "execute_result"
    }
   ],
   "source": [
    "#nombre des lignes et colonnes\n",
    "data.shape"
   ]
  },
  {
   "cell_type": "markdown",
   "id": "021a4432-3d99-4a55-8c8d-f163a41b7edb",
   "metadata": {},
   "source": [
    "Ainsi, les variables ont été réduites à 36"
   ]
  },
  {
   "cell_type": "code",
   "execution_count": 380,
   "id": "ff786cb0-52fe-4bbb-aaf6-e6e0ce41494c",
   "metadata": {},
   "outputs": [],
   "source": [
    "#sauvegarde dataframe\n",
    "data.to_csv('Data/Cleaning/first_filter_columns.csv', index = False)"
   ]
  },
  {
   "cell_type": "markdown",
   "id": "c2ca2ac9-ea8b-47f2-9173-f4326eed2bca",
   "metadata": {},
   "source": [
    "# 3. Analyses préliminaires"
   ]
  },
  {
   "cell_type": "code",
   "execution_count": 381,
   "id": "52a4b247-f9b1-4d56-8c8b-1e2457f16951",
   "metadata": {},
   "outputs": [],
   "source": [
    "#lecture données\n",
    "data = pd.read_csv('Data/Cleaning/first_filter_columns.csv', low_memory=False)"
   ]
  },
  {
   "cell_type": "markdown",
   "id": "5fb4c252-57b5-49f5-b1f4-d53cc3ffa50b",
   "metadata": {},
   "source": [
    "Maintenant que j'ai réduit le nombre variables, je peux analyser plus en détail les variables d'intérêt."
   ]
  },
  {
   "cell_type": "code",
   "execution_count": 383,
   "id": "cbb4b11c-7d86-45c8-905d-c4cce5434d95",
   "metadata": {},
   "outputs": [
    {
     "data": {
      "text/plain": [
       "code                           0.000072\n",
       "url                            0.000072\n",
       "product_name                   0.055373\n",
       "energy_100g                    0.185986\n",
       "proteins_100g                  0.189699\n",
       "salt_100g                      0.203453\n",
       "sodium_100g                    0.203599\n",
       "sugars_100g                    0.236308\n",
       "fat_100g                       0.239675\n",
       "carbohydrates_100g             0.240620\n",
       "saturated-fat_100g             0.284370\n",
       "nutrition-score-fr_100g        0.310382\n",
       "nutrition-score-uk_100g        0.310382\n",
       "nutrition_grade_fr             0.310382\n",
       "fiber_100g                     0.373742\n",
       "vitamin-c_100g                 0.560850\n",
       "vitamin-a_100g                 0.571178\n",
       "pnns_groups_2                  0.705426\n",
       "pnns_groups_1                  0.714710\n",
       "categories_fr                  0.736850\n",
       "categories                     0.736854\n",
       "categories_tags                0.736919\n",
       "main_category_fr               0.736991\n",
       "main_category                  0.736991\n",
       "vitamin-pp_100g                0.963435\n",
       "vitamin-b1_100g                0.965228\n",
       "vitamin-b2_100g                0.966284\n",
       "vitamin-d_100g                 0.978000\n",
       "vitamin-b6_100g                0.978851\n",
       "vitamin-b12_100g               0.983477\n",
       "vitamin-b9_100g                0.983664\n",
       "fruits-vegetables-nuts_100g    0.990535\n",
       "vitamin-e_100g                 0.995823\n",
       "vitamin-k_100g                 0.997138\n",
       "beta-carotene_100g             0.999894\n",
       "nutrition_grade_uk             1.000000\n",
       "dtype: float64"
      ]
     },
     "execution_count": 383,
     "metadata": {},
     "output_type": "execute_result"
    }
   ],
   "source": [
    "#taux valeurs manquantes\n",
    "(data.isna().sum()/data.shape[0]).sort_values()"
   ]
  },
  {
   "cell_type": "markdown",
   "id": "9372cbc0-8fd0-4eec-83d5-ffb10afe1f9f",
   "metadata": {},
   "source": [
    "On peut identifier 4 groupes de variables qui ont aussi un taux de valeurs manquantes similaire :\n",
    " - Informations nutritionnelles : valeurs manquantes entre 19 et 37%\n",
    " - Vitamines : valeurs manquantes > 96 %\n",
    " - Catégories du produit : valeurs manquantes autour de 73%\n",
    " - Nutri-score : sauf nutrition-grade_uk, qui en principe devrait être la 'note' comprise antre A e E, les autres variables ont un taux de valeur manquantes de 31%\n",
    "\n",
    "Je vais effectuer une analyse pour chacun de ces groupes, pour mieux comprendre les données, éventuellement faire des filtres supplémentaires sur les variables et déjà commencer à supprimer des valeurs manquantes ou aberrantes.\n"
   ]
  },
  {
   "cell_type": "markdown",
   "id": "4252607e-ee1b-415f-886e-d53872dbfba5",
   "metadata": {},
   "source": [
    "## 3.1 Analyse des informations nutritionelles"
   ]
  },
  {
   "cell_type": "markdown",
   "id": "e61ec83d-6d6a-4041-9a60-db090af54389",
   "metadata": {},
   "source": [
    "Ce groupe comprend les macronutriments et les éléments contribuant au Nutri-score (hormis la teneur en fruits-vegetables-nuts)."
   ]
  },
  {
   "cell_type": "code",
   "execution_count": 384,
   "id": "7cdc1cc4-c53f-4fc3-ba94-7c251b563c2e",
   "metadata": {},
   "outputs": [],
   "source": [
    "#variables liées aux informations nutritionelles et/ou nutriscore\n",
    "nutrients_columns = [ \n",
    "    'fat_100g', \n",
    "    'saturated-fat_100g', \n",
    "    'carbohydrates_100g',\n",
    "    'sugars_100g', \n",
    "    'fiber_100g', \n",
    "    'proteins_100g', \n",
    "    'salt_100g',\n",
    "    'sodium_100g'\n",
    "                    ]\n",
    "nutrients = data[nutrients_columns]"
   ]
  },
  {
   "cell_type": "code",
   "execution_count": 385,
   "id": "c4928b96-94ea-4251-9f9f-89f2dde5e9e5",
   "metadata": {},
   "outputs": [
    {
     "data": {
      "text/plain": [
       "fat_100g              float64\n",
       "saturated-fat_100g    float64\n",
       "carbohydrates_100g    float64\n",
       "sugars_100g           float64\n",
       "fiber_100g            float64\n",
       "proteins_100g         float64\n",
       "salt_100g             float64\n",
       "sodium_100g           float64\n",
       "dtype: object"
      ]
     },
     "execution_count": 385,
     "metadata": {},
     "output_type": "execute_result"
    }
   ],
   "source": [
    "#type des donnés\n",
    "nutrients.dtypes"
   ]
  },
  {
   "cell_type": "markdown",
   "id": "d2b2c23b-7c0b-4343-a93e-cf8a003cda36",
   "metadata": {},
   "source": [
    "Toutes les variables sont des variables numeriques"
   ]
  },
  {
   "cell_type": "markdown",
   "id": "c2d97392-e20c-43a3-b41a-433472c8c3c8",
   "metadata": {},
   "source": [
    "On peut remarquer qu'il y a deux variables liées à la teneur en sel : `salt_100g` et `sodium_100g`. Selon le document https://www.santepubliquefrance.fr/media/files/02-determinants-de-sante/nutrition-et-activite-physique/nutri-score/qr-scientifique-technique, pour calculer la contribution du sel au Nutri-score il faut diviser le contenu en sel par 2.5. Je vais analyser les 2 variables en considérant cette information."
   ]
  },
  {
   "cell_type": "markdown",
   "id": "e1ad74e8-deb1-4fe4-ac16-c63fcaf9b3ff",
   "metadata": {
    "tags": []
   },
   "source": [
    "### A. Analyse des variables salt et sodium"
   ]
  },
  {
   "cell_type": "code",
   "execution_count": 386,
   "id": "2ead9c10-0b0b-4b5e-a623-c918eba370c9",
   "metadata": {},
   "outputs": [
    {
     "data": {
      "text/html": [
       "<div>\n",
       "<style scoped>\n",
       "    .dataframe tbody tr th:only-of-type {\n",
       "        vertical-align: middle;\n",
       "    }\n",
       "\n",
       "    .dataframe tbody tr th {\n",
       "        vertical-align: top;\n",
       "    }\n",
       "\n",
       "    .dataframe thead th {\n",
       "        text-align: right;\n",
       "    }\n",
       "</style>\n",
       "<table border=\"1\" class=\"dataframe\">\n",
       "  <thead>\n",
       "    <tr style=\"text-align: right;\">\n",
       "      <th></th>\n",
       "      <th>salt_100g</th>\n",
       "      <th>sodium_100g</th>\n",
       "    </tr>\n",
       "  </thead>\n",
       "  <tbody>\n",
       "    <tr>\n",
       "      <th>39834</th>\n",
       "      <td>0.02540</td>\n",
       "      <td>0.010000</td>\n",
       "    </tr>\n",
       "    <tr>\n",
       "      <th>251480</th>\n",
       "      <td>0.18000</td>\n",
       "      <td>0.070866</td>\n",
       "    </tr>\n",
       "    <tr>\n",
       "      <th>212257</th>\n",
       "      <td>5.27000</td>\n",
       "      <td>2.074803</td>\n",
       "    </tr>\n",
       "    <tr>\n",
       "      <th>150527</th>\n",
       "      <td>0.76200</td>\n",
       "      <td>0.300000</td>\n",
       "    </tr>\n",
       "    <tr>\n",
       "      <th>241835</th>\n",
       "      <td>0.15000</td>\n",
       "      <td>0.059055</td>\n",
       "    </tr>\n",
       "    <tr>\n",
       "      <th>15152</th>\n",
       "      <td>0.28448</td>\n",
       "      <td>0.112000</td>\n",
       "    </tr>\n",
       "    <tr>\n",
       "      <th>250624</th>\n",
       "      <td>NaN</td>\n",
       "      <td>NaN</td>\n",
       "    </tr>\n",
       "    <tr>\n",
       "      <th>298908</th>\n",
       "      <td>0.69000</td>\n",
       "      <td>0.271654</td>\n",
       "    </tr>\n",
       "    <tr>\n",
       "      <th>155173</th>\n",
       "      <td>0.03810</td>\n",
       "      <td>0.015000</td>\n",
       "    </tr>\n",
       "    <tr>\n",
       "      <th>98105</th>\n",
       "      <td>0.00000</td>\n",
       "      <td>0.000000</td>\n",
       "    </tr>\n",
       "  </tbody>\n",
       "</table>\n",
       "</div>"
      ],
      "text/plain": [
       "        salt_100g  sodium_100g\n",
       "39834     0.02540     0.010000\n",
       "251480    0.18000     0.070866\n",
       "212257    5.27000     2.074803\n",
       "150527    0.76200     0.300000\n",
       "241835    0.15000     0.059055\n",
       "15152     0.28448     0.112000\n",
       "250624        NaN          NaN\n",
       "298908    0.69000     0.271654\n",
       "155173    0.03810     0.015000\n",
       "98105     0.00000     0.000000"
      ]
     },
     "execution_count": 386,
     "metadata": {},
     "output_type": "execute_result"
    }
   ],
   "source": [
    "#sample de 10 valeurs de salt et sodium\n",
    "nutrients[['salt_100g','sodium_100g']].sample(10)"
   ]
  },
  {
   "cell_type": "markdown",
   "id": "683966ee-fe45-47ad-af33-99863bdc023d",
   "metadata": {},
   "source": [
    "En comparant les deux variables, il semble raisonnable de penser que `sodium_100g` correspond à `salt_100g` divisé par 2.5\n",
    "Pour le vérifier, je vais comparer la distribution de la variable salt_100 g divisée par 2.5 et de la variable sodium_100g."
   ]
  },
  {
   "cell_type": "code",
   "execution_count": 387,
   "id": "2dc18eec-6e2b-4d2b-ae95-b326d766379e",
   "metadata": {},
   "outputs": [],
   "source": [
    "#nouveau dataframe pour la comparaision de salt_100g et sodium_100g, en gardant que les valeurs non nulles\n",
    "salt_data = nutrients.loc[nutrients['salt_100g'].notna() & nutrients['sodium_100g'].notna(), ['salt_100g','sodium_100g']]"
   ]
  },
  {
   "cell_type": "code",
   "execution_count": 388,
   "id": "1e587632-b8a2-4772-bfb9-40e1e1ca4c46",
   "metadata": {},
   "outputs": [],
   "source": [
    "#initialization de la variable sel/2.5\n",
    "salt_data['salt_100g/2.5'] = (salt_data['salt_100g']/2.5)\n",
    "salt_data.drop('salt_100g', axis = 1, inplace=True)"
   ]
  },
  {
   "cell_type": "code",
   "execution_count": 389,
   "id": "8ac68cb3-2cc0-4889-9925-5514d148496a",
   "metadata": {},
   "outputs": [
    {
     "data": {
      "text/html": [
       "<div>\n",
       "<style scoped>\n",
       "    .dataframe tbody tr th:only-of-type {\n",
       "        vertical-align: middle;\n",
       "    }\n",
       "\n",
       "    .dataframe tbody tr th {\n",
       "        vertical-align: top;\n",
       "    }\n",
       "\n",
       "    .dataframe thead th {\n",
       "        text-align: right;\n",
       "    }\n",
       "</style>\n",
       "<table border=\"1\" class=\"dataframe\">\n",
       "  <thead>\n",
       "    <tr style=\"text-align: right;\">\n",
       "      <th></th>\n",
       "      <th>sodium_100g</th>\n",
       "      <th>salt_100g/2.5</th>\n",
       "    </tr>\n",
       "  </thead>\n",
       "  <tbody>\n",
       "    <tr>\n",
       "      <th>count</th>\n",
       "      <td>255463.000000</td>\n",
       "      <td>255463.000000</td>\n",
       "    </tr>\n",
       "    <tr>\n",
       "      <th>mean</th>\n",
       "      <td>0.798815</td>\n",
       "      <td>0.811598</td>\n",
       "    </tr>\n",
       "    <tr>\n",
       "      <th>std</th>\n",
       "      <td>50.504428</td>\n",
       "      <td>51.312500</td>\n",
       "    </tr>\n",
       "    <tr>\n",
       "      <th>min</th>\n",
       "      <td>0.000000</td>\n",
       "      <td>0.000000</td>\n",
       "    </tr>\n",
       "    <tr>\n",
       "      <th>25%</th>\n",
       "      <td>0.025000</td>\n",
       "      <td>0.025400</td>\n",
       "    </tr>\n",
       "    <tr>\n",
       "      <th>50%</th>\n",
       "      <td>0.229000</td>\n",
       "      <td>0.232664</td>\n",
       "    </tr>\n",
       "    <tr>\n",
       "      <th>75%</th>\n",
       "      <td>0.541000</td>\n",
       "      <td>0.549656</td>\n",
       "    </tr>\n",
       "    <tr>\n",
       "      <th>max</th>\n",
       "      <td>25320.000000</td>\n",
       "      <td>25725.120000</td>\n",
       "    </tr>\n",
       "  </tbody>\n",
       "</table>\n",
       "</div>"
      ],
      "text/plain": [
       "         sodium_100g  salt_100g/2.5\n",
       "count  255463.000000  255463.000000\n",
       "mean        0.798815       0.811598\n",
       "std        50.504428      51.312500\n",
       "min         0.000000       0.000000\n",
       "25%         0.025000       0.025400\n",
       "50%         0.229000       0.232664\n",
       "75%         0.541000       0.549656\n",
       "max     25320.000000   25725.120000"
      ]
     },
     "execution_count": 389,
     "metadata": {},
     "output_type": "execute_result"
    }
   ],
   "source": [
    "salt_data.describe()"
   ]
  },
  {
   "cell_type": "markdown",
   "id": "42984b75-622f-4c1c-ab5b-ec70682d80b0",
   "metadata": {},
   "source": [
    "En effet, les données semblent très similaires (moyenne, déviation standard et médiane sont proches). Cependant, on peut remarquer des valeurs aberrantes (la teneur maximale pour 100 g est de 25320 g, ce qui n'a pas de sens. Je vais donc filtrer pour ne garder que les valeurs inferieurs à 40 (40 = 100/2.5) ). Aussi, les valeurs de `salt_100g/2.5` semblent être légèrement supérieurs à ceux de `sodium_100g`, il pourrait s'agir d'un souci d'arrondis. Afin de vérifier que les distributions sont les mêmes (à un facteur près), je vais faire un scaling MinMax"
   ]
  },
  {
   "cell_type": "code",
   "execution_count": 390,
   "id": "e0da84ef-a0b7-48b8-b09a-751b0c149fe2",
   "metadata": {},
   "outputs": [],
   "source": [
    "#filtre pour éliminer les valeurs aberrantes\n",
    "salt_data = salt_data[(salt_data['sodium_100g'] <= 40)]\n",
    "\n",
    "#scalung des données\n",
    "scaler_salt = MinMaxScaler()\n",
    "scaled_data = pd.DataFrame(scaler_salt.fit_transform(salt_data), columns = salt_data.columns)"
   ]
  },
  {
   "cell_type": "code",
   "execution_count": 391,
   "id": "dd556e44-c20e-471f-978e-734e03880b62",
   "metadata": {},
   "outputs": [
    {
     "data": {
      "image/png": "[encoded data removed]",
      "text/plain": [
       "<Figure size 464x360 with 1 Axes>"
      ]
     },
     "metadata": {
      "needs_background": "light"
     },
     "output_type": "display_data"
    }
   ],
   "source": [
    "sns.displot(scaled_data, kind = 'kde')\n",
    "plt.xlim(-0.05, 0.5)\n",
    "plt.title('Comparaison de la distribution des variables salt_100g/2.5 et sodium_100g')\n",
    "plt.xlabel('Teneur en sel (g)')\n",
    "plt.ylabel('Densité')\n",
    "plt.tick_params(direction = 'in')"
   ]
  },
  {
   "cell_type": "markdown",
   "id": "818c4d88-b216-4fb8-93c6-60feb4ea6c1c",
   "metadata": {
    "tags": []
   },
   "source": [
    "Visuellement, les distributions semblent se superposer.\n",
    "Le test de Wilcoxon-Mann-Whitney est un test statistique non paramétrique qui permet de tester l'hypothèse selon laquelle les distributions de chacun de deux groupes de données sont proches. Je vais l'utiliser pour comparer les données (niveau de confiance 95%). \n",
    "L'hypotese nulle est que les distributions sont proches."
   ]
  },
  {
   "cell_type": "code",
   "execution_count": 392,
   "id": "d0b2c860-ff8b-4f61-855d-4006239de18e",
   "metadata": {},
   "outputs": [
    {
     "data": {
      "text/plain": [
       "MannwhitneyuResult(statistic=32506514568.0, pvalue=0.06936215885596865)"
      ]
     },
     "execution_count": 392,
     "metadata": {},
     "output_type": "execute_result"
    }
   ],
   "source": [
    "#test de Wilcoxon-Mann-Whitney \n",
    "mannwhitneyu(scaled_data['salt_100g/2.5'], scaled_data['sodium_100g'])\n"
   ]
  },
  {
   "cell_type": "markdown",
   "id": "370b6f85-1bac-493c-98a1-cbb68071256f",
   "metadata": {},
   "source": [
    "La valeur p est petite mais supérieure à 0.05. Je ne peux donc pas rejeter l'hypothèse nulle et je peux considérer les deux distributions équivalentes. Je ne vais garder qu'une seule des deux variable: celle avec moins de valeurs mancantes, c'est à dire le salt_100g."
   ]
  },
  {
   "cell_type": "code",
   "execution_count": 393,
   "id": "3c416b49-42c1-4beb-ab9d-b9f18532926b",
   "metadata": {},
   "outputs": [
    {
     "name": "stderr",
     "output_type": "stream",
     "text": [
      "C:\\Users\\elena\\AppData\\Local\\Temp\\ipykernel_19900\\1544006373.py:3: SettingWithCopyWarning: \n",
      "A value is trying to be set on a copy of a slice from a DataFrame\n",
      "\n",
      "See the caveats in the documentation: https://pandas.pydata.org/pandas-docs/stable/user_guide/indexing.html#returning-a-view-versus-a-copy\n",
      "  nutrients.drop('sodium_100g', axis = 1, inplace = True)\n"
     ]
    }
   ],
   "source": [
    "#supression variable sodium\n",
    "data.drop('sodium_100g', axis = 1, inplace = True)\n",
    "nutrients.drop('sodium_100g', axis = 1, inplace = True)"
   ]
  },
  {
   "cell_type": "markdown",
   "id": "07cadc26-f771-439b-bbf0-4bef456774b0",
   "metadata": {},
   "source": [
    "### B. Analyse des nutriments"
   ]
  },
  {
   "cell_type": "markdown",
   "id": "ac688c7f-2390-41c4-b655-95317f92f116",
   "metadata": {},
   "source": [
    "Maintenant, je vais examiner les autres informations nutritionelles."
   ]
  },
  {
   "cell_type": "code",
   "execution_count": 394,
   "id": "b7add142-9ad9-46e3-9017-22bf0cf451d7",
   "metadata": {},
   "outputs": [
    {
     "data": {
      "text/html": [
       "<div>\n",
       "<style scoped>\n",
       "    .dataframe tbody tr th:only-of-type {\n",
       "        vertical-align: middle;\n",
       "    }\n",
       "\n",
       "    .dataframe tbody tr th {\n",
       "        vertical-align: top;\n",
       "    }\n",
       "\n",
       "    .dataframe thead th {\n",
       "        text-align: right;\n",
       "    }\n",
       "</style>\n",
       "<table border=\"1\" class=\"dataframe\">\n",
       "  <thead>\n",
       "    <tr style=\"text-align: right;\">\n",
       "      <th></th>\n",
       "      <th>fat_100g</th>\n",
       "      <th>saturated-fat_100g</th>\n",
       "      <th>carbohydrates_100g</th>\n",
       "      <th>sugars_100g</th>\n",
       "      <th>fiber_100g</th>\n",
       "      <th>proteins_100g</th>\n",
       "      <th>salt_100g</th>\n",
       "    </tr>\n",
       "  </thead>\n",
       "  <tbody>\n",
       "    <tr>\n",
       "      <th>count</th>\n",
       "      <td>243891.000000</td>\n",
       "      <td>229554.000000</td>\n",
       "      <td>243588.000000</td>\n",
       "      <td>244971.000000</td>\n",
       "      <td>200886.000000</td>\n",
       "      <td>259922.000000</td>\n",
       "      <td>255510.000000</td>\n",
       "    </tr>\n",
       "    <tr>\n",
       "      <th>mean</th>\n",
       "      <td>12.730379</td>\n",
       "      <td>5.129932</td>\n",
       "      <td>32.073981</td>\n",
       "      <td>16.003484</td>\n",
       "      <td>2.862111</td>\n",
       "      <td>7.075940</td>\n",
       "      <td>2.028624</td>\n",
       "    </tr>\n",
       "    <tr>\n",
       "      <th>std</th>\n",
       "      <td>17.578747</td>\n",
       "      <td>8.014238</td>\n",
       "      <td>29.731719</td>\n",
       "      <td>22.327284</td>\n",
       "      <td>12.867578</td>\n",
       "      <td>8.409054</td>\n",
       "      <td>128.269454</td>\n",
       "    </tr>\n",
       "    <tr>\n",
       "      <th>min</th>\n",
       "      <td>0.000000</td>\n",
       "      <td>0.000000</td>\n",
       "      <td>0.000000</td>\n",
       "      <td>-17.860000</td>\n",
       "      <td>-6.700000</td>\n",
       "      <td>-800.000000</td>\n",
       "      <td>0.000000</td>\n",
       "    </tr>\n",
       "    <tr>\n",
       "      <th>25%</th>\n",
       "      <td>0.000000</td>\n",
       "      <td>0.000000</td>\n",
       "      <td>6.000000</td>\n",
       "      <td>1.300000</td>\n",
       "      <td>0.000000</td>\n",
       "      <td>0.700000</td>\n",
       "      <td>0.063500</td>\n",
       "    </tr>\n",
       "    <tr>\n",
       "      <th>50%</th>\n",
       "      <td>5.000000</td>\n",
       "      <td>1.790000</td>\n",
       "      <td>20.600000</td>\n",
       "      <td>5.710000</td>\n",
       "      <td>1.500000</td>\n",
       "      <td>4.760000</td>\n",
       "      <td>0.581660</td>\n",
       "    </tr>\n",
       "    <tr>\n",
       "      <th>75%</th>\n",
       "      <td>20.000000</td>\n",
       "      <td>7.140000</td>\n",
       "      <td>58.330000</td>\n",
       "      <td>24.000000</td>\n",
       "      <td>3.600000</td>\n",
       "      <td>10.000000</td>\n",
       "      <td>1.374140</td>\n",
       "    </tr>\n",
       "    <tr>\n",
       "      <th>max</th>\n",
       "      <td>714.290000</td>\n",
       "      <td>550.000000</td>\n",
       "      <td>2916.670000</td>\n",
       "      <td>3520.000000</td>\n",
       "      <td>5380.000000</td>\n",
       "      <td>430.000000</td>\n",
       "      <td>64312.800000</td>\n",
       "    </tr>\n",
       "  </tbody>\n",
       "</table>\n",
       "</div>"
      ],
      "text/plain": [
       "            fat_100g  saturated-fat_100g  carbohydrates_100g    sugars_100g  \\\n",
       "count  243891.000000       229554.000000       243588.000000  244971.000000   \n",
       "mean       12.730379            5.129932           32.073981      16.003484   \n",
       "std        17.578747            8.014238           29.731719      22.327284   \n",
       "min         0.000000            0.000000            0.000000     -17.860000   \n",
       "25%         0.000000            0.000000            6.000000       1.300000   \n",
       "50%         5.000000            1.790000           20.600000       5.710000   \n",
       "75%        20.000000            7.140000           58.330000      24.000000   \n",
       "max       714.290000          550.000000         2916.670000    3520.000000   \n",
       "\n",
       "          fiber_100g  proteins_100g      salt_100g  \n",
       "count  200886.000000  259922.000000  255510.000000  \n",
       "mean        2.862111       7.075940       2.028624  \n",
       "std        12.867578       8.409054     128.269454  \n",
       "min        -6.700000    -800.000000       0.000000  \n",
       "25%         0.000000       0.700000       0.063500  \n",
       "50%         1.500000       4.760000       0.581660  \n",
       "75%         3.600000      10.000000       1.374140  \n",
       "max      5380.000000     430.000000   64312.800000  "
      ]
     },
     "execution_count": 394,
     "metadata": {},
     "output_type": "execute_result"
    }
   ],
   "source": [
    "#informations statistiques\n",
    "nutrients.describe()"
   ]
  },
  {
   "cell_type": "markdown",
   "id": "7b4822f6-c91f-405c-9a77-3f69cafc2b50",
   "metadata": {},
   "source": [
    "En considérant les minimas et maximas pour chaque variable, il est évident qu'il y a des valeurs aberrantes : en effet, il n'est pas possible que la teneur pour 100 g soit inférieure à 0 ou supérieure à 100. \n",
    "\n",
    "Il peut y avoir des produits constitués à presque 100% de glucides, gras ou protéines. Par contre, il ne serait pas raisonnable de garder des produits avec une teneur en fibres de plus de 60g : en effet, un des aliments le plus riche en fibre est le son de blé (dont la teneur est comprise entre 48g et 55g).\n",
    "\n",
    "https://fr.wikipedia.org/wiki/Fibre_alimentaire\n",
    "\n",
    "De même pour le sel: il est certain que le sel de cuisine est composé à 100% de sel, mais la plupart des produits n'ont même pas une teneur de 10g. - Par exemple, la sauce soja, très salée, a une teneur de 5/6 g pour 100 mL. Le viandes et poissons fumés contiennent 2000 à 10000 mg de sodium.\n",
    "\n",
    "Ainsi, La fonction `remove_outliers_nutrients` supprime tous les produits avec des valeurs nutritionnelles qui ne sont pas comprises entre 0g e 100g, pour les fibres entre 0g et 60g et pour le sel entre 0g et 10g. (La fonction ne supprime pas les valeurs manquantes, qui seront traitées successivement).\n",
    "\n"
   ]
  },
  {
   "cell_type": "code",
   "execution_count": 395,
   "id": "76f0af73-43c8-4321-9db1-5a0e03bbde09",
   "metadata": {},
   "outputs": [],
   "source": [
    "#application de la fonction pour enlever les valeurs aberrants\n",
    "data = remove_outliers_nutrients(data, nutrients.columns)"
   ]
  },
  {
   "cell_type": "code",
   "execution_count": 396,
   "id": "12544f0a-3948-4d67-a58e-0766cd2acc20",
   "metadata": {},
   "outputs": [
    {
     "data": {
      "text/plain": [
       "(315606, 35)"
      ]
     },
     "execution_count": 396,
     "metadata": {},
     "output_type": "execute_result"
    }
   ],
   "source": [
    "#nombre des lignes et colonnes\n",
    "data.shape"
   ]
  },
  {
   "cell_type": "markdown",
   "id": "78e3be2a-aa7c-43cd-8c4a-40b351d64f9a",
   "metadata": {},
   "source": [
    "En faisant cela, le nombre de produit est passé de 320772 à 315606."
   ]
  },
  {
   "cell_type": "code",
   "execution_count": 397,
   "id": "2e25ee46-a242-4e31-9958-92233b1656c7",
   "metadata": {},
   "outputs": [
    {
     "data": {
      "text/html": [
       "<div>\n",
       "<style scoped>\n",
       "    .dataframe tbody tr th:only-of-type {\n",
       "        vertical-align: middle;\n",
       "    }\n",
       "\n",
       "    .dataframe tbody tr th {\n",
       "        vertical-align: top;\n",
       "    }\n",
       "\n",
       "    .dataframe thead th {\n",
       "        text-align: right;\n",
       "    }\n",
       "</style>\n",
       "<table border=\"1\" class=\"dataframe\">\n",
       "  <thead>\n",
       "    <tr style=\"text-align: right;\">\n",
       "      <th></th>\n",
       "      <th>fat_100g</th>\n",
       "      <th>saturated-fat_100g</th>\n",
       "      <th>carbohydrates_100g</th>\n",
       "      <th>sugars_100g</th>\n",
       "      <th>fiber_100g</th>\n",
       "      <th>proteins_100g</th>\n",
       "      <th>salt_100g</th>\n",
       "    </tr>\n",
       "  </thead>\n",
       "  <tbody>\n",
       "    <tr>\n",
       "      <th>count</th>\n",
       "      <td>239068.000000</td>\n",
       "      <td>226701.000000</td>\n",
       "      <td>238756.000000</td>\n",
       "      <td>241618.000000</td>\n",
       "      <td>198284.000000</td>\n",
       "      <td>254826.000000</td>\n",
       "      <td>250350.000000</td>\n",
       "    </tr>\n",
       "    <tr>\n",
       "      <th>mean</th>\n",
       "      <td>12.930488</td>\n",
       "      <td>5.166414</td>\n",
       "      <td>32.145286</td>\n",
       "      <td>16.042894</td>\n",
       "      <td>2.799133</td>\n",
       "      <td>7.132251</td>\n",
       "      <td>0.913375</td>\n",
       "    </tr>\n",
       "    <tr>\n",
       "      <th>std</th>\n",
       "      <td>17.591681</td>\n",
       "      <td>7.919456</td>\n",
       "      <td>29.125498</td>\n",
       "      <td>21.216795</td>\n",
       "      <td>4.309072</td>\n",
       "      <td>8.147089</td>\n",
       "      <td>1.213720</td>\n",
       "    </tr>\n",
       "    <tr>\n",
       "      <th>min</th>\n",
       "      <td>0.000000</td>\n",
       "      <td>0.000000</td>\n",
       "      <td>0.000000</td>\n",
       "      <td>0.000000</td>\n",
       "      <td>0.000000</td>\n",
       "      <td>0.000000</td>\n",
       "      <td>0.000000</td>\n",
       "    </tr>\n",
       "    <tr>\n",
       "      <th>25%</th>\n",
       "      <td>0.000000</td>\n",
       "      <td>0.000000</td>\n",
       "      <td>6.150000</td>\n",
       "      <td>1.400000</td>\n",
       "      <td>0.000000</td>\n",
       "      <td>0.800000</td>\n",
       "      <td>0.058420</td>\n",
       "    </tr>\n",
       "    <tr>\n",
       "      <th>50%</th>\n",
       "      <td>5.320000</td>\n",
       "      <td>1.820000</td>\n",
       "      <td>20.710000</td>\n",
       "      <td>5.710000</td>\n",
       "      <td>1.500000</td>\n",
       "      <td>4.800000</td>\n",
       "      <td>0.543560</td>\n",
       "    </tr>\n",
       "    <tr>\n",
       "      <th>75%</th>\n",
       "      <td>20.690000</td>\n",
       "      <td>7.140000</td>\n",
       "      <td>58.500000</td>\n",
       "      <td>24.000000</td>\n",
       "      <td>3.600000</td>\n",
       "      <td>10.000000</td>\n",
       "      <td>1.300000</td>\n",
       "    </tr>\n",
       "    <tr>\n",
       "      <th>max</th>\n",
       "      <td>100.000000</td>\n",
       "      <td>100.000000</td>\n",
       "      <td>100.000000</td>\n",
       "      <td>100.000000</td>\n",
       "      <td>60.000000</td>\n",
       "      <td>100.000000</td>\n",
       "      <td>10.000000</td>\n",
       "    </tr>\n",
       "  </tbody>\n",
       "</table>\n",
       "</div>"
      ],
      "text/plain": [
       "            fat_100g  saturated-fat_100g  carbohydrates_100g    sugars_100g  \\\n",
       "count  239068.000000       226701.000000       238756.000000  241618.000000   \n",
       "mean       12.930488            5.166414           32.145286      16.042894   \n",
       "std        17.591681            7.919456           29.125498      21.216795   \n",
       "min         0.000000            0.000000            0.000000       0.000000   \n",
       "25%         0.000000            0.000000            6.150000       1.400000   \n",
       "50%         5.320000            1.820000           20.710000       5.710000   \n",
       "75%        20.690000            7.140000           58.500000      24.000000   \n",
       "max       100.000000          100.000000          100.000000     100.000000   \n",
       "\n",
       "          fiber_100g  proteins_100g      salt_100g  \n",
       "count  198284.000000  254826.000000  250350.000000  \n",
       "mean        2.799133       7.132251       0.913375  \n",
       "std         4.309072       8.147089       1.213720  \n",
       "min         0.000000       0.000000       0.000000  \n",
       "25%         0.000000       0.800000       0.058420  \n",
       "50%         1.500000       4.800000       0.543560  \n",
       "75%         3.600000      10.000000       1.300000  \n",
       "max        60.000000     100.000000      10.000000  "
      ]
     },
     "execution_count": 397,
     "metadata": {},
     "output_type": "execute_result"
    }
   ],
   "source": [
    "#verification que les mimima et maxima sont bien compris entre 0 et la valuer maximale\n",
    "data[nutrients.columns].describe()"
   ]
  },
  {
   "cell_type": "code",
   "execution_count": 398,
   "id": "013bdfc3-8640-41c0-8c12-33d4d0d7fe6e",
   "metadata": {},
   "outputs": [],
   "source": [
    "#sauvegarde dataframe\n",
    "data.to_csv('Data/Cleaning/filtered_nutrients.csv', index = False)"
   ]
  },
  {
   "cell_type": "markdown",
   "id": "8d9e1860-39df-4d49-b242-10aa3f53ed5d",
   "metadata": {},
   "source": [
    "## 3.2 Analyse des vitamines"
   ]
  },
  {
   "cell_type": "code",
   "execution_count": 8,
   "id": "52b7b1b5-b054-4299-9e07-1bb64a88002f",
   "metadata": {},
   "outputs": [],
   "source": [
    "#lecture données\n",
    "data = pd.read_csv('Data/Cleaning/filtered_nutrients.csv',low_memory=False)"
   ]
  },
  {
   "cell_type": "code",
   "execution_count": 9,
   "id": "2785ce19-4923-4109-b110-2fc7ae4a8ae7",
   "metadata": {},
   "outputs": [
    {
     "data": {
      "text/plain": [
       "Index(['vitamin-a_100g', 'beta-carotene_100g', 'vitamin-d_100g',\n",
       "       'vitamin-e_100g', 'vitamin-k_100g', 'vitamin-c_100g', 'vitamin-b1_100g',\n",
       "       'vitamin-b2_100g', 'vitamin-pp_100g', 'vitamin-b6_100g',\n",
       "       'vitamin-b9_100g', 'vitamin-b12_100g'],\n",
       "      dtype='object')"
      ]
     },
     "execution_count": 9,
     "metadata": {},
     "output_type": "execute_result"
    }
   ],
   "source": [
    "#variables identifiant les vitamines + carotene\n",
    "data_vitamines_columns = data.columns[data.columns.str.contains('vitamin') |  data.columns.str.contains('carotene')]\n",
    "data_vitamines_columns"
   ]
  },
  {
   "cell_type": "code",
   "execution_count": 10,
   "id": "3d8d813d-fe70-444e-9ee6-8b6ba4c3a76f",
   "metadata": {},
   "outputs": [],
   "source": [
    "#séléction des données liées vitamines\n",
    "data_vitamines = data[data_vitamines_columns]"
   ]
  },
  {
   "cell_type": "code",
   "execution_count": 11,
   "id": "edd424ec-7baf-47f6-a99e-bcb243aa8c3e",
   "metadata": {},
   "outputs": [
    {
     "data": {
      "text/plain": [
       "vitamin-a_100g        float64\n",
       "beta-carotene_100g    float64\n",
       "vitamin-d_100g        float64\n",
       "vitamin-e_100g        float64\n",
       "vitamin-k_100g        float64\n",
       "vitamin-c_100g        float64\n",
       "vitamin-b1_100g       float64\n",
       "vitamin-b2_100g       float64\n",
       "vitamin-pp_100g       float64\n",
       "vitamin-b6_100g       float64\n",
       "vitamin-b9_100g       float64\n",
       "vitamin-b12_100g      float64\n",
       "dtype: object"
      ]
     },
     "execution_count": 11,
     "metadata": {},
     "output_type": "execute_result"
    }
   ],
   "source": [
    "#type des valeurs\n",
    "data_vitamines.dtypes"
   ]
  },
  {
   "cell_type": "markdown",
   "id": "810a2075-d504-46ed-9624-e5f05ab75f5a",
   "metadata": {},
   "source": [
    "Toutes le valeurs sont numériques"
   ]
  },
  {
   "cell_type": "code",
   "execution_count": 13,
   "id": "a4fc83a8-79f0-4375-9e23-8b1efe4f2338",
   "metadata": {},
   "outputs": [
    {
     "data": {
      "text/html": [
       "<div>\n",
       "<style scoped>\n",
       "    .dataframe tbody tr th:only-of-type {\n",
       "        vertical-align: middle;\n",
       "    }\n",
       "\n",
       "    .dataframe tbody tr th {\n",
       "        vertical-align: top;\n",
       "    }\n",
       "\n",
       "    .dataframe thead th {\n",
       "        text-align: right;\n",
       "    }\n",
       "</style>\n",
       "<table border=\"1\" class=\"dataframe\">\n",
       "  <thead>\n",
       "    <tr style=\"text-align: right;\">\n",
       "      <th></th>\n",
       "      <th>vitamin-a_100g</th>\n",
       "      <th>beta-carotene_100g</th>\n",
       "      <th>vitamin-d_100g</th>\n",
       "      <th>vitamin-e_100g</th>\n",
       "      <th>vitamin-k_100g</th>\n",
       "      <th>vitamin-c_100g</th>\n",
       "      <th>vitamin-b1_100g</th>\n",
       "      <th>vitamin-b2_100g</th>\n",
       "      <th>vitamin-pp_100g</th>\n",
       "      <th>vitamin-b6_100g</th>\n",
       "      <th>vitamin-b9_100g</th>\n",
       "      <th>vitamin-b12_100g</th>\n",
       "    </tr>\n",
       "  </thead>\n",
       "  <tbody>\n",
       "    <tr>\n",
       "      <th>count</th>\n",
       "      <td>135657.000000</td>\n",
       "      <td>33.000000</td>\n",
       "      <td>7053.000000</td>\n",
       "      <td>1338.000000</td>\n",
       "      <td>914.000000</td>\n",
       "      <td>139080.000000</td>\n",
       "      <td>11129.000000</td>\n",
       "      <td>10792.000000</td>\n",
       "      <td>11706.000000</td>\n",
       "      <td>6773.000000</td>\n",
       "      <td>5203.000000</td>\n",
       "      <td>5.291000e+03</td>\n",
       "    </tr>\n",
       "    <tr>\n",
       "      <th>mean</th>\n",
       "      <td>0.000390</td>\n",
       "      <td>0.534434</td>\n",
       "      <td>0.000008</td>\n",
       "      <td>0.056533</td>\n",
       "      <td>0.034369</td>\n",
       "      <td>0.017787</td>\n",
       "      <td>0.326124</td>\n",
       "      <td>0.259473</td>\n",
       "      <td>0.019671</td>\n",
       "      <td>0.023303</td>\n",
       "      <td>0.006939</td>\n",
       "      <td>8.910617e-05</td>\n",
       "    </tr>\n",
       "    <tr>\n",
       "      <th>std</th>\n",
       "      <td>0.073789</td>\n",
       "      <td>2.599188</td>\n",
       "      <td>0.000360</td>\n",
       "      <td>0.694512</td>\n",
       "      <td>1.033653</td>\n",
       "      <td>1.166704</td>\n",
       "      <td>2.477035</td>\n",
       "      <td>1.278341</td>\n",
       "      <td>0.333924</td>\n",
       "      <td>1.207776</td>\n",
       "      <td>0.336353</td>\n",
       "      <td>5.519364e-03</td>\n",
       "    </tr>\n",
       "    <tr>\n",
       "      <th>min</th>\n",
       "      <td>-0.000340</td>\n",
       "      <td>0.000000</td>\n",
       "      <td>0.000000</td>\n",
       "      <td>0.000000</td>\n",
       "      <td>0.000000</td>\n",
       "      <td>-0.002100</td>\n",
       "      <td>0.000000</td>\n",
       "      <td>0.000000</td>\n",
       "      <td>0.000000</td>\n",
       "      <td>0.000000</td>\n",
       "      <td>0.000000</td>\n",
       "      <td>0.000000e+00</td>\n",
       "    </tr>\n",
       "    <tr>\n",
       "      <th>25%</th>\n",
       "      <td>0.000000</td>\n",
       "      <td>0.001600</td>\n",
       "      <td>0.000001</td>\n",
       "      <td>0.001800</td>\n",
       "      <td>0.000006</td>\n",
       "      <td>0.000000</td>\n",
       "      <td>0.004000</td>\n",
       "      <td>0.002720</td>\n",
       "      <td>0.003077</td>\n",
       "      <td>0.000258</td>\n",
       "      <td>0.000030</td>\n",
       "      <td>7.150000e-07</td>\n",
       "    </tr>\n",
       "    <tr>\n",
       "      <th>50%</th>\n",
       "      <td>0.000000</td>\n",
       "      <td>0.006000</td>\n",
       "      <td>0.000001</td>\n",
       "      <td>0.005200</td>\n",
       "      <td>0.000025</td>\n",
       "      <td>0.000000</td>\n",
       "      <td>0.012000</td>\n",
       "      <td>0.014167</td>\n",
       "      <td>0.005357</td>\n",
       "      <td>0.000700</td>\n",
       "      <td>0.000052</td>\n",
       "      <td>1.910000e-06</td>\n",
       "    </tr>\n",
       "    <tr>\n",
       "      <th>75%</th>\n",
       "      <td>0.000107</td>\n",
       "      <td>0.140000</td>\n",
       "      <td>0.000003</td>\n",
       "      <td>0.012000</td>\n",
       "      <td>0.000100</td>\n",
       "      <td>0.003700</td>\n",
       "      <td>0.402000</td>\n",
       "      <td>0.300000</td>\n",
       "      <td>0.009091</td>\n",
       "      <td>0.001481</td>\n",
       "      <td>0.000070</td>\n",
       "      <td>4.690000e-06</td>\n",
       "    </tr>\n",
       "    <tr>\n",
       "      <th>max</th>\n",
       "      <td>26.700000</td>\n",
       "      <td>15.000000</td>\n",
       "      <td>0.030000</td>\n",
       "      <td>15.100000</td>\n",
       "      <td>31.250000</td>\n",
       "      <td>370.370400</td>\n",
       "      <td>161.000000</td>\n",
       "      <td>42.500000</td>\n",
       "      <td>21.428571</td>\n",
       "      <td>92.600000</td>\n",
       "      <td>23.076923</td>\n",
       "      <td>4.000000e-01</td>\n",
       "    </tr>\n",
       "  </tbody>\n",
       "</table>\n",
       "</div>"
      ],
      "text/plain": [
       "       vitamin-a_100g  beta-carotene_100g  vitamin-d_100g  vitamin-e_100g  \\\n",
       "count   135657.000000           33.000000     7053.000000     1338.000000   \n",
       "mean         0.000390            0.534434        0.000008        0.056533   \n",
       "std          0.073789            2.599188        0.000360        0.694512   \n",
       "min         -0.000340            0.000000        0.000000        0.000000   \n",
       "25%          0.000000            0.001600        0.000001        0.001800   \n",
       "50%          0.000000            0.006000        0.000001        0.005200   \n",
       "75%          0.000107            0.140000        0.000003        0.012000   \n",
       "max         26.700000           15.000000        0.030000       15.100000   \n",
       "\n",
       "       vitamin-k_100g  vitamin-c_100g  vitamin-b1_100g  vitamin-b2_100g  \\\n",
       "count      914.000000   139080.000000     11129.000000     10792.000000   \n",
       "mean         0.034369        0.017787         0.326124         0.259473   \n",
       "std          1.033653        1.166704         2.477035         1.278341   \n",
       "min          0.000000       -0.002100         0.000000         0.000000   \n",
       "25%          0.000006        0.000000         0.004000         0.002720   \n",
       "50%          0.000025        0.000000         0.012000         0.014167   \n",
       "75%          0.000100        0.003700         0.402000         0.300000   \n",
       "max         31.250000      370.370400       161.000000        42.500000   \n",
       "\n",
       "       vitamin-pp_100g  vitamin-b6_100g  vitamin-b9_100g  vitamin-b12_100g  \n",
       "count     11706.000000      6773.000000      5203.000000      5.291000e+03  \n",
       "mean          0.019671         0.023303         0.006939      8.910617e-05  \n",
       "std           0.333924         1.207776         0.336353      5.519364e-03  \n",
       "min           0.000000         0.000000         0.000000      0.000000e+00  \n",
       "25%           0.003077         0.000258         0.000030      7.150000e-07  \n",
       "50%           0.005357         0.000700         0.000052      1.910000e-06  \n",
       "75%           0.009091         0.001481         0.000070      4.690000e-06  \n",
       "max          21.428571        92.600000        23.076923      4.000000e-01  "
      ]
     },
     "execution_count": 13,
     "metadata": {},
     "output_type": "execute_result"
    }
   ],
   "source": [
    "#information statistiques\n",
    "data_vitamines.describe()"
   ]
  },
  {
   "cell_type": "markdown",
   "id": "df1fb5ec-f99f-4408-8a00-7475dbd30d4c",
   "metadata": {},
   "source": [
    "En général, la teneur en vitamines est exprimée en mg, car très petite. Par exemple, parmi les aliments les plus riches en vitamine C il y a le cassis, pour lequel la teneur et de 200 mg. \n",
    "\n",
    "https://sante.journaldesfemmes.fr/calories/classement/aliments/vitamine-c.\n",
    "\n",
    "Ainsi, je vais considérer come valeur aberrantes toutes les valeurs qui ne sont pas comprises entre 0 et 1g. \n",
    "La fonction `remove_outliers_vitamis` supprime les valeurs aberrantes.\n",
    "\n"
   ]
  },
  {
   "cell_type": "code",
   "execution_count": 14,
   "id": "d2d64f7c-9ec7-4e99-8fe8-9ffccf265bb6",
   "metadata": {},
   "outputs": [],
   "source": [
    "data = remove_outliers_vitamins(data, data_vitamines_columns)"
   ]
  },
  {
   "cell_type": "code",
   "execution_count": 15,
   "id": "1ffa94a6-f068-4ac9-8aec-09e14eb024c2",
   "metadata": {},
   "outputs": [
    {
     "data": {
      "text/plain": [
       "(314728, 35)"
      ]
     },
     "execution_count": 15,
     "metadata": {},
     "output_type": "execute_result"
    }
   ],
   "source": [
    "#Nombre des lignes et colonnes\n",
    "data.shape"
   ]
  },
  {
   "cell_type": "markdown",
   "id": "8f69a202-12a9-44f5-9aac-4e39b27890b1",
   "metadata": {},
   "source": [
    "En faisant cela, le nombre de produits est passé de 315606 à 314728."
   ]
  },
  {
   "cell_type": "code",
   "execution_count": 16,
   "id": "86fe8901-ba85-4d43-b66d-aedd69203966",
   "metadata": {},
   "outputs": [
    {
     "data": {
      "text/html": [
       "<div>\n",
       "<style scoped>\n",
       "    .dataframe tbody tr th:only-of-type {\n",
       "        vertical-align: middle;\n",
       "    }\n",
       "\n",
       "    .dataframe tbody tr th {\n",
       "        vertical-align: top;\n",
       "    }\n",
       "\n",
       "    .dataframe thead th {\n",
       "        text-align: right;\n",
       "    }\n",
       "</style>\n",
       "<table border=\"1\" class=\"dataframe\">\n",
       "  <thead>\n",
       "    <tr style=\"text-align: right;\">\n",
       "      <th></th>\n",
       "      <th>vitamin-a_100g</th>\n",
       "      <th>beta-carotene_100g</th>\n",
       "      <th>vitamin-d_100g</th>\n",
       "      <th>vitamin-e_100g</th>\n",
       "      <th>vitamin-k_100g</th>\n",
       "      <th>vitamin-c_100g</th>\n",
       "      <th>vitamin-b1_100g</th>\n",
       "      <th>vitamin-b2_100g</th>\n",
       "      <th>vitamin-pp_100g</th>\n",
       "      <th>vitamin-b6_100g</th>\n",
       "      <th>vitamin-b9_100g</th>\n",
       "      <th>vitamin-b12_100g</th>\n",
       "    </tr>\n",
       "  </thead>\n",
       "  <tbody>\n",
       "    <tr>\n",
       "      <th>count</th>\n",
       "      <td>134950.000000</td>\n",
       "      <td>31.000000</td>\n",
       "      <td>6635.000000</td>\n",
       "      <td>1318.00000</td>\n",
       "      <td>867.000000</td>\n",
       "      <td>138260.000000</td>\n",
       "      <td>10439.000000</td>\n",
       "      <td>10113.000000</td>\n",
       "      <td>11040.000000</td>\n",
       "      <td>6135.000000</td>\n",
       "      <td>5182.000000</td>\n",
       "      <td>4.781000e+03</td>\n",
       "    </tr>\n",
       "    <tr>\n",
       "      <th>mean</th>\n",
       "      <td>0.000145</td>\n",
       "      <td>0.083107</td>\n",
       "      <td>0.000008</td>\n",
       "      <td>0.00995</td>\n",
       "      <td>0.000161</td>\n",
       "      <td>0.007301</td>\n",
       "      <td>0.176961</td>\n",
       "      <td>0.133510</td>\n",
       "      <td>0.008109</td>\n",
       "      <td>0.002023</td>\n",
       "      <td>0.000526</td>\n",
       "      <td>9.563079e-05</td>\n",
       "    </tr>\n",
       "    <tr>\n",
       "      <th>std</th>\n",
       "      <td>0.000808</td>\n",
       "      <td>0.114412</td>\n",
       "      <td>0.000371</td>\n",
       "      <td>0.01331</td>\n",
       "      <td>0.001166</td>\n",
       "      <td>0.032294</td>\n",
       "      <td>0.265685</td>\n",
       "      <td>0.196618</td>\n",
       "      <td>0.016221</td>\n",
       "      <td>0.022998</td>\n",
       "      <td>0.014964</td>\n",
       "      <td>5.805985e-03</td>\n",
       "    </tr>\n",
       "    <tr>\n",
       "      <th>min</th>\n",
       "      <td>0.000000</td>\n",
       "      <td>0.000000</td>\n",
       "      <td>0.000000</td>\n",
       "      <td>0.00000</td>\n",
       "      <td>0.000000</td>\n",
       "      <td>0.000000</td>\n",
       "      <td>0.000000</td>\n",
       "      <td>0.000000</td>\n",
       "      <td>0.000000</td>\n",
       "      <td>0.000000</td>\n",
       "      <td>0.000000</td>\n",
       "      <td>0.000000e+00</td>\n",
       "    </tr>\n",
       "    <tr>\n",
       "      <th>25%</th>\n",
       "      <td>0.000000</td>\n",
       "      <td>0.001350</td>\n",
       "      <td>0.000001</td>\n",
       "      <td>0.00180</td>\n",
       "      <td>0.000006</td>\n",
       "      <td>0.000000</td>\n",
       "      <td>0.003000</td>\n",
       "      <td>0.002500</td>\n",
       "      <td>0.002963</td>\n",
       "      <td>0.000214</td>\n",
       "      <td>0.000030</td>\n",
       "      <td>6.300000e-07</td>\n",
       "    </tr>\n",
       "    <tr>\n",
       "      <th>50%</th>\n",
       "      <td>0.000000</td>\n",
       "      <td>0.004522</td>\n",
       "      <td>0.000001</td>\n",
       "      <td>0.00505</td>\n",
       "      <td>0.000025</td>\n",
       "      <td>0.000000</td>\n",
       "      <td>0.010000</td>\n",
       "      <td>0.013281</td>\n",
       "      <td>0.005161</td>\n",
       "      <td>0.000571</td>\n",
       "      <td>0.000052</td>\n",
       "      <td>1.710000e-06</td>\n",
       "    </tr>\n",
       "    <tr>\n",
       "      <th>75%</th>\n",
       "      <td>0.000106</td>\n",
       "      <td>0.140000</td>\n",
       "      <td>0.000003</td>\n",
       "      <td>0.01200</td>\n",
       "      <td>0.000082</td>\n",
       "      <td>0.003500</td>\n",
       "      <td>0.321000</td>\n",
       "      <td>0.242857</td>\n",
       "      <td>0.008333</td>\n",
       "      <td>0.001200</td>\n",
       "      <td>0.000070</td>\n",
       "      <td>3.000000e-06</td>\n",
       "    </tr>\n",
       "    <tr>\n",
       "      <th>max</th>\n",
       "      <td>0.120000</td>\n",
       "      <td>0.380000</td>\n",
       "      <td>0.030000</td>\n",
       "      <td>0.13700</td>\n",
       "      <td>0.033400</td>\n",
       "      <td>1.000000</td>\n",
       "      <td>1.000000</td>\n",
       "      <td>1.000000</td>\n",
       "      <td>0.744602</td>\n",
       "      <td>1.000000</td>\n",
       "      <td>0.700000</td>\n",
       "      <td>4.000000e-01</td>\n",
       "    </tr>\n",
       "  </tbody>\n",
       "</table>\n",
       "</div>"
      ],
      "text/plain": [
       "       vitamin-a_100g  beta-carotene_100g  vitamin-d_100g  vitamin-e_100g  \\\n",
       "count   134950.000000           31.000000     6635.000000      1318.00000   \n",
       "mean         0.000145            0.083107        0.000008         0.00995   \n",
       "std          0.000808            0.114412        0.000371         0.01331   \n",
       "min          0.000000            0.000000        0.000000         0.00000   \n",
       "25%          0.000000            0.001350        0.000001         0.00180   \n",
       "50%          0.000000            0.004522        0.000001         0.00505   \n",
       "75%          0.000106            0.140000        0.000003         0.01200   \n",
       "max          0.120000            0.380000        0.030000         0.13700   \n",
       "\n",
       "       vitamin-k_100g  vitamin-c_100g  vitamin-b1_100g  vitamin-b2_100g  \\\n",
       "count      867.000000   138260.000000     10439.000000     10113.000000   \n",
       "mean         0.000161        0.007301         0.176961         0.133510   \n",
       "std          0.001166        0.032294         0.265685         0.196618   \n",
       "min          0.000000        0.000000         0.000000         0.000000   \n",
       "25%          0.000006        0.000000         0.003000         0.002500   \n",
       "50%          0.000025        0.000000         0.010000         0.013281   \n",
       "75%          0.000082        0.003500         0.321000         0.242857   \n",
       "max          0.033400        1.000000         1.000000         1.000000   \n",
       "\n",
       "       vitamin-pp_100g  vitamin-b6_100g  vitamin-b9_100g  vitamin-b12_100g  \n",
       "count     11040.000000      6135.000000      5182.000000      4.781000e+03  \n",
       "mean          0.008109         0.002023         0.000526      9.563079e-05  \n",
       "std           0.016221         0.022998         0.014964      5.805985e-03  \n",
       "min           0.000000         0.000000         0.000000      0.000000e+00  \n",
       "25%           0.002963         0.000214         0.000030      6.300000e-07  \n",
       "50%           0.005161         0.000571         0.000052      1.710000e-06  \n",
       "75%           0.008333         0.001200         0.000070      3.000000e-06  \n",
       "max           0.744602         1.000000         0.700000      4.000000e-01  "
      ]
     },
     "execution_count": 16,
     "metadata": {},
     "output_type": "execute_result"
    }
   ],
   "source": [
    "#verification que la teneur ne depasse pas le gramme\n",
    "data[data_vitamines_columns].describe()"
   ]
  },
  {
   "cell_type": "markdown",
   "id": "eb192403-b306-4ae4-a565-c5a9fc711382",
   "metadata": {},
   "source": [
    "Plutôt qu’aux vitamines prises individuellement, je m'intéresse à la quantité totale des vitamines. Ainsi, je vais créer une variable, `vitamins_100 g`, qui représente le total des vitamines."
   ]
  },
  {
   "cell_type": "code",
   "execution_count": 17,
   "id": "366041a3-5b4a-405d-a442-a72df80e74ea",
   "metadata": {},
   "outputs": [],
   "source": [
    "#creation d'une variable avec les total des vitamines\n",
    "data['vitamins_100g'] = data[data_vitamines_columns].sum(axis = 1)"
   ]
  },
  {
   "cell_type": "code",
   "execution_count": 18,
   "id": "c2eda72a-b8ef-44f3-9acc-21493c50d9da",
   "metadata": {},
   "outputs": [
    {
     "data": {
      "text/plain": [
       "count    314728.000000\n",
       "mean          0.013813\n",
       "std           0.098122\n",
       "min           0.000000\n",
       "25%           0.000000\n",
       "50%           0.000000\n",
       "75%           0.000083\n",
       "max           1.957671\n",
       "Name: vitamins_100g, dtype: float64"
      ]
     },
     "execution_count": 18,
     "metadata": {},
     "output_type": "execute_result"
    }
   ],
   "source": [
    "#informations statistiques sur la nouvelle variable\n",
    "data['vitamins_100g'].describe()"
   ]
  },
  {
   "cell_type": "code",
   "execution_count": 19,
   "id": "a663b245-2d82-4c1c-8d24-b313112555c5",
   "metadata": {},
   "outputs": [],
   "source": [
    "#on peut supprimer les variables relatives aux vitamines, on ne garde que le total\n",
    "data = data.drop(data_vitamines_columns, axis = 1)"
   ]
  },
  {
   "cell_type": "code",
   "execution_count": 20,
   "id": "b2ff2895-c005-4aed-b98f-70f62d33c270",
   "metadata": {},
   "outputs": [],
   "source": [
    "#sauvegarde du dataframe\n",
    "data.to_csv('Data/Cleaning/vitaminsok.csv', index = False)"
   ]
  },
  {
   "cell_type": "markdown",
   "id": "092da35e-1c35-4036-98f2-7d95736bb7d7",
   "metadata": {},
   "source": [
    "## 3.3 Analyse des catégories "
   ]
  },
  {
   "cell_type": "code",
   "execution_count": 21,
   "id": "dd18220f-9fc1-4223-a057-0404ad76abc8",
   "metadata": {},
   "outputs": [],
   "source": [
    "#lecture données\n",
    "data = pd.read_csv('Data/Cleaning/vitaminsok.csv', low_memory= False)"
   ]
  },
  {
   "cell_type": "code",
   "execution_count": 22,
   "id": "1a9a545d-dd29-4d5e-8350-1eaa49a7dccc",
   "metadata": {},
   "outputs": [],
   "source": [
    "#données relatives aux catégories\n",
    "categories = data[[\n",
    "    'categories', \n",
    "    'categories_tags', \n",
    "    'categories_fr', \n",
    "    'pnns_groups_1',\n",
    "    'pnns_groups_2', \n",
    "    'main_category', \n",
    "    'main_category_fr']]"
   ]
  },
  {
   "cell_type": "code",
   "execution_count": 23,
   "id": "f98ba143-1a59-4966-a2f7-4d06eb6e961a",
   "metadata": {},
   "outputs": [
    {
     "data": {
      "text/plain": [
       "categories          object\n",
       "categories_tags     object\n",
       "categories_fr       object\n",
       "pnns_groups_1       object\n",
       "pnns_groups_2       object\n",
       "main_category       object\n",
       "main_category_fr    object\n",
       "dtype: object"
      ]
     },
     "execution_count": 23,
     "metadata": {},
     "output_type": "execute_result"
    }
   ],
   "source": [
    "#type des valeurs\n",
    "categories.dtypes"
   ]
  },
  {
   "cell_type": "markdown",
   "id": "e9cd6d47-72a5-4213-b0d5-680cf44cb971",
   "metadata": {},
   "source": [
    "Toutes les valeurs sont de type objet"
   ]
  },
  {
   "cell_type": "code",
   "execution_count": 24,
   "id": "4b55c8b3-509c-43d7-b27b-a64d44e1ad50",
   "metadata": {},
   "outputs": [
    {
     "name": "stdout",
     "output_type": "stream",
     "text": [
      "categories (36714,)\n",
      "categories_tags (20989,)\n",
      "categories_fr (20998,)\n",
      "pnns_groups_1 (15,)\n",
      "pnns_groups_2 (43,)\n",
      "main_category (3504,)\n",
      "main_category_fr (3504,)\n"
     ]
    }
   ],
   "source": [
    "#nombre des valeurs uniques pour chaque variables\n",
    "for cat in categories.columns:\n",
    "    print(cat, categories[cat].unique().shape)"
   ]
  },
  {
   "cell_type": "markdown",
   "id": "caea20c2-716a-443e-b4cc-e741728e8c2a",
   "metadata": {},
   "source": [
    "Pour mieux comprendre les catégories, je vais regarder les valeurs non nulles"
   ]
  },
  {
   "cell_type": "code",
   "execution_count": 25,
   "id": "791931b8-4d74-46de-9118-d5778e963cc2",
   "metadata": {},
   "outputs": [
    {
     "data": {
      "text/html": [
       "<div>\n",
       "<style scoped>\n",
       "    .dataframe tbody tr th:only-of-type {\n",
       "        vertical-align: middle;\n",
       "    }\n",
       "\n",
       "    .dataframe tbody tr th {\n",
       "        vertical-align: top;\n",
       "    }\n",
       "\n",
       "    .dataframe thead th {\n",
       "        text-align: right;\n",
       "    }\n",
       "</style>\n",
       "<table border=\"1\" class=\"dataframe\">\n",
       "  <thead>\n",
       "    <tr style=\"text-align: right;\">\n",
       "      <th></th>\n",
       "      <th>categories</th>\n",
       "      <th>categories_tags</th>\n",
       "      <th>categories_fr</th>\n",
       "      <th>pnns_groups_1</th>\n",
       "      <th>pnns_groups_2</th>\n",
       "      <th>main_category</th>\n",
       "      <th>main_category_fr</th>\n",
       "    </tr>\n",
       "  </thead>\n",
       "  <tbody>\n",
       "    <tr>\n",
       "      <th>223537</th>\n",
       "      <td>Sandwichs,Sandwichs au fromage,Sandwichs au pa...</td>\n",
       "      <td>en:sandwiches,en:poultry-sandwiches,en:cheese-...</td>\n",
       "      <td>Sandwichs,Sandwichs à la volaille,Sandwichs au...</td>\n",
       "      <td>Composite foods</td>\n",
       "      <td>Sandwich</td>\n",
       "      <td>en:sandwiches</td>\n",
       "      <td>Sandwichs</td>\n",
       "    </tr>\n",
       "    <tr>\n",
       "      <th>297157</th>\n",
       "      <td>Produits laitiers,Desserts,Desserts lactés,Tir...</td>\n",
       "      <td>en:dairies,en:desserts,en:dairy-desserts,en:ti...</td>\n",
       "      <td>Produits laitiers,Desserts,Desserts lactés,Tir...</td>\n",
       "      <td>Milk and dairy products</td>\n",
       "      <td>Dairy desserts</td>\n",
       "      <td>en:desserts</td>\n",
       "      <td>Desserts</td>\n",
       "    </tr>\n",
       "    <tr>\n",
       "      <th>269826</th>\n",
       "      <td>Huiles d'olive vierges extra</td>\n",
       "      <td>en:plant-based-foods-and-beverages,en:plant-ba...</td>\n",
       "      <td>Aliments et boissons à base de végétaux,Alimen...</td>\n",
       "      <td>Fat and sauces</td>\n",
       "      <td>Fats</td>\n",
       "      <td>en:olive-oils</td>\n",
       "      <td>Huiles d'olive</td>\n",
       "    </tr>\n",
       "    <tr>\n",
       "      <th>202891</th>\n",
       "      <td>Produits laitiers,Yaourts,Yaourts aux fruits,Y...</td>\n",
       "      <td>en:dairies,en:yogurts,en:fruit-yogurts,fr:yaou...</td>\n",
       "      <td>Produits laitiers,Yaourts,Yaourts aux fruits,Y...</td>\n",
       "      <td>Milk and dairy products</td>\n",
       "      <td>Milk and yogurt</td>\n",
       "      <td>en:fruit-yogurts</td>\n",
       "      <td>Yaourts aux fruits</td>\n",
       "    </tr>\n",
       "    <tr>\n",
       "      <th>265628</th>\n",
       "      <td>Alcool</td>\n",
       "      <td>it:alcool</td>\n",
       "      <td>it:Alcool</td>\n",
       "      <td>unknown</td>\n",
       "      <td>unknown</td>\n",
       "      <td>it:alcool</td>\n",
       "      <td>it:Alcool</td>\n",
       "    </tr>\n",
       "    <tr>\n",
       "      <th>218838</th>\n",
       "      <td>Snacks sucrés,Biscuits et gâteaux,Snacks salés...</td>\n",
       "      <td>en:sugary-snacks,en:biscuits-and-cakes,en:salt...</td>\n",
       "      <td>Snacks sucrés,Biscuits et gâteaux,Snacks salés...</td>\n",
       "      <td>Salty snacks</td>\n",
       "      <td>Appetizers</td>\n",
       "      <td>en:biscuits</td>\n",
       "      <td>Biscuits</td>\n",
       "    </tr>\n",
       "    <tr>\n",
       "      <th>235766</th>\n",
       "      <td>Semoules de blé dur pour couscous</td>\n",
       "      <td>en:plant-based-foods-and-beverages,en:plant-ba...</td>\n",
       "      <td>Aliments et boissons à base de végétaux,Alimen...</td>\n",
       "      <td>Cereals and potatoes</td>\n",
       "      <td>Cereals</td>\n",
       "      <td>en:plant-based-foods-and-beverages</td>\n",
       "      <td>Aliments et boissons à base de végétaux</td>\n",
       "    </tr>\n",
       "    <tr>\n",
       "      <th>211865</th>\n",
       "      <td>Snacks sucrés,Produits laitiers,Desserts,Choco...</td>\n",
       "      <td>en:fresh-foods,en:sugary-snacks,en:dairies,en:...</td>\n",
       "      <td>Frais,Snacks sucrés,Produits laitiers,Desserts...</td>\n",
       "      <td>Milk and dairy products</td>\n",
       "      <td>Dairy desserts</td>\n",
       "      <td>en:chocolate-desserts</td>\n",
       "      <td>Desserts au chocolat</td>\n",
       "    </tr>\n",
       "    <tr>\n",
       "      <th>230521</th>\n",
       "      <td>Chocolats,Confiseries,Chocolats noirs</td>\n",
       "      <td>en:sugary-snacks,en:confectioneries,en:chocola...</td>\n",
       "      <td>Snacks sucrés,Confiseries,Chocolats,Chocolats ...</td>\n",
       "      <td>Sugary snacks</td>\n",
       "      <td>Chocolate products</td>\n",
       "      <td>en:chocolates</td>\n",
       "      <td>Chocolats</td>\n",
       "    </tr>\n",
       "    <tr>\n",
       "      <th>211074</th>\n",
       "      <td>Crème aux oeufs,Crème aux oeufs saveur vanille</td>\n",
       "      <td>fr:creme-aux-oeufs,fr:creme-aux-oeufs-saveur-v...</td>\n",
       "      <td>Creme-aux-oeufs,Creme-aux-oeufs-saveur-vanille</td>\n",
       "      <td>unknown</td>\n",
       "      <td>unknown</td>\n",
       "      <td>fr:creme-aux-oeufs</td>\n",
       "      <td>Creme-aux-oeufs</td>\n",
       "    </tr>\n",
       "  </tbody>\n",
       "</table>\n",
       "</div>"
      ],
      "text/plain": [
       "                                               categories  \\\n",
       "223537  Sandwichs,Sandwichs au fromage,Sandwichs au pa...   \n",
       "297157  Produits laitiers,Desserts,Desserts lactés,Tir...   \n",
       "269826                       Huiles d'olive vierges extra   \n",
       "202891  Produits laitiers,Yaourts,Yaourts aux fruits,Y...   \n",
       "265628                                             Alcool   \n",
       "218838  Snacks sucrés,Biscuits et gâteaux,Snacks salés...   \n",
       "235766                  Semoules de blé dur pour couscous   \n",
       "211865  Snacks sucrés,Produits laitiers,Desserts,Choco...   \n",
       "230521              Chocolats,Confiseries,Chocolats noirs   \n",
       "211074     Crème aux oeufs,Crème aux oeufs saveur vanille   \n",
       "\n",
       "                                          categories_tags  \\\n",
       "223537  en:sandwiches,en:poultry-sandwiches,en:cheese-...   \n",
       "297157  en:dairies,en:desserts,en:dairy-desserts,en:ti...   \n",
       "269826  en:plant-based-foods-and-beverages,en:plant-ba...   \n",
       "202891  en:dairies,en:yogurts,en:fruit-yogurts,fr:yaou...   \n",
       "265628                                          it:alcool   \n",
       "218838  en:sugary-snacks,en:biscuits-and-cakes,en:salt...   \n",
       "235766  en:plant-based-foods-and-beverages,en:plant-ba...   \n",
       "211865  en:fresh-foods,en:sugary-snacks,en:dairies,en:...   \n",
       "230521  en:sugary-snacks,en:confectioneries,en:chocola...   \n",
       "211074  fr:creme-aux-oeufs,fr:creme-aux-oeufs-saveur-v...   \n",
       "\n",
       "                                            categories_fr  \\\n",
       "223537  Sandwichs,Sandwichs à la volaille,Sandwichs au...   \n",
       "297157  Produits laitiers,Desserts,Desserts lactés,Tir...   \n",
       "269826  Aliments et boissons à base de végétaux,Alimen...   \n",
       "202891  Produits laitiers,Yaourts,Yaourts aux fruits,Y...   \n",
       "265628                                          it:Alcool   \n",
       "218838  Snacks sucrés,Biscuits et gâteaux,Snacks salés...   \n",
       "235766  Aliments et boissons à base de végétaux,Alimen...   \n",
       "211865  Frais,Snacks sucrés,Produits laitiers,Desserts...   \n",
       "230521  Snacks sucrés,Confiseries,Chocolats,Chocolats ...   \n",
       "211074     Creme-aux-oeufs,Creme-aux-oeufs-saveur-vanille   \n",
       "\n",
       "                  pnns_groups_1       pnns_groups_2  \\\n",
       "223537          Composite foods            Sandwich   \n",
       "297157  Milk and dairy products      Dairy desserts   \n",
       "269826           Fat and sauces                Fats   \n",
       "202891  Milk and dairy products     Milk and yogurt   \n",
       "265628                  unknown             unknown   \n",
       "218838             Salty snacks          Appetizers   \n",
       "235766     Cereals and potatoes             Cereals   \n",
       "211865  Milk and dairy products      Dairy desserts   \n",
       "230521            Sugary snacks  Chocolate products   \n",
       "211074                  unknown             unknown   \n",
       "\n",
       "                             main_category  \\\n",
       "223537                       en:sandwiches   \n",
       "297157                         en:desserts   \n",
       "269826                       en:olive-oils   \n",
       "202891                    en:fruit-yogurts   \n",
       "265628                           it:alcool   \n",
       "218838                         en:biscuits   \n",
       "235766  en:plant-based-foods-and-beverages   \n",
       "211865               en:chocolate-desserts   \n",
       "230521                       en:chocolates   \n",
       "211074                  fr:creme-aux-oeufs   \n",
       "\n",
       "                               main_category_fr  \n",
       "223537                                Sandwichs  \n",
       "297157                                 Desserts  \n",
       "269826                           Huiles d'olive  \n",
       "202891                       Yaourts aux fruits  \n",
       "265628                                it:Alcool  \n",
       "218838                                 Biscuits  \n",
       "235766  Aliments et boissons à base de végétaux  \n",
       "211865                     Desserts au chocolat  \n",
       "230521                                Chocolats  \n",
       "211074                          Creme-aux-oeufs  "
      ]
     },
     "execution_count": 25,
     "metadata": {},
     "output_type": "execute_result"
    }
   ],
   "source": [
    "categories.loc[categories['categories'].notna(), :].sample(10)"
   ]
  },
  {
   "cell_type": "markdown",
   "id": "5c585d26-c102-4cf4-b639-273007f5b42f",
   "metadata": {},
   "source": [
    "`categories`, `categories_tags` et `categories_fr` semblent donner les mêmes informations (en anglais,  français ou en forme de tag). De même pour `main_category` et `main_category_fr`, qui donnent l'information en anglais et en français, respectivement. Les `pnns_groups_1` et `pnns_groups_2` sont le groupes identifiés par le Programme National Nutrition Santé (PNNS), avec le 1 plus générique et 2 plus spécifique.\n",
    "\n",
    "Etant donné que pour toutes les variables les taux de remplissage est similaire, je ne vais garder que `pnns_groups_1` et `pnns_groups_2`. En effet, l'idée est de remplacer par la suite les valeurs manquantes avec un KNN Imputer. Pour cela, je préfère ne pas avoir trop des valeurs uniques/classes."
   ]
  },
  {
   "cell_type": "code",
   "execution_count": 26,
   "id": "ac7357a3-ab04-4f1d-bb3c-7882954cde32",
   "metadata": {},
   "outputs": [],
   "source": [
    "#suppression des variables pas interessantes\n",
    "data.drop([\n",
    "    'categories',                     \n",
    "    'categories_tags',                \n",
    "    'categories_fr', \n",
    "    'main_category_fr', \n",
    "    'main_category'], axis = 1, inplace= True)"
   ]
  },
  {
   "cell_type": "markdown",
   "id": "9ab1f59a-de2d-4483-b976-e2c83a3b6a2d",
   "metadata": {},
   "source": [
    "Enfin, je vais regarder quels sont les differentes valeurs de des variables `pnns_groups_1` et `pnns_groups_2`."
   ]
  },
  {
   "cell_type": "code",
   "execution_count": 27,
   "id": "39452e5a-be49-4ac0-8e22-581e48c5cfbc",
   "metadata": {},
   "outputs": [
    {
     "data": {
      "text/plain": [
       "array([nan, 'unknown', 'Fruits and vegetables', 'Sugary snacks',\n",
       "       'Cereals and potatoes', 'Composite foods', 'Fish Meat Eggs',\n",
       "       'Beverages', 'Fat and sauces', 'fruits-and-vegetables',\n",
       "       'Milk and dairy products', 'Salty snacks', 'sugary-snacks',\n",
       "       'cereals-and-potatoes', 'salty-snacks'], dtype=object)"
      ]
     },
     "execution_count": 27,
     "metadata": {},
     "output_type": "execute_result"
    }
   ],
   "source": [
    "#valeurs pnns_groups_1\n",
    "data[\"pnns_groups_1\"].unique()"
   ]
  },
  {
   "cell_type": "markdown",
   "id": "86310888-64d0-49c7-84ce-9b6a1fc71a47",
   "metadata": {},
   "source": [
    "Certaines catégories sont répétées, mais avec un nom légèrement différent. Par exemple, `Salty snacks` et `salty-snacks`. De plus, il y a une catégorie `unknown`.\n",
    "\n"
   ]
  },
  {
   "cell_type": "markdown",
   "id": "9890fcbc-20fa-4301-b7b1-628b089431ed",
   "metadata": {},
   "source": [
    "Je vais regarder si les produits de la catégorie `unknown` appartiennent à une catégorie différente des autres ou tout simplement l’information n’a pas été renseignée. "
   ]
  },
  {
   "cell_type": "code",
   "execution_count": 31,
   "id": "6c36c7a7-7e18-4abe-a7ce-51846900932f",
   "metadata": {},
   "outputs": [
    {
     "data": {
      "text/plain": [
       "265262                                     Milk Chocolate\n",
       "217715                               *** de myrtilles bio\n",
       "232169            Foie gras de canard entier du Sud-Ouest\n",
       "264854                                     Horlicks Light\n",
       "242256                      Colin d'Alaska à la Marinière\n",
       "242478              Quinoa Gourmand Parfumé Épices Douces\n",
       "307450                              1·2·3 Frites Original\n",
       "220018    Graines De Tournesol Décortiquées, 500G, Markal\n",
       "202973                   Mayonnaise fine qualité traiteur\n",
       "302607                                    Wieners classic\n",
       "Name: product_name, dtype: object"
      ]
     },
     "execution_count": 31,
     "metadata": {},
     "output_type": "execute_result"
    }
   ],
   "source": [
    "#exemple des produits de catégorie 'unknown'\n",
    "data.loc[data['pnns_groups_1']== 'unknown', 'product_name'].sample(10)"
   ]
  },
  {
   "cell_type": "markdown",
   "id": "f66b9504-6d36-444b-9533-73c6e46c4f27",
   "metadata": {},
   "source": [
    "Ces produits peuvent rentrer dans les catégories déjà présentes.  \n",
    "\n",
    "La fonction `clean_pnns_1` remplace la catégorie `unknown` avec NaN et uniformise les noms des catégories."
   ]
  },
  {
   "cell_type": "code",
   "execution_count": 34,
   "id": "3e5d2c63-5239-48b9-a948-dba8a2612d8e",
   "metadata": {},
   "outputs": [],
   "source": [
    "data = clean_pnns_1(data)"
   ]
  },
  {
   "cell_type": "code",
   "execution_count": 35,
   "id": "5d75443b-a159-4f8c-b706-37e97f42e802",
   "metadata": {},
   "outputs": [
    {
     "data": {
      "text/plain": [
       "array([nan, 'Fruits and vegetables', 'Sugary snacks',\n",
       "       'Cereals and potatoes', 'Composite foods', 'Fish Meat Eggs',\n",
       "       'Beverages', 'Fat and sauces', 'Milk and dairy products',\n",
       "       'Salty snacks'], dtype=object)"
      ]
     },
     "execution_count": 35,
     "metadata": {},
     "output_type": "execute_result"
    }
   ],
   "source": [
    "#verification que la fonction a bien marché\n",
    "data['pnns_groups_1'].unique()"
   ]
  },
  {
   "cell_type": "code",
   "execution_count": 76,
   "id": "bf3665d1-0118-4ef2-b786-6392fa2be377",
   "metadata": {},
   "outputs": [
    {
     "data": {
      "text/plain": [
       "array([nan, 'unknown', 'Vegetables', 'Biscuits and cakes', 'Bread',\n",
       "       'Legumes', 'Pizza pies and quiche', 'Meat', 'Sweets',\n",
       "       'Non-sugared beverages', 'Sweetened beverages',\n",
       "       'Dressings and sauces', 'One-dish meals', 'vegetables', 'Soups',\n",
       "       'Chocolate products', 'Alcoholic beverages', 'Fruits', 'Sandwich',\n",
       "       'Cereals', 'Milk and yogurt', 'Fats', 'Cheese', 'Appetizers',\n",
       "       'Nuts', 'Breakfast cereals', 'Artificially sweetened beverages',\n",
       "       'Fruit juices', 'Eggs', 'Fish and seafood', 'Dried fruits',\n",
       "       'Ice cream', 'Processed meat', 'Potatoes', 'Dairy desserts',\n",
       "       'Fruit nectars', 'pastries', 'Tripe dishes', 'fruits',\n",
       "       'Salty and fatty products', 'cereals', 'legumes', 'nuts'],\n",
       "      dtype=object)"
      ]
     },
     "execution_count": 76,
     "metadata": {},
     "output_type": "execute_result"
    }
   ],
   "source": [
    "#valeurs pnns_groups_2\n",
    "data['pnns_groups_2'].unique()"
   ]
  },
  {
   "cell_type": "markdown",
   "id": "5ff3289f-09e8-462a-b6f9-5347921856ce",
   "metadata": {},
   "source": [
    "Pour la variable `pnns_groups_2`, il faut également uniformiser les noms des catégories: certaines apparaissent en double, avec la première lettre minuscule ou majuscule. La fonction `clean_pnns_2` fait cela et remplace la catégorie `unknown` avec NaN."
   ]
  },
  {
   "cell_type": "code",
   "execution_count": 36,
   "id": "5726d170-184a-4720-8e62-39bb55d4a296",
   "metadata": {},
   "outputs": [],
   "source": [
    "data = clean_pnns_2(data)"
   ]
  },
  {
   "cell_type": "code",
   "execution_count": 37,
   "id": "6cb21596-4d10-4d10-bd26-b26cd5f1a734",
   "metadata": {},
   "outputs": [
    {
     "data": {
      "text/plain": [
       "array([nan, 'Vegetables', 'Biscuits and cakes', 'Bread', 'Legumes',\n",
       "       'Pizza pies and quiche', 'Meat', 'Sweets', 'Non-sugared beverages',\n",
       "       'Sweetened beverages', 'Dressings and sauces', 'One-dish meals',\n",
       "       'Soups', 'Chocolate products', 'Alcoholic beverages', 'Fruits',\n",
       "       'Sandwich', 'Cereals', 'Milk and yogurt', 'Fats', 'Cheese',\n",
       "       'Appetizers', 'Nuts', 'Breakfast cereals',\n",
       "       'Artificially sweetened beverages', 'Fruit juices', 'Eggs',\n",
       "       'Fish and seafood', 'Dried fruits', 'Ice cream', 'Processed meat',\n",
       "       'Potatoes', 'Dairy desserts', 'Fruit nectars', 'Pastries',\n",
       "       'Tripe dishes', 'Salty and fatty products'], dtype=object)"
      ]
     },
     "execution_count": 37,
     "metadata": {},
     "output_type": "execute_result"
    }
   ],
   "source": [
    "#verification que la fonction a bien marché\n",
    "data['pnns_groups_2'].unique()"
   ]
  },
  {
   "cell_type": "markdown",
   "id": "77b5f36b-da5e-4d41-abbf-f6ae3f80e430",
   "metadata": {},
   "source": [
    "## 3.4 Analyse du Nutri-score"
   ]
  },
  {
   "cell_type": "code",
   "execution_count": 38,
   "id": "e649385e-3e7a-43c8-8daa-2300010af7ad",
   "metadata": {},
   "outputs": [],
   "source": [
    "#Variables liées au score\n",
    "scores = data[[\n",
    "    'nutrition_grade_uk', \n",
    "    'nutrition_grade_fr', \n",
    "    'nutrition-score-fr_100g',\n",
    "    'nutrition-score-uk_100g'\n",
    "]]"
   ]
  },
  {
   "cell_type": "code",
   "execution_count": 39,
   "id": "435d1caf-d24e-4f04-a7d6-b5a437eb2f0a",
   "metadata": {},
   "outputs": [
    {
     "data": {
      "text/html": [
       "<div>\n",
       "<style scoped>\n",
       "    .dataframe tbody tr th:only-of-type {\n",
       "        vertical-align: middle;\n",
       "    }\n",
       "\n",
       "    .dataframe tbody tr th {\n",
       "        vertical-align: top;\n",
       "    }\n",
       "\n",
       "    .dataframe thead th {\n",
       "        text-align: right;\n",
       "    }\n",
       "</style>\n",
       "<table border=\"1\" class=\"dataframe\">\n",
       "  <thead>\n",
       "    <tr style=\"text-align: right;\">\n",
       "      <th></th>\n",
       "      <th>nutrition_grade_uk</th>\n",
       "      <th>nutrition_grade_fr</th>\n",
       "      <th>nutrition-score-fr_100g</th>\n",
       "      <th>nutrition-score-uk_100g</th>\n",
       "    </tr>\n",
       "  </thead>\n",
       "  <tbody>\n",
       "    <tr>\n",
       "      <th>112392</th>\n",
       "      <td>NaN</td>\n",
       "      <td>NaN</td>\n",
       "      <td>NaN</td>\n",
       "      <td>NaN</td>\n",
       "    </tr>\n",
       "    <tr>\n",
       "      <th>80534</th>\n",
       "      <td>NaN</td>\n",
       "      <td>d</td>\n",
       "      <td>15.0</td>\n",
       "      <td>15.0</td>\n",
       "    </tr>\n",
       "    <tr>\n",
       "      <th>224487</th>\n",
       "      <td>NaN</td>\n",
       "      <td>a</td>\n",
       "      <td>-4.0</td>\n",
       "      <td>-4.0</td>\n",
       "    </tr>\n",
       "    <tr>\n",
       "      <th>126035</th>\n",
       "      <td>NaN</td>\n",
       "      <td>NaN</td>\n",
       "      <td>NaN</td>\n",
       "      <td>NaN</td>\n",
       "    </tr>\n",
       "    <tr>\n",
       "      <th>251899</th>\n",
       "      <td>NaN</td>\n",
       "      <td>NaN</td>\n",
       "      <td>NaN</td>\n",
       "      <td>NaN</td>\n",
       "    </tr>\n",
       "    <tr>\n",
       "      <th>51037</th>\n",
       "      <td>NaN</td>\n",
       "      <td>e</td>\n",
       "      <td>23.0</td>\n",
       "      <td>23.0</td>\n",
       "    </tr>\n",
       "    <tr>\n",
       "      <th>155025</th>\n",
       "      <td>NaN</td>\n",
       "      <td>NaN</td>\n",
       "      <td>NaN</td>\n",
       "      <td>NaN</td>\n",
       "    </tr>\n",
       "    <tr>\n",
       "      <th>13667</th>\n",
       "      <td>NaN</td>\n",
       "      <td>c</td>\n",
       "      <td>5.0</td>\n",
       "      <td>5.0</td>\n",
       "    </tr>\n",
       "    <tr>\n",
       "      <th>162579</th>\n",
       "      <td>NaN</td>\n",
       "      <td>NaN</td>\n",
       "      <td>NaN</td>\n",
       "      <td>NaN</td>\n",
       "    </tr>\n",
       "    <tr>\n",
       "      <th>71383</th>\n",
       "      <td>NaN</td>\n",
       "      <td>e</td>\n",
       "      <td>27.0</td>\n",
       "      <td>27.0</td>\n",
       "    </tr>\n",
       "  </tbody>\n",
       "</table>\n",
       "</div>"
      ],
      "text/plain": [
       "        nutrition_grade_uk nutrition_grade_fr  nutrition-score-fr_100g  \\\n",
       "112392                 NaN                NaN                      NaN   \n",
       "80534                  NaN                  d                     15.0   \n",
       "224487                 NaN                  a                     -4.0   \n",
       "126035                 NaN                NaN                      NaN   \n",
       "251899                 NaN                NaN                      NaN   \n",
       "51037                  NaN                  e                     23.0   \n",
       "155025                 NaN                NaN                      NaN   \n",
       "13667                  NaN                  c                      5.0   \n",
       "162579                 NaN                NaN                      NaN   \n",
       "71383                  NaN                  e                     27.0   \n",
       "\n",
       "        nutrition-score-uk_100g  \n",
       "112392                      NaN  \n",
       "80534                      15.0  \n",
       "224487                     -4.0  \n",
       "126035                      NaN  \n",
       "251899                      NaN  \n",
       "51037                      23.0  \n",
       "155025                      NaN  \n",
       "13667                       5.0  \n",
       "162579                      NaN  \n",
       "71383                      27.0  "
      ]
     },
     "execution_count": 39,
     "metadata": {},
     "output_type": "execute_result"
    }
   ],
   "source": [
    "#example des données\n",
    "scores.sample(10)"
   ]
  },
  {
   "cell_type": "code",
   "execution_count": 40,
   "id": "bce97b27-e160-4a93-ac92-3c98da6afe99",
   "metadata": {},
   "outputs": [
    {
     "data": {
      "text/plain": [
       "nutrition_grade_uk         float64\n",
       "nutrition_grade_fr          object\n",
       "nutrition-score-fr_100g    float64\n",
       "nutrition-score-uk_100g    float64\n",
       "dtype: object"
      ]
     },
     "execution_count": 40,
     "metadata": {},
     "output_type": "execute_result"
    }
   ],
   "source": [
    "#type des valeurs\n",
    "scores.dtypes"
   ]
  },
  {
   "cell_type": "code",
   "execution_count": 41,
   "id": "1a463501-29e7-4371-8070-39d1e95f81b3",
   "metadata": {},
   "outputs": [
    {
     "data": {
      "text/html": [
       "<div>\n",
       "<style scoped>\n",
       "    .dataframe tbody tr th:only-of-type {\n",
       "        vertical-align: middle;\n",
       "    }\n",
       "\n",
       "    .dataframe tbody tr th {\n",
       "        vertical-align: top;\n",
       "    }\n",
       "\n",
       "    .dataframe thead th {\n",
       "        text-align: right;\n",
       "    }\n",
       "</style>\n",
       "<table border=\"1\" class=\"dataframe\">\n",
       "  <thead>\n",
       "    <tr style=\"text-align: right;\">\n",
       "      <th></th>\n",
       "      <th>nutrition_grade_uk</th>\n",
       "      <th>nutrition-score-fr_100g</th>\n",
       "      <th>nutrition-score-uk_100g</th>\n",
       "    </tr>\n",
       "  </thead>\n",
       "  <tbody>\n",
       "    <tr>\n",
       "      <th>count</th>\n",
       "      <td>0.0</td>\n",
       "      <td>217932.000000</td>\n",
       "      <td>217932.000000</td>\n",
       "    </tr>\n",
       "    <tr>\n",
       "      <th>mean</th>\n",
       "      <td>NaN</td>\n",
       "      <td>9.111773</td>\n",
       "      <td>9.002987</td>\n",
       "    </tr>\n",
       "    <tr>\n",
       "      <th>std</th>\n",
       "      <td>NaN</td>\n",
       "      <td>9.080299</td>\n",
       "      <td>9.209253</td>\n",
       "    </tr>\n",
       "    <tr>\n",
       "      <th>min</th>\n",
       "      <td>NaN</td>\n",
       "      <td>-15.000000</td>\n",
       "      <td>-15.000000</td>\n",
       "    </tr>\n",
       "    <tr>\n",
       "      <th>25%</th>\n",
       "      <td>NaN</td>\n",
       "      <td>1.000000</td>\n",
       "      <td>1.000000</td>\n",
       "    </tr>\n",
       "    <tr>\n",
       "      <th>50%</th>\n",
       "      <td>NaN</td>\n",
       "      <td>10.000000</td>\n",
       "      <td>9.000000</td>\n",
       "    </tr>\n",
       "    <tr>\n",
       "      <th>75%</th>\n",
       "      <td>NaN</td>\n",
       "      <td>16.000000</td>\n",
       "      <td>16.000000</td>\n",
       "    </tr>\n",
       "    <tr>\n",
       "      <th>max</th>\n",
       "      <td>NaN</td>\n",
       "      <td>40.000000</td>\n",
       "      <td>40.000000</td>\n",
       "    </tr>\n",
       "  </tbody>\n",
       "</table>\n",
       "</div>"
      ],
      "text/plain": [
       "       nutrition_grade_uk  nutrition-score-fr_100g  nutrition-score-uk_100g\n",
       "count                 0.0            217932.000000            217932.000000\n",
       "mean                  NaN                 9.111773                 9.002987\n",
       "std                   NaN                 9.080299                 9.209253\n",
       "min                   NaN               -15.000000               -15.000000\n",
       "25%                   NaN                 1.000000                 1.000000\n",
       "50%                   NaN                10.000000                 9.000000\n",
       "75%                   NaN                16.000000                16.000000\n",
       "max                   NaN                40.000000                40.000000"
      ]
     },
     "execution_count": 41,
     "metadata": {},
     "output_type": "execute_result"
    }
   ],
   "source": [
    "#informations statistiques sur les scores\n",
    "scores.describe()"
   ]
  },
  {
   "cell_type": "markdown",
   "id": "deaa758f-c9da-41a7-9f31-fbdf7235642f",
   "metadata": {},
   "source": [
    "En examinant ces variables je peux conclure que : \n",
    "-\tLes variables de type nutrition-score représentent la valeur numérique du Nutri-score, c'est à dire le score nutritionnel, qui peut aller de -15 à 40\n",
    "-\tla variable `nutrition_grade_fr` represent la 'note', entre A et E, c'est le Nutri-score. \n",
    "\n",
    "Ce type de score a été introduit pour la première fois au Royaume Uni, et ensuite adapté en France\n",
    "La compatibilité du score UK avec les recommandations nutritionnelles françaises a été validée.\n",
    "\n",
    "https://eurohealthnet-magazine.eu/nutri-score-the-story-so-far/\n",
    "\n",
    "Ainsi, je ne vais garder que les variables `nutrition_grade_fr` et `nutrition-score-fr_100g`\n"
   ]
  },
  {
   "cell_type": "code",
   "execution_count": 42,
   "id": "b197951a-ce4d-409f-8fa5-65ce007c1592",
   "metadata": {},
   "outputs": [],
   "source": [
    "data.drop([\n",
    "    'nutrition_grade_uk', \n",
    "    'nutrition-score-uk_100g'\n",
    "], axis = 1, inplace=True)"
   ]
  },
  {
   "cell_type": "markdown",
   "id": "1a8cbec9-f5e2-4288-a34f-bb76e2bf3e8d",
   "metadata": {},
   "source": [
    "A chaque valeur numérique du score, correspond une note bien précise: A pour les produits avec le plus petit score et E pour les produits avec le score plus élevé. \n",
    "Je vais vérifier qu'il n'y a pas de valeurs aberrantes en considérant la conversion score numérique-lettre qui détaillée ici \n",
    "\n",
    "https://www.santepubliquefrance.fr/media/files/02-determinants-de-sante/nutrition-et-activite-physique/nutri-score/qr-scientifique-technique\n",
    "\n",
    "D’abord je vais faire une vérification visuelle, et ensuite une vérification des minimas et maximas du score nutritionnel pour chaque Nutri-score.\n"
   ]
  },
  {
   "cell_type": "code",
   "execution_count": 43,
   "id": "ced2fab1-22b4-48cd-a84e-ac75ff11002d",
   "metadata": {},
   "outputs": [
    {
     "data": {
      "image/png": "[encoded data removed]",
      "text/plain": [
       "<Figure size 457.625x360 with 1 Axes>"
      ]
     },
     "metadata": {
      "needs_background": "light"
     },
     "output_type": "display_data"
    }
   ],
   "source": [
    "#Distribution du score nutritionnel regroupé par Nutri-score\n",
    "sns.displot(data = data.sort_values('nutrition_grade_fr'), x = 'nutrition-score-fr_100g', hue = 'nutrition_grade_fr', kind = 'kde')\n",
    "plt.title('Distribution du Nutri-score')\n",
    "plt.xlabel('Score', fontsize = 11)\n",
    "plt.ylabel('Densité', fontsize = 11)\n",
    "plt.tick_params(direction='in')"
   ]
  },
  {
   "cell_type": "markdown",
   "id": "14674d3c-f72e-4516-abee-922843bd68c1",
   "metadata": {},
   "source": [
    "En effet, en regardant la distribution du score, on peut bien distinguer les 5 groupes, de A a E."
   ]
  },
  {
   "cell_type": "code",
   "execution_count": 44,
   "id": "043dbe4d-5334-4cef-9069-362223f0c182",
   "metadata": {},
   "outputs": [
    {
     "name": "stderr",
     "output_type": "stream",
     "text": [
      "C:\\Users\\elena\\AppData\\Local\\Temp\\ipykernel_20828\\62401119.py:2: FutureWarning: ['product_name', 'pnns_groups_1', 'pnns_groups_2'] did not aggregate successfully. If any error is raised this will raise in a future version of pandas. Drop these columns/ops to avoid this warning.\n",
      "  data.groupby('nutrition_grade_fr').agg(['min', 'max'])['nutrition-score-fr_100g']\n"
     ]
    },
    {
     "data": {
      "text/html": [
       "<div>\n",
       "<style scoped>\n",
       "    .dataframe tbody tr th:only-of-type {\n",
       "        vertical-align: middle;\n",
       "    }\n",
       "\n",
       "    .dataframe tbody tr th {\n",
       "        vertical-align: top;\n",
       "    }\n",
       "\n",
       "    .dataframe thead th {\n",
       "        text-align: right;\n",
       "    }\n",
       "</style>\n",
       "<table border=\"1\" class=\"dataframe\">\n",
       "  <thead>\n",
       "    <tr style=\"text-align: right;\">\n",
       "      <th></th>\n",
       "      <th>min</th>\n",
       "      <th>max</th>\n",
       "    </tr>\n",
       "    <tr>\n",
       "      <th>nutrition_grade_fr</th>\n",
       "      <th></th>\n",
       "      <th></th>\n",
       "    </tr>\n",
       "  </thead>\n",
       "  <tbody>\n",
       "    <tr>\n",
       "      <th>a</th>\n",
       "      <td>-15.0</td>\n",
       "      <td>17.0</td>\n",
       "    </tr>\n",
       "    <tr>\n",
       "      <th>b</th>\n",
       "      <td>-10.0</td>\n",
       "      <td>2.0</td>\n",
       "    </tr>\n",
       "    <tr>\n",
       "      <th>c</th>\n",
       "      <td>2.0</td>\n",
       "      <td>10.0</td>\n",
       "    </tr>\n",
       "    <tr>\n",
       "      <th>d</th>\n",
       "      <td>6.0</td>\n",
       "      <td>18.0</td>\n",
       "    </tr>\n",
       "    <tr>\n",
       "      <th>e</th>\n",
       "      <td>10.0</td>\n",
       "      <td>40.0</td>\n",
       "    </tr>\n",
       "  </tbody>\n",
       "</table>\n",
       "</div>"
      ],
      "text/plain": [
       "                     min   max\n",
       "nutrition_grade_fr            \n",
       "a                  -15.0  17.0\n",
       "b                  -10.0   2.0\n",
       "c                    2.0  10.0\n",
       "d                    6.0  18.0\n",
       "e                   10.0  40.0"
      ]
     },
     "execution_count": 44,
     "metadata": {},
     "output_type": "execute_result"
    }
   ],
   "source": [
    "#min et max score nutritionnel pour chaque Nutri-score\n",
    "data.groupby('nutrition_grade_fr').agg(['min', 'max'])['nutrition-score-fr_100g']"
   ]
  },
  {
   "cell_type": "markdown",
   "id": "8ca5901d-d60e-4fa6-8437-44bed3b98fba",
   "metadata": {},
   "source": [
    "Il n'y a pas des valeurs aberrantes mais on ne peut pas exclure que dans le futur il pourrait y avoir des nouvelles données avec des valeur aberrantes. La fonction `remove_outliers_scores` enlève les valeurs aberrantes."
   ]
  },
  {
   "cell_type": "code",
   "execution_count": 45,
   "id": "406e0156-6fb8-4941-8e37-16fea6c94435",
   "metadata": {},
   "outputs": [],
   "source": [
    "data = remove_outliers_scores(data)"
   ]
  },
  {
   "cell_type": "code",
   "execution_count": 46,
   "id": "4a3bba21-8164-4adc-ab84-a02043eb99fd",
   "metadata": {},
   "outputs": [],
   "source": [
    "#sauvegarde dataframe\n",
    "data.to_csv('Data/Cleaning/nutriscoreok.csv', index = False)"
   ]
  },
  {
   "cell_type": "markdown",
   "id": "4d55f8d8-e61e-47b1-8b7d-c84591a95766",
   "metadata": {},
   "source": [
    "# 4. Traitement des valeurs manquantes"
   ]
  },
  {
   "cell_type": "code",
   "execution_count": 170,
   "id": "554093d1-deb4-49b0-ade7-b4e51e8f5490",
   "metadata": {},
   "outputs": [],
   "source": [
    "#lecture données\n",
    "data = pd.read_csv('Data/Cleaning/nutriscoreok.csv', low_memory=False)"
   ]
  },
  {
   "cell_type": "code",
   "execution_count": 47,
   "id": "610cef34-dd1f-4c5f-977f-87d5e04cc350",
   "metadata": {},
   "outputs": [
    {
     "data": {
      "text/plain": [
       "vitamins_100g                   0.000000\n",
       "code                            0.004131\n",
       "url                             0.004131\n",
       "product_name                    5.628531\n",
       "energy_100g                    18.938542\n",
       "proteins_100g                  19.302677\n",
       "salt_100g                      20.725538\n",
       "sugars_100g                    23.491824\n",
       "fat_100g                       24.307158\n",
       "carbohydrates_100g             24.412013\n",
       "saturated-fat_100g             28.199213\n",
       "nutrition_grade_fr             30.756423\n",
       "nutrition-score-fr_100g        30.756423\n",
       "fiber_100g                     37.236828\n",
       "pnns_groups_2                  77.239624\n",
       "pnns_groups_1                  78.184915\n",
       "fruits-vegetables-nuts_100g    99.041682\n",
       "dtype: float64"
      ]
     },
     "execution_count": 47,
     "metadata": {},
     "output_type": "execute_result"
    }
   ],
   "source": [
    "#taux de valeurs manquantes \n",
    "(data.isna().sum()*100/data.shape[0]).sort_values()"
   ]
  },
  {
   "cell_type": "markdown",
   "id": "9f13e90d-b27e-4b72-8323-559b607be87e",
   "metadata": {},
   "source": [
    "Pour le calcul du Nutri-score, l'apporte en termes de vitamines est pris en compre à travers la teneur en fruits-vegetables-nuts. Cependant, cette variable présente trop de valeurs manquantes. Ainsi, je vais la supprimer."
   ]
  },
  {
   "cell_type": "code",
   "execution_count": 48,
   "id": "fb053d93-1708-474e-b1f2-c28c3997c9c6",
   "metadata": {},
   "outputs": [],
   "source": [
    "data.drop('fruits-vegetables-nuts_100g', axis = 1, inplace= True) "
   ]
  },
  {
   "cell_type": "markdown",
   "id": "088f9c3e-cd80-4f81-984f-7ceeb092b368",
   "metadata": {},
   "source": [
    "## 4.1 Macronutriments"
   ]
  },
  {
   "cell_type": "markdown",
   "id": "b52ace96-50e7-4d86-8cde-b26815c32f89",
   "metadata": {},
   "source": [
    "### A. Glucides et sucres"
   ]
  },
  {
   "cell_type": "markdown",
   "id": "ff0820a6-d144-4c49-b263-984acfab5891",
   "metadata": {},
   "source": [
    "Les sucres (sugars) font partie des glucides (carbohydrates), ainsi je vais les traiter ensamble. "
   ]
  },
  {
   "cell_type": "code",
   "execution_count": 55,
   "id": "c9ee4bc1-6757-4bd1-96ad-9005cd230a02",
   "metadata": {},
   "outputs": [
    {
     "data": {
      "text/html": [
       "<div>\n",
       "<style scoped>\n",
       "    .dataframe tbody tr th:only-of-type {\n",
       "        vertical-align: middle;\n",
       "    }\n",
       "\n",
       "    .dataframe tbody tr th {\n",
       "        vertical-align: top;\n",
       "    }\n",
       "\n",
       "    .dataframe thead th {\n",
       "        text-align: right;\n",
       "    }\n",
       "</style>\n",
       "<table border=\"1\" class=\"dataframe\">\n",
       "  <thead>\n",
       "    <tr style=\"text-align: right;\">\n",
       "      <th></th>\n",
       "      <th>carbohydrates_100g</th>\n",
       "      <th>sugars_100g</th>\n",
       "    </tr>\n",
       "  </thead>\n",
       "  <tbody>\n",
       "    <tr>\n",
       "      <th>101579</th>\n",
       "      <td>NaN</td>\n",
       "      <td>46.40</td>\n",
       "    </tr>\n",
       "    <tr>\n",
       "      <th>306896</th>\n",
       "      <td>NaN</td>\n",
       "      <td>NaN</td>\n",
       "    </tr>\n",
       "    <tr>\n",
       "      <th>141258</th>\n",
       "      <td>3.57</td>\n",
       "      <td>1.79</td>\n",
       "    </tr>\n",
       "    <tr>\n",
       "      <th>152577</th>\n",
       "      <td>7.41</td>\n",
       "      <td>3.70</td>\n",
       "    </tr>\n",
       "    <tr>\n",
       "      <th>114</th>\n",
       "      <td>73.91</td>\n",
       "      <td>NaN</td>\n",
       "    </tr>\n",
       "    <tr>\n",
       "      <th>215464</th>\n",
       "      <td>3.00</td>\n",
       "      <td>NaN</td>\n",
       "    </tr>\n",
       "    <tr>\n",
       "      <th>19833</th>\n",
       "      <td>12.50</td>\n",
       "      <td>11.67</td>\n",
       "    </tr>\n",
       "    <tr>\n",
       "      <th>114596</th>\n",
       "      <td>20.00</td>\n",
       "      <td>3.33</td>\n",
       "    </tr>\n",
       "    <tr>\n",
       "      <th>123645</th>\n",
       "      <td>6.11</td>\n",
       "      <td>1.53</td>\n",
       "    </tr>\n",
       "    <tr>\n",
       "      <th>122655</th>\n",
       "      <td>57.14</td>\n",
       "      <td>7.14</td>\n",
       "    </tr>\n",
       "  </tbody>\n",
       "</table>\n",
       "</div>"
      ],
      "text/plain": [
       "        carbohydrates_100g  sugars_100g\n",
       "101579                 NaN        46.40\n",
       "306896                 NaN          NaN\n",
       "141258                3.57         1.79\n",
       "152577                7.41         3.70\n",
       "114                  73.91          NaN\n",
       "215464                3.00          NaN\n",
       "19833                12.50        11.67\n",
       "114596               20.00         3.33\n",
       "123645                6.11         1.53\n",
       "122655               57.14         7.14"
      ]
     },
     "execution_count": 55,
     "metadata": {},
     "output_type": "execute_result"
    }
   ],
   "source": [
    "#example des données\n",
    "data[['carbohydrates_100g', 'sugars_100g']].sample(10)"
   ]
  },
  {
   "cell_type": "markdown",
   "id": "87a5d0b4-97f7-4129-a840-aa7899749218",
   "metadata": {},
   "source": [
    "Parmi les produits avec des valeurs manquantes il peut y avoir :  \n",
    " - des produits pour lesquels ni la valeurs des glucides, ni la valeurs de sucres est indiquée\n",
    " - des produits pour lesquels que la valeur des glucides est indiquée\n",
    " - des produits pour lesquels que la valeur des sucres est indiquée\n"
   ]
  },
  {
   "cell_type": "code",
   "execution_count": 56,
   "id": "313d2240-d41e-4b91-9fcc-3889fb17543e",
   "metadata": {},
   "outputs": [
    {
     "data": {
      "text/plain": [
       "(59552, 16)"
      ]
     },
     "execution_count": 56,
     "metadata": {},
     "output_type": "execute_result"
    }
   ],
   "source": [
    "#nombre des produits sans valeur de glucides ni des sucres\n",
    "data[data['carbohydrates_100g'].isna()& data['sugars_100g'].isna()].shape"
   ]
  },
  {
   "cell_type": "code",
   "execution_count": 69,
   "id": "a89bd6ab-42b3-4fd1-8bf5-58d6527231ce",
   "metadata": {},
   "outputs": [
    {
     "data": {
      "text/html": [
       "<div>\n",
       "<style scoped>\n",
       "    .dataframe tbody tr th:only-of-type {\n",
       "        vertical-align: middle;\n",
       "    }\n",
       "\n",
       "    .dataframe tbody tr th {\n",
       "        vertical-align: top;\n",
       "    }\n",
       "\n",
       "    .dataframe thead th {\n",
       "        text-align: right;\n",
       "    }\n",
       "</style>\n",
       "<table border=\"1\" class=\"dataframe\">\n",
       "  <thead>\n",
       "    <tr style=\"text-align: right;\">\n",
       "      <th></th>\n",
       "      <th>product_name</th>\n",
       "      <th>carbohydrates_100g</th>\n",
       "      <th>sugars_100g</th>\n",
       "    </tr>\n",
       "  </thead>\n",
       "  <tbody>\n",
       "    <tr>\n",
       "      <th>237571</th>\n",
       "      <td>Compote de pommes</td>\n",
       "      <td>NaN</td>\n",
       "      <td>NaN</td>\n",
       "    </tr>\n",
       "    <tr>\n",
       "      <th>196415</th>\n",
       "      <td>Brocolis de Bretagne</td>\n",
       "      <td>NaN</td>\n",
       "      <td>NaN</td>\n",
       "    </tr>\n",
       "    <tr>\n",
       "      <th>265715</th>\n",
       "      <td>club orange</td>\n",
       "      <td>NaN</td>\n",
       "      <td>NaN</td>\n",
       "    </tr>\n",
       "    <tr>\n",
       "      <th>264758</th>\n",
       "      <td>NaN</td>\n",
       "      <td>NaN</td>\n",
       "      <td>NaN</td>\n",
       "    </tr>\n",
       "    <tr>\n",
       "      <th>250752</th>\n",
       "      <td>Knödel</td>\n",
       "      <td>NaN</td>\n",
       "      <td>NaN</td>\n",
       "    </tr>\n",
       "    <tr>\n",
       "      <th>278132</th>\n",
       "      <td>معجون طماطم</td>\n",
       "      <td>NaN</td>\n",
       "      <td>NaN</td>\n",
       "    </tr>\n",
       "    <tr>\n",
       "      <th>246530</th>\n",
       "      <td>NaN</td>\n",
       "      <td>NaN</td>\n",
       "      <td>NaN</td>\n",
       "    </tr>\n",
       "    <tr>\n",
       "      <th>278774</th>\n",
       "      <td>Yakisoba  nouilles sautées bœuf et citron vert</td>\n",
       "      <td>NaN</td>\n",
       "      <td>NaN</td>\n",
       "    </tr>\n",
       "    <tr>\n",
       "      <th>269775</th>\n",
       "      <td>Total strained yoghourt 10%</td>\n",
       "      <td>NaN</td>\n",
       "      <td>NaN</td>\n",
       "    </tr>\n",
       "    <tr>\n",
       "      <th>265517</th>\n",
       "      <td>Barres céréales  friselis myrtille</td>\n",
       "      <td>NaN</td>\n",
       "      <td>NaN</td>\n",
       "    </tr>\n",
       "  </tbody>\n",
       "</table>\n",
       "</div>"
      ],
      "text/plain": [
       "                                           product_name  carbohydrates_100g  \\\n",
       "237571                                Compote de pommes                 NaN   \n",
       "196415                             Brocolis de Bretagne                 NaN   \n",
       "265715                                      club orange                 NaN   \n",
       "264758                                              NaN                 NaN   \n",
       "250752                                           Knödel                 NaN   \n",
       "278132                                      معجون طماطم                 NaN   \n",
       "246530                                              NaN                 NaN   \n",
       "278774  Yakisoba  nouilles sautées bœuf et citron vert                  NaN   \n",
       "269775                      Total strained yoghourt 10%                 NaN   \n",
       "265517               Barres céréales  friselis myrtille                 NaN   \n",
       "\n",
       "        sugars_100g  \n",
       "237571          NaN  \n",
       "196415          NaN  \n",
       "265715          NaN  \n",
       "264758          NaN  \n",
       "250752          NaN  \n",
       "278132          NaN  \n",
       "246530          NaN  \n",
       "278774          NaN  \n",
       "269775          NaN  \n",
       "265517          NaN  "
      ]
     },
     "execution_count": 69,
     "metadata": {},
     "output_type": "execute_result"
    }
   ],
   "source": [
    "#noms des produits sans valeur de glucides ni des sucres\n",
    "data.loc[data['carbohydrates_100g'].isna()& data['sugars_100g'].isna(), [\"product_name\",'carbohydrates_100g','sugars_100g' ]].sample(10)"
   ]
  },
  {
   "cell_type": "markdown",
   "id": "ba14d442-e723-4bff-b93c-9b37b1a21787",
   "metadata": {},
   "source": [
    "En regardant les noms de produits, on peut se rendre compte que certains produits doivent contenir des glucides ou des sucres, même si la valeur indiquée est NaN.\n",
    "Il serait trop risqué de remplacer ces valeurs, parce que l'application doit suggérer des produits avec des teneurs en macronutriments similaires. Ainsi, en ce qui concerne les macronutriments, je préfère avoir moins des données mais fiables.\n"
   ]
  },
  {
   "cell_type": "code",
   "execution_count": 70,
   "id": "2f17d280-dd01-4805-ba62-0d816dce4d9c",
   "metadata": {},
   "outputs": [],
   "source": [
    "#Filtre pour ne garder que le valeur ou il y a au moins le glucides ou les sucres\n",
    "data = data[data['carbohydrates_100g'].notna()|data['sugars_100g'].notna()]"
   ]
  },
  {
   "cell_type": "code",
   "execution_count": 71,
   "id": "8a08757e-9970-4436-be9c-4f6db0f0da8c",
   "metadata": {},
   "outputs": [
    {
     "data": {
      "text/plain": [
       "(255166, 16)"
      ]
     },
     "execution_count": 71,
     "metadata": {},
     "output_type": "execute_result"
    }
   ],
   "source": [
    "data.shape"
   ]
  },
  {
   "cell_type": "code",
   "execution_count": 72,
   "id": "95d42e0f-49a4-4de0-8f16-0f5a16883917",
   "metadata": {},
   "outputs": [
    {
     "data": {
      "text/plain": [
       "code                       0.000000\n",
       "url                        0.000000\n",
       "vitamins_100g              0.000000\n",
       "energy_100g                0.003037\n",
       "proteins_100g              0.005800\n",
       "product_name               0.012890\n",
       "salt_100g                  0.023632\n",
       "sugars_100g                0.056359\n",
       "carbohydrates_100g         0.067709\n",
       "fat_100g                   0.069516\n",
       "saturated-fat_100g         0.115188\n",
       "nutrition_grade_fr         0.146708\n",
       "nutrition-score-fr_100g    0.146708\n",
       "fiber_100g                 0.226088\n",
       "pnns_groups_2              0.785316\n",
       "pnns_groups_1              0.785971\n",
       "dtype: float64"
      ]
     },
     "execution_count": 72,
     "metadata": {},
     "output_type": "execute_result"
    }
   ],
   "source": [
    "#taux de valeurs manquantes \n",
    "(data.isna().sum()/data.shape[0]).sort_values()"
   ]
  },
  {
   "cell_type": "markdown",
   "id": "bdf2db65-e1c9-40e1-aa60-9640d759ef12",
   "metadata": {},
   "source": [
    "Etant donné que parfois sucres et glucides sont considérés synonymes, l'idée est de remplacer les valeurs manquantes des glucides avec les sucres et vice-versa. Mais d'abord, je vais examiner les distributions pour vérifier si l'approche est sensée."
   ]
  },
  {
   "cell_type": "code",
   "execution_count": 73,
   "id": "7f151d44-2156-4577-bf3c-dbeaf5d0203f",
   "metadata": {},
   "outputs": [
    {
     "data": {
      "image/png": "[encoded data removed]",
      "text/plain": [
       "<Figure size 432x288 with 1 Axes>"
      ]
     },
     "metadata": {
      "needs_background": "light"
     },
     "output_type": "display_data"
    }
   ],
   "source": [
    "sns.histplot(data.loc[data['carbohydrates_100g'].isna()], x = 'sugars_100g')\n",
    "plt.title('Distribution des sucres pour les produits avec teneur en glucides manquante')\n",
    "plt.xlabel('Teneur en sucres pour 100g (g)', fontsize = 11)\n",
    "plt.ylabel('Nombre de produits', fontsize = 11)\n",
    "plt.tick_params(axis='y',direction='in')\n",
    "plt.tick_params(axis='x',direction='in')"
   ]
  },
  {
   "cell_type": "code",
   "execution_count": 74,
   "id": "2aeb425d-7e69-40c1-b5ae-7ad5c2569db8",
   "metadata": {},
   "outputs": [
    {
     "data": {
      "image/png": "[encoded data removed]",
      "text/plain": [
       "<Figure size 432x288 with 1 Axes>"
      ]
     },
     "metadata": {
      "needs_background": "light"
     },
     "output_type": "display_data"
    }
   ],
   "source": [
    "sns.histplot(data.loc[data['sugars_100g'].isna()], x = 'carbohydrates_100g')\n",
    "plt.title('Distribution des glucides pour les produits avec teneur en sucres manquante')\n",
    "plt.xlabel('Teneur en glucides pour 100g (g)', fontsize = 11)\n",
    "plt.ylabel('Nombre de produits', fontsize = 11)\n",
    "plt.tick_params(axis='y',direction='in')\n",
    "plt.tick_params(axis='x',direction='in')"
   ]
  },
  {
   "cell_type": "markdown",
   "id": "aa257a41-70a8-4c54-87a4-08f8deba9d9a",
   "metadata": {},
   "source": [
    "Considérant que le taux de valeur manquantes pour les glucides et sucres et de 6.8% et 5.6% respectivement, et que pour la plupart des produits avec glucides manquantes, la teneur en sucres est petite (et vice-versa), je peux utiliser le glucides pour remplacer les sucres (et vice-versa) sans risque des trop altérer la réalité."
   ]
  },
  {
   "cell_type": "code",
   "execution_count": 75,
   "id": "9673ce12-3d66-475c-85e9-5d4c1885ce1f",
   "metadata": {},
   "outputs": [],
   "source": [
    "#remplacement des valeurs manquantes des sucres avec la valeur de glucides correspondante\n",
    "data['sugars_100g'] = data['sugars_100g'].fillna(data['carbohydrates_100g'])"
   ]
  },
  {
   "cell_type": "code",
   "execution_count": 76,
   "id": "fe001b20-f822-4240-8795-588d20ea9493",
   "metadata": {},
   "outputs": [],
   "source": [
    "#remplacement des valeurs manquantes des glucides avec la valeur de sucres correspondante\n",
    "data['carbohydrates_100g'] = data['carbohydrates_100g'].fillna(data['sugars_100g'])"
   ]
  },
  {
   "cell_type": "markdown",
   "id": "cbb24e77-f55f-42ab-9d6d-d1fe117dda57",
   "metadata": {},
   "source": [
    "Enfin, je vais enlever les produits pour lesquels la teneur en sucres est plus grande que la teneur en glucides, qui sont à considerer aberrantes"
   ]
  },
  {
   "cell_type": "code",
   "execution_count": 77,
   "id": "7705115c-e30d-486c-bc0d-fbf58c189bb8",
   "metadata": {},
   "outputs": [],
   "source": [
    "#suppression données aberrantes, la différence entre glucides et sucres doit etre plus grande que 0\n",
    "mask = (data['carbohydrates_100g'] - data['sugars_100g'])>= 0\n",
    "data = data[mask]"
   ]
  },
  {
   "cell_type": "code",
   "execution_count": 78,
   "id": "75c41912-6119-4779-98d0-40e7b28aa54e",
   "metadata": {},
   "outputs": [
    {
     "data": {
      "text/plain": [
       "(254513, 16)"
      ]
     },
     "execution_count": 78,
     "metadata": {},
     "output_type": "execute_result"
    }
   ],
   "source": [
    "data.shape"
   ]
  },
  {
   "cell_type": "code",
   "execution_count": 79,
   "id": "dd3d8e2b-45b7-4b4a-b436-b2b07df842a5",
   "metadata": {},
   "outputs": [
    {
     "data": {
      "text/plain": [
       "code                       0.000000\n",
       "url                        0.000000\n",
       "carbohydrates_100g         0.000000\n",
       "sugars_100g                0.000000\n",
       "vitamins_100g              0.000000\n",
       "energy_100g                0.003029\n",
       "proteins_100g              0.005776\n",
       "product_name               0.012923\n",
       "salt_100g                  0.023681\n",
       "fat_100g                   0.069686\n",
       "saturated-fat_100g         0.115271\n",
       "nutrition_grade_fr         0.146822\n",
       "nutrition-score-fr_100g    0.146822\n",
       "fiber_100g                 0.226311\n",
       "pnns_groups_2              0.785119\n",
       "pnns_groups_1              0.785771\n",
       "dtype: float64"
      ]
     },
     "execution_count": 79,
     "metadata": {},
     "output_type": "execute_result"
    }
   ],
   "source": [
    "#vérification valeurs manquantes\n",
    "(data.isna().sum()/data.shape[0]).sort_values()"
   ]
  },
  {
   "cell_type": "markdown",
   "id": "613529cd-847d-4cb3-8d1c-0ca522246173",
   "metadata": {},
   "source": [
    "### B. Gras et gras saturés"
   ]
  },
  {
   "cell_type": "markdown",
   "id": "7c329651-f8f3-4307-916a-a394e98abe30",
   "metadata": {},
   "source": [
    "Pour les gras (fat) et acides gras saturés (saturated-fat), qui font partie des gras, je vais suivre le même raisonnement utilisé pour les glucides et sucres."
   ]
  },
  {
   "cell_type": "code",
   "execution_count": 80,
   "id": "1299d8dc-cd05-4981-8350-eab10f6007f8",
   "metadata": {},
   "outputs": [
    {
     "data": {
      "text/plain": [
       "(707, 16)"
      ]
     },
     "execution_count": 80,
     "metadata": {},
     "output_type": "execute_result"
    }
   ],
   "source": [
    "#nombre des produits sans ni valeur de gras ni valeur de gras saturés\n",
    "data[data['fat_100g'].isna()& data['saturated-fat_100g'].isna()].shape"
   ]
  },
  {
   "cell_type": "code",
   "execution_count": 100,
   "id": "d4b2a876-2b90-4c70-abb8-bf752bfe7ea8",
   "metadata": {},
   "outputs": [
    {
     "data": {
      "text/html": [
       "<div>\n",
       "<style scoped>\n",
       "    .dataframe tbody tr th:only-of-type {\n",
       "        vertical-align: middle;\n",
       "    }\n",
       "\n",
       "    .dataframe tbody tr th {\n",
       "        vertical-align: top;\n",
       "    }\n",
       "\n",
       "    .dataframe thead th {\n",
       "        text-align: right;\n",
       "    }\n",
       "</style>\n",
       "<table border=\"1\" class=\"dataframe\">\n",
       "  <thead>\n",
       "    <tr style=\"text-align: right;\">\n",
       "      <th></th>\n",
       "      <th>product_name</th>\n",
       "      <th>fat_100g</th>\n",
       "      <th>saturated-fat_100g</th>\n",
       "    </tr>\n",
       "  </thead>\n",
       "  <tbody>\n",
       "    <tr>\n",
       "      <th>279896</th>\n",
       "      <td>Gini passion</td>\n",
       "      <td>NaN</td>\n",
       "      <td>NaN</td>\n",
       "    </tr>\n",
       "    <tr>\n",
       "      <th>133246</th>\n",
       "      <td>Smokey Mesquite</td>\n",
       "      <td>NaN</td>\n",
       "      <td>NaN</td>\n",
       "    </tr>\n",
       "    <tr>\n",
       "      <th>65169</th>\n",
       "      <td>French vanilla</td>\n",
       "      <td>NaN</td>\n",
       "      <td>NaN</td>\n",
       "    </tr>\n",
       "    <tr>\n",
       "      <th>274856</th>\n",
       "      <td>coca-cola light sango</td>\n",
       "      <td>NaN</td>\n",
       "      <td>NaN</td>\n",
       "    </tr>\n",
       "    <tr>\n",
       "      <th>198844</th>\n",
       "      <td>Salsa medium</td>\n",
       "      <td>NaN</td>\n",
       "      <td>NaN</td>\n",
       "    </tr>\n",
       "    <tr>\n",
       "      <th>262891</th>\n",
       "      <td>Mango Nectar</td>\n",
       "      <td>NaN</td>\n",
       "      <td>NaN</td>\n",
       "    </tr>\n",
       "    <tr>\n",
       "      <th>299697</th>\n",
       "      <td>Sedani rigati</td>\n",
       "      <td>NaN</td>\n",
       "      <td>NaN</td>\n",
       "    </tr>\n",
       "    <tr>\n",
       "      <th>190520</th>\n",
       "      <td>Margarine 15 % doux</td>\n",
       "      <td>NaN</td>\n",
       "      <td>NaN</td>\n",
       "    </tr>\n",
       "    <tr>\n",
       "      <th>220526</th>\n",
       "      <td>Compote Pomme cuite au chaudron</td>\n",
       "      <td>NaN</td>\n",
       "      <td>NaN</td>\n",
       "    </tr>\n",
       "    <tr>\n",
       "      <th>261717</th>\n",
       "      <td>Напиток безалкогольный на ароматизаторах негаз...</td>\n",
       "      <td>NaN</td>\n",
       "      <td>NaN</td>\n",
       "    </tr>\n",
       "  </tbody>\n",
       "</table>\n",
       "</div>"
      ],
      "text/plain": [
       "                                             product_name  fat_100g  \\\n",
       "279896                                       Gini passion       NaN   \n",
       "133246                                   Smokey Mesquite        NaN   \n",
       "65169                                      French vanilla       NaN   \n",
       "274856                              coca-cola light sango       NaN   \n",
       "198844                                       Salsa medium       NaN   \n",
       "262891                                       Mango Nectar       NaN   \n",
       "299697                                      Sedani rigati       NaN   \n",
       "190520                                Margarine 15 % doux       NaN   \n",
       "220526                    Compote Pomme cuite au chaudron       NaN   \n",
       "261717  Напиток безалкогольный на ароматизаторах негаз...       NaN   \n",
       "\n",
       "        saturated-fat_100g  \n",
       "279896                 NaN  \n",
       "133246                 NaN  \n",
       "65169                  NaN  \n",
       "274856                 NaN  \n",
       "198844                 NaN  \n",
       "262891                 NaN  \n",
       "299697                 NaN  \n",
       "190520                 NaN  \n",
       "220526                 NaN  \n",
       "261717                 NaN  "
      ]
     },
     "execution_count": 100,
     "metadata": {},
     "output_type": "execute_result"
    }
   ],
   "source": [
    "#nom des produits sans ni valeur de gras ni valeur de gras saturés\n",
    "data.loc[data['fat_100g'].isna()& data['saturated-fat_100g'].isna(),['product_name','fat_100g','saturated-fat_100g']].sample(10)"
   ]
  },
  {
   "cell_type": "markdown",
   "id": "727711ce-427f-4983-9c64-8b3b82a73daa",
   "metadata": {},
   "source": [
    "En regardant les noms de produits, on peut se rendre compte que certains produits doivent contenir des gras ou des gras saturés, même si la valeur indiquée est NaN. Il serait trop risqué de remplacer ces valeurs,et je vais les supprimer. "
   ]
  },
  {
   "cell_type": "code",
   "execution_count": 101,
   "id": "c8e4235c-e3a5-4544-9638-f1f0e6fceb27",
   "metadata": {},
   "outputs": [],
   "source": [
    "#Filtre pour ne garder que les produits pour lesquels ou il y a au moins le gras ou les gras saturés\n",
    "data= data[data['fat_100g'].notna()|data['saturated-fat_100g'].notna()]"
   ]
  },
  {
   "cell_type": "code",
   "execution_count": 102,
   "id": "2a52eec0-afd4-4ed5-99b8-b6f99dbfff29",
   "metadata": {},
   "outputs": [
    {
     "data": {
      "text/plain": [
       "(253806, 16)"
      ]
     },
     "execution_count": 102,
     "metadata": {},
     "output_type": "execute_result"
    }
   ],
   "source": [
    "data.shape"
   ]
  },
  {
   "cell_type": "code",
   "execution_count": 104,
   "id": "a105d4ab-6889-4417-a0bc-2dc7d6af2a9e",
   "metadata": {},
   "outputs": [
    {
     "data": {
      "text/plain": [
       "code                       0.000000\n",
       "url                        0.000000\n",
       "carbohydrates_100g         0.000000\n",
       "sugars_100g                0.000000\n",
       "vitamins_100g              0.000000\n",
       "energy_100g                0.002632\n",
       "proteins_100g              0.004184\n",
       "product_name               0.012868\n",
       "salt_100g                  0.021918\n",
       "fat_100g                   0.067095\n",
       "saturated-fat_100g         0.112807\n",
       "nutrition_grade_fr         0.144445\n",
       "nutrition-score-fr_100g    0.144445\n",
       "fiber_100g                 0.224727\n",
       "pnns_groups_2              0.785943\n",
       "pnns_groups_1              0.786526\n",
       "dtype: float64"
      ]
     },
     "execution_count": 104,
     "metadata": {},
     "output_type": "execute_result"
    }
   ],
   "source": [
    "#taux des valeurs manquantes\n",
    "(data.isna().sum()/data.shape[0]).sort_values()"
   ]
  },
  {
   "cell_type": "markdown",
   "id": "e3bad809-aa12-4b21-99be-ac66d7292b53",
   "metadata": {},
   "source": [
    "Comme pour les glucides et sucres, l'idée est de remplacer les valeurs manquantes des gras avec les acides gras saturés et vice-versa. Je vais examiner les distributions pour vérifier si l'approche est sensée."
   ]
  },
  {
   "cell_type": "code",
   "execution_count": 105,
   "id": "35d33edb-42c3-4047-8d3c-c45f33dbe060",
   "metadata": {},
   "outputs": [
    {
     "data": {
      "image/png": "[encoded data removed]",
      "text/plain": [
       "<Figure size 432x288 with 1 Axes>"
      ]
     },
     "metadata": {
      "needs_background": "light"
     },
     "output_type": "display_data"
    }
   ],
   "source": [
    "sns.histplot(data.loc[data['fat_100g'].isna()], x = 'saturated-fat_100g')\n",
    "plt.title('Distribution des acides gras saturés pour les produits avec teneur en gras manquante')\n",
    "plt.xlabel('Teneur en acides gras saturés pour 100g (g)', fontsize = 11)\n",
    "plt.ylabel('Nombre de produits', fontsize = 11)\n",
    "plt.tick_params(axis='y',direction='in')\n",
    "plt.tick_params(axis='x',direction='in')"
   ]
  },
  {
   "cell_type": "code",
   "execution_count": 106,
   "id": "2ecdf4a1-f842-4e0e-afb3-44310fcc532e",
   "metadata": {},
   "outputs": [
    {
     "data": {
      "image/png": "[encoded data removed]",
      "text/plain": [
       "<Figure size 432x288 with 1 Axes>"
      ]
     },
     "metadata": {
      "needs_background": "light"
     },
     "output_type": "display_data"
    }
   ],
   "source": [
    "sns.histplot(data.loc[data['saturated-fat_100g'].isna()], x = 'fat_100g')\n",
    "plt.title('Distribution des gras pour les produits avec teneur en gras saturés manquante')\n",
    "plt.xlabel('Teneur en gras pour 100g (g)', fontsize = 11)\n",
    "plt.ylabel('Nombre de produits', fontsize = 11)\n",
    "plt.tick_params(axis='y',direction='in')\n",
    "plt.tick_params(axis='x',direction='in')"
   ]
  },
  {
   "cell_type": "markdown",
   "id": "853bef94-4fcb-4886-b19b-7a5279187744",
   "metadata": {},
   "source": [
    "Considérant que le taux de valeur manquantes pour les gras et acides gras saturés est de 6.7% et 11% respectivement et que pour la plupart des produits avec gras manquantes, la teneur en gras saturés est petite (et vice-versa), je peux utiliser le gras pour remplacer les gras saturés (et vice-versa) sans risque des trop altérer la réalité."
   ]
  },
  {
   "cell_type": "code",
   "execution_count": 107,
   "id": "d25de2cd-0654-4315-a304-c89d4192f091",
   "metadata": {},
   "outputs": [],
   "source": [
    "#remplacement des valeurs manquantes des gras avec la valeur de gras saturés correspondante\n",
    "data['fat_100g'] = data['fat_100g'].fillna(data['saturated-fat_100g'])"
   ]
  },
  {
   "cell_type": "code",
   "execution_count": 108,
   "id": "8710c193-20f7-443a-8461-6cf031659e97",
   "metadata": {},
   "outputs": [],
   "source": [
    "#remplacement des valeurs manquantes des gras saturés avec la valeur de gras correspondante\n",
    "data['saturated-fat_100g'] = data['saturated-fat_100g'].fillna(data['fat_100g'])"
   ]
  },
  {
   "cell_type": "code",
   "execution_count": 109,
   "id": "6d2f5397-cf6f-4a13-b94d-6cb929bb8403",
   "metadata": {},
   "outputs": [
    {
     "data": {
      "text/plain": [
       "code                       0.000000\n",
       "url                        0.000000\n",
       "fat_100g                   0.000000\n",
       "saturated-fat_100g         0.000000\n",
       "carbohydrates_100g         0.000000\n",
       "sugars_100g                0.000000\n",
       "vitamins_100g              0.000000\n",
       "energy_100g                0.002632\n",
       "proteins_100g              0.004184\n",
       "product_name               0.012868\n",
       "salt_100g                  0.021918\n",
       "nutrition_grade_fr         0.144445\n",
       "nutrition-score-fr_100g    0.144445\n",
       "fiber_100g                 0.224727\n",
       "pnns_groups_2              0.785943\n",
       "pnns_groups_1              0.786526\n",
       "dtype: float64"
      ]
     },
     "execution_count": 109,
     "metadata": {},
     "output_type": "execute_result"
    }
   ],
   "source": [
    "#vérification valeurs manquantes\n",
    "(data.isna().sum()/data.shape[0]).sort_values()"
   ]
  },
  {
   "cell_type": "markdown",
   "id": "99fc82c7-3f1c-4ff7-a216-15d63bc5bd0c",
   "metadata": {},
   "source": [
    "Enfin, je vais supprimer les produits pour lesquels la teneur en gras saturés est plus grande que la teneur en gras: ces produits sont à considerer aberrantes"
   ]
  },
  {
   "cell_type": "code",
   "execution_count": 110,
   "id": "a449bdfd-9f74-4a0c-895a-4379cfc6186a",
   "metadata": {},
   "outputs": [],
   "source": [
    "#suppression données aberrantes, la différence entre gras et gras saturés doit etre plus grande que 0\n",
    "mask = (data['fat_100g'] - data['saturated-fat_100g'])>= 0\n",
    "data = data[mask]"
   ]
  },
  {
   "cell_type": "code",
   "execution_count": 111,
   "id": "21341913-4072-4e75-adaf-d386dac19e38",
   "metadata": {},
   "outputs": [
    {
     "data": {
      "text/plain": [
       "(253479, 16)"
      ]
     },
     "execution_count": 111,
     "metadata": {},
     "output_type": "execute_result"
    }
   ],
   "source": [
    "data.shape"
   ]
  },
  {
   "cell_type": "markdown",
   "id": "a8b56858-eb48-4f9e-b1a1-074ffea5205f",
   "metadata": {},
   "source": [
    "### C. Proteines"
   ]
  },
  {
   "cell_type": "markdown",
   "id": "e996448f-911a-4067-896b-017b74fcc137",
   "metadata": {},
   "source": [
    "Pour les proteines, étant donné qu'elles font partie des macronutrients, que le taux des valeurs manquantes est de 0.4% et que je préfère avoir des données fiables, je vais supprimer les produits avec la teneur en proteines manquante"
   ]
  },
  {
   "cell_type": "code",
   "execution_count": 112,
   "id": "6becb59a-b86c-40b3-ba06-78d2d29a4251",
   "metadata": {},
   "outputs": [],
   "source": [
    "#filtre pour ne garder que le produits avec teneur en proteines\n",
    "data = data[data[\"proteins_100g\"].notna()]"
   ]
  },
  {
   "cell_type": "code",
   "execution_count": 113,
   "id": "dbb418d9-452d-4fd0-a07f-62a62ea71b1e",
   "metadata": {},
   "outputs": [
    {
     "data": {
      "text/plain": [
       "(252430, 16)"
      ]
     },
     "execution_count": 113,
     "metadata": {},
     "output_type": "execute_result"
    }
   ],
   "source": [
    "data.shape"
   ]
  },
  {
   "cell_type": "code",
   "execution_count": 114,
   "id": "1f8287e4-6afe-4134-8b6b-0a303dfd1bf6",
   "metadata": {},
   "outputs": [
    {
     "data": {
      "text/plain": [
       "code                       0.000000\n",
       "url                        0.000000\n",
       "fat_100g                   0.000000\n",
       "saturated-fat_100g         0.000000\n",
       "carbohydrates_100g         0.000000\n",
       "sugars_100g                0.000000\n",
       "proteins_100g              0.000000\n",
       "vitamins_100g              0.000000\n",
       "energy_100g                0.001640\n",
       "product_name               0.012744\n",
       "salt_100g                  0.021400\n",
       "nutrition_grade_fr         0.140946\n",
       "nutrition-score-fr_100g    0.140946\n",
       "fiber_100g                 0.224003\n",
       "pnns_groups_2              0.785945\n",
       "pnns_groups_1              0.786523\n",
       "dtype: float64"
      ]
     },
     "execution_count": 114,
     "metadata": {},
     "output_type": "execute_result"
    }
   ],
   "source": [
    "#vérification valeurs manquantes\n",
    "(data.isna().sum()/data.shape[0]).sort_values()"
   ]
  },
  {
   "cell_type": "markdown",
   "id": "d70c69d3-c301-4027-9c0d-1213ef1fc968",
   "metadata": {
    "tags": []
   },
   "source": [
    "## 4.2 Apport énergétique"
   ]
  },
  {
   "cell_type": "markdown",
   "id": "083dd21b-6ab4-45b2-9531-162bcde05fd0",
   "metadata": {},
   "source": [
    "Pour les valeurs manquantes de l’apport énergétique (energy_100g), étant donné que j'ai les valeurs des glucides, gras et protéines, je vais les utiliser pour remplacer les valeurs manquantes. Mais d'abord, je vais vérifier qu'il s'agit d'une approche raisonnable en comparant les distributions de la variables energy_100g et de l’énergie calculée."
   ]
  },
  {
   "cell_type": "code",
   "execution_count": 118,
   "id": "431a123b-030f-4d5e-a5de-8fbda49e792c",
   "metadata": {},
   "outputs": [],
   "source": [
    "#nouveau dataframe pour la comparaison de energy_100g avec l'apport calculé\n",
    "energy = data[ ['energy_100g']]"
   ]
  },
  {
   "cell_type": "code",
   "execution_count": 119,
   "id": "026c474c-df3b-49ae-837d-64868a7bdb77",
   "metadata": {},
   "outputs": [
    {
     "name": "stderr",
     "output_type": "stream",
     "text": [
      "C:\\Users\\elena\\AppData\\Local\\Temp\\ipykernel_20828\\2293293487.py:2: SettingWithCopyWarning: \n",
      "A value is trying to be set on a copy of a slice from a DataFrame.\n",
      "Try using .loc[row_indexer,col_indexer] = value instead\n",
      "\n",
      "See the caveats in the documentation: https://pandas.pydata.org/pandas-docs/stable/user_guide/indexing.html#returning-a-view-versus-a-copy\n",
      "  energy[\"calculated energy\"] = (data[\"fat_100g\"]*9 + data[\"carbohydrates_100g\"]*4 + data[\"proteins_100g\"]*4)*4.1868\n"
     ]
    }
   ],
   "source": [
    "#calcul apport énergetique\n",
    "energy[\"calculated energy\"] = (data[\"fat_100g\"]*9 + data[\"carbohydrates_100g\"]*4 + data[\"proteins_100g\"]*4)*4.1868"
   ]
  },
  {
   "cell_type": "code",
   "execution_count": 120,
   "id": "d590bf4c-c186-459a-a1fa-6378417aca6d",
   "metadata": {},
   "outputs": [
    {
     "data": {
      "text/html": [
       "<div>\n",
       "<style scoped>\n",
       "    .dataframe tbody tr th:only-of-type {\n",
       "        vertical-align: middle;\n",
       "    }\n",
       "\n",
       "    .dataframe tbody tr th {\n",
       "        vertical-align: top;\n",
       "    }\n",
       "\n",
       "    .dataframe thead th {\n",
       "        text-align: right;\n",
       "    }\n",
       "</style>\n",
       "<table border=\"1\" class=\"dataframe\">\n",
       "  <thead>\n",
       "    <tr style=\"text-align: right;\">\n",
       "      <th></th>\n",
       "      <th>energy_100g</th>\n",
       "      <th>calculated energy</th>\n",
       "    </tr>\n",
       "  </thead>\n",
       "  <tbody>\n",
       "    <tr>\n",
       "      <th>10529</th>\n",
       "      <td>791.0</td>\n",
       "      <td>814.751280</td>\n",
       "    </tr>\n",
       "    <tr>\n",
       "      <th>66980</th>\n",
       "      <td>1494.0</td>\n",
       "      <td>1472.874372</td>\n",
       "    </tr>\n",
       "    <tr>\n",
       "      <th>105254</th>\n",
       "      <td>837.0</td>\n",
       "      <td>837.360000</td>\n",
       "    </tr>\n",
       "    <tr>\n",
       "      <th>166602</th>\n",
       "      <td>1941.0</td>\n",
       "      <td>1921.364388</td>\n",
       "    </tr>\n",
       "    <tr>\n",
       "      <th>72959</th>\n",
       "      <td>301.0</td>\n",
       "      <td>311.497920</td>\n",
       "    </tr>\n",
       "    <tr>\n",
       "      <th>287606</th>\n",
       "      <td>1856.0</td>\n",
       "      <td>1838.005200</td>\n",
       "    </tr>\n",
       "    <tr>\n",
       "      <th>121036</th>\n",
       "      <td>1795.0</td>\n",
       "      <td>1974.034332</td>\n",
       "    </tr>\n",
       "    <tr>\n",
       "      <th>277422</th>\n",
       "      <td>372.0</td>\n",
       "      <td>362.451276</td>\n",
       "    </tr>\n",
       "    <tr>\n",
       "      <th>202605</th>\n",
       "      <td>1932.0</td>\n",
       "      <td>1907.924760</td>\n",
       "    </tr>\n",
       "    <tr>\n",
       "      <th>243649</th>\n",
       "      <td>1039.0</td>\n",
       "      <td>1048.374720</td>\n",
       "    </tr>\n",
       "  </tbody>\n",
       "</table>\n",
       "</div>"
      ],
      "text/plain": [
       "        energy_100g  calculated energy\n",
       "10529         791.0         814.751280\n",
       "66980        1494.0        1472.874372\n",
       "105254        837.0         837.360000\n",
       "166602       1941.0        1921.364388\n",
       "72959         301.0         311.497920\n",
       "287606       1856.0        1838.005200\n",
       "121036       1795.0        1974.034332\n",
       "277422        372.0         362.451276\n",
       "202605       1932.0        1907.924760\n",
       "243649       1039.0        1048.374720"
      ]
     },
     "execution_count": 120,
     "metadata": {},
     "output_type": "execute_result"
    }
   ],
   "source": [
    "#example des données\n",
    "energy.sample(10)"
   ]
  },
  {
   "cell_type": "markdown",
   "id": "01f8f57e-8e62-4b2d-8961-7041043f70b2",
   "metadata": {},
   "source": [
    "En effet, les valeurs semblent etre proches."
   ]
  },
  {
   "cell_type": "code",
   "execution_count": 121,
   "id": "613f7a60-7de8-4499-a23e-868db8651f0e",
   "metadata": {},
   "outputs": [
    {
     "data": {
      "text/html": [
       "<div>\n",
       "<style scoped>\n",
       "    .dataframe tbody tr th:only-of-type {\n",
       "        vertical-align: middle;\n",
       "    }\n",
       "\n",
       "    .dataframe tbody tr th {\n",
       "        vertical-align: top;\n",
       "    }\n",
       "\n",
       "    .dataframe thead th {\n",
       "        text-align: right;\n",
       "    }\n",
       "</style>\n",
       "<table border=\"1\" class=\"dataframe\">\n",
       "  <thead>\n",
       "    <tr style=\"text-align: right;\">\n",
       "      <th></th>\n",
       "      <th>energy_100g</th>\n",
       "      <th>calculated energy</th>\n",
       "    </tr>\n",
       "  </thead>\n",
       "  <tbody>\n",
       "    <tr>\n",
       "      <th>count</th>\n",
       "      <td>2.520160e+05</td>\n",
       "      <td>252430.000000</td>\n",
       "    </tr>\n",
       "    <tr>\n",
       "      <th>mean</th>\n",
       "      <td>1.150640e+03</td>\n",
       "      <td>1104.902779</td>\n",
       "    </tr>\n",
       "    <tr>\n",
       "      <th>std</th>\n",
       "      <td>6.540724e+03</td>\n",
       "      <td>807.915314</td>\n",
       "    </tr>\n",
       "    <tr>\n",
       "      <th>min</th>\n",
       "      <td>0.000000e+00</td>\n",
       "      <td>0.000000</td>\n",
       "    </tr>\n",
       "    <tr>\n",
       "      <th>25%</th>\n",
       "      <td>3.869250e+02</td>\n",
       "      <td>347.671872</td>\n",
       "    </tr>\n",
       "    <tr>\n",
       "      <th>50%</th>\n",
       "      <td>1.109000e+03</td>\n",
       "      <td>1059.574410</td>\n",
       "    </tr>\n",
       "    <tr>\n",
       "      <th>75%</th>\n",
       "      <td>1.674000e+03</td>\n",
       "      <td>1674.720000</td>\n",
       "    </tr>\n",
       "    <tr>\n",
       "      <th>max</th>\n",
       "      <td>3.251373e+06</td>\n",
       "      <td>6001.191648</td>\n",
       "    </tr>\n",
       "  </tbody>\n",
       "</table>\n",
       "</div>"
      ],
      "text/plain": [
       "        energy_100g  calculated energy\n",
       "count  2.520160e+05      252430.000000\n",
       "mean   1.150640e+03        1104.902779\n",
       "std    6.540724e+03         807.915314\n",
       "min    0.000000e+00           0.000000\n",
       "25%    3.869250e+02         347.671872\n",
       "50%    1.109000e+03        1059.574410\n",
       "75%    1.674000e+03        1674.720000\n",
       "max    3.251373e+06        6001.191648"
      ]
     },
     "execution_count": 121,
     "metadata": {},
     "output_type": "execute_result"
    }
   ],
   "source": [
    "#statistiques sur l'apport énergetique\n",
    "energy.describe()"
   ]
  },
  {
   "cell_type": "markdown",
   "id": "b401a633-b64c-4251-af92-7b3d217d831f",
   "metadata": {},
   "source": [
    "La médiane et la moyenne sont similaires. Par contre, il doit y avoir des valeurs aberrantes: l'apport énergétique maximal est pour une teneur en gras de 100g, et 100g*9kcal/g*4.1868 = 3768.12 kJ. Je vais filtrer pour ne garder que les valeurs inférieures à 3768.12."
   ]
  },
  {
   "cell_type": "code",
   "execution_count": 122,
   "id": "e2106459-e138-415e-8a1a-480ea5d4d7d0",
   "metadata": {},
   "outputs": [],
   "source": [
    "energy = energy.loc[(energy[\"energy_100g\"] <= 3768.12)&(energy[\"calculated energy\"] <= 3768.12)]"
   ]
  },
  {
   "cell_type": "code",
   "execution_count": 123,
   "id": "93bf6626-2b6e-4d69-a4c9-5682b9d25d36",
   "metadata": {},
   "outputs": [
    {
     "data": {
      "image/png": "[encoded data removed]",
      "text/plain": [
       "<Figure size 485.75x360 with 1 Axes>"
      ]
     },
     "metadata": {
      "needs_background": "light"
     },
     "output_type": "display_data"
    }
   ],
   "source": [
    "#Comparaison des distributions de l'apport énergétique du jeu des données et celui calculé\n",
    "sns.displot(data = energy, kind = 'kde')\n",
    "plt.title('Distribution de l\\'apport énergetique du jeu des données et de l\\'apport calculé')\n",
    "plt.xlabel('Apport énérgétique pour 100g (kJ)', fontsize = 11)\n",
    "plt.ylabel('Densité', fontsize = 11)\n",
    "plt.tick_params(axis='y',direction='in')\n",
    "plt.tick_params(axis='x',direction='in')"
   ]
  },
  {
   "cell_type": "markdown",
   "id": "7f7c81e2-142b-46da-b1ae-a7fa07d64e60",
   "metadata": {},
   "source": [
    "Les distributions ne se superposent pas exactment, mais il est raisonnable de remplacer les valeurs manquantes avec l'apport énérgétique calculé. La fonction `energy_100_null_values` remplace les valeurs manquantes et supprime les valeurs aberrantes."
   ]
  },
  {
   "cell_type": "code",
   "execution_count": 126,
   "id": "0bdc4dea-1c9f-4f8c-93fe-2edd2559a075",
   "metadata": {},
   "outputs": [],
   "source": [
    "data = energy_100_null_values(data)"
   ]
  },
  {
   "cell_type": "code",
   "execution_count": 127,
   "id": "e516cf82-8a15-4ed5-aa07-4cdb283fec0d",
   "metadata": {},
   "outputs": [
    {
     "data": {
      "text/plain": [
       "(252084, 16)"
      ]
     },
     "execution_count": 127,
     "metadata": {},
     "output_type": "execute_result"
    }
   ],
   "source": [
    "#nombre des lignes et colonnes\n",
    "data.shape"
   ]
  },
  {
   "cell_type": "code",
   "execution_count": 128,
   "id": "4403f75f-5d2c-4f58-8d5a-758c1cb40dbf",
   "metadata": {},
   "outputs": [
    {
     "data": {
      "text/plain": [
       "code                       0.000000\n",
       "url                        0.000000\n",
       "energy_100g                0.000000\n",
       "fat_100g                   0.000000\n",
       "saturated-fat_100g         0.000000\n",
       "carbohydrates_100g         0.000000\n",
       "sugars_100g                0.000000\n",
       "proteins_100g              0.000000\n",
       "vitamins_100g              0.000000\n",
       "product_name               0.012746\n",
       "salt_100g                  0.021398\n",
       "nutrition_grade_fr         0.140596\n",
       "nutrition-score-fr_100g    0.140596\n",
       "fiber_100g                 0.223763\n",
       "pnns_groups_2              0.785762\n",
       "pnns_groups_1              0.786341\n",
       "dtype: float64"
      ]
     },
     "execution_count": 128,
     "metadata": {},
     "output_type": "execute_result"
    }
   ],
   "source": [
    "#vérification valeurs manquantes\n",
    "(data.isna().sum()/data.shape[0]).sort_values()"
   ]
  },
  {
   "cell_type": "markdown",
   "id": "08528cfe-8d4e-431f-8461-1a1311c19a8d",
   "metadata": {},
   "source": [
    "## 4.3 Teneur en sel"
   ]
  },
  {
   "cell_type": "code",
   "execution_count": 129,
   "id": "364d1863-4a3b-4ed7-bf8e-e31e9c163e63",
   "metadata": {},
   "outputs": [
    {
     "data": {
      "text/plain": [
       "count    246690.000000\n",
       "mean          0.913919\n",
       "std           1.212912\n",
       "min           0.000000\n",
       "25%           0.060000\n",
       "50%           0.543560\n",
       "75%           1.300000\n",
       "max          10.000000\n",
       "Name: salt_100g, dtype: float64"
      ]
     },
     "execution_count": 129,
     "metadata": {},
     "output_type": "execute_result"
    }
   ],
   "source": [
    "#informations statistiques sur la teneur en sel\n",
    "data['salt_100g'].describe()"
   ]
  },
  {
   "cell_type": "code",
   "execution_count": 130,
   "id": "f9f41001-d400-460e-ba85-0e5e71e9704b",
   "metadata": {},
   "outputs": [
    {
     "data": {
      "text/plain": [
       "(0.0, 3.0)"
      ]
     },
     "execution_count": 130,
     "metadata": {},
     "output_type": "execute_result"
    },
    {
     "data": {
      "image/png": "[encoded data removed]",
      "text/plain": [
       "<Figure size 432x288 with 1 Axes>"
      ]
     },
     "metadata": {
      "needs_background": "light"
     },
     "output_type": "display_data"
    }
   ],
   "source": [
    "#Distribution de la teneur en sel\n",
    "sns.histplot(data['salt_100g'])\n",
    "plt.title('Distribution de la teneur en sel')\n",
    "plt.xlabel('Teneur en sel pour 100g (g)', fontsize = 11)\n",
    "plt.ylabel('Nombre de produits', fontsize = 11)\n",
    "plt.tick_params(axis='y',direction='in')\n",
    "plt.tick_params(axis='x',direction='in')\n",
    "plt.xlim((0,3))"
   ]
  },
  {
   "cell_type": "markdown",
   "id": "234b6d88-d988-4d9d-8743-eae3e738871a",
   "metadata": {},
   "source": [
    "Je vais regarder le nom de certains produits pour lesquels la teneur en sel est manquante, afin de comprendre s'il s'agit des produits sans sel ou pas."
   ]
  },
  {
   "cell_type": "code",
   "execution_count": 137,
   "id": "12cc3cd7-17ba-4129-9e6f-8334326ef42a",
   "metadata": {},
   "outputs": [
    {
     "data": {
      "text/plain": [
       "248538                                       sesame cracker\n",
       "246163    Levadura de cerveza ecológica &quot;Ecocesta P...\n",
       "233382          Picknick Morceaux de thon à la sauce tomate\n",
       "193334                                      10 Jambons Gril\n",
       "219543                                    Fanta Free Orange\n",
       "229375                                              Ricotta\n",
       "200223                                  Cheese Burger Halal\n",
       "187878         Les Cocottes, Porc et Chorizo à la Catalane \n",
       "190441                   Huile d'olive fraîchement extraite\n",
       "172544    Apéricube (23 % MG) - (Saveurs : Poêlée de St-...\n",
       "Name: product_name, dtype: object"
      ]
     },
     "execution_count": 137,
     "metadata": {},
     "output_type": "execute_result"
    }
   ],
   "source": [
    "#example des produits pour lesquels la teneur en sel est manquante\n",
    "data.loc[data['salt_100g'].isna(), \"product_name\"].sample(10)"
   ]
  },
  {
   "cell_type": "markdown",
   "id": "5d026571-65b4-4ea1-b17a-07e7210164c3",
   "metadata": {},
   "source": [
    "Certains produits contiennent surement du sel: je ne peux pas remplacer les valeurs manquantes avec 0. Je vais utiliser la médiane, car la distribution du sel est asymettrique. "
   ]
  },
  {
   "cell_type": "code",
   "execution_count": 138,
   "id": "067d8d24-671e-4a97-b23e-62b49d0fbe58",
   "metadata": {},
   "outputs": [],
   "source": [
    "#remplacement valeurs manquantes avec la médiane\n",
    "data['salt_100g'] = data['salt_100g'].fillna(data['salt_100g'].median())"
   ]
  },
  {
   "cell_type": "markdown",
   "id": "bf8106de-8fe7-48c9-8815-19207afa879a",
   "metadata": {},
   "source": [
    "## 4.4 Teneur en fibres"
   ]
  },
  {
   "cell_type": "code",
   "execution_count": 139,
   "id": "f42271c3-494e-4bca-a650-514241391e65",
   "metadata": {},
   "outputs": [
    {
     "data": {
      "text/plain": [
       "count    195677.000000\n",
       "mean          2.788842\n",
       "std           4.289534\n",
       "min           0.000000\n",
       "25%           0.000000\n",
       "50%           1.500000\n",
       "75%           3.600000\n",
       "max          60.000000\n",
       "Name: fiber_100g, dtype: float64"
      ]
     },
     "execution_count": 139,
     "metadata": {},
     "output_type": "execute_result"
    }
   ],
   "source": [
    "#informations statistiques sur les fibres\n",
    "data['fiber_100g'].describe()"
   ]
  },
  {
   "cell_type": "code",
   "execution_count": 140,
   "id": "2ba5d806-ba7b-46cc-9250-9f276e90eba6",
   "metadata": {},
   "outputs": [
    {
     "data": {
      "text/plain": [
       "(0.0, 10.0)"
      ]
     },
     "execution_count": 140,
     "metadata": {},
     "output_type": "execute_result"
    },
    {
     "data": {
      "image/png": "[encoded data removed]",
      "text/plain": [
       "<Figure size 432x288 with 1 Axes>"
      ]
     },
     "metadata": {
      "needs_background": "light"
     },
     "output_type": "display_data"
    }
   ],
   "source": [
    "#Distribution de la teneur en fibres\n",
    "sns.histplot(data.loc[data['fiber_100g'].notna(), 'fiber_100g'])\n",
    "plt.title('Distribution de la teneur en fibres')\n",
    "plt.xlabel('Teneur en fibres pour 100g (g)', fontsize = 11)\n",
    "plt.ylabel('Nombre de produits', fontsize = 11)\n",
    "plt.tick_params(axis='y',direction='in')\n",
    "plt.tick_params(axis='x',direction='in')\n",
    "plt.xlim((0,10))"
   ]
  },
  {
   "cell_type": "markdown",
   "id": "63288f65-769c-4d6e-8159-0b388beb24fc",
   "metadata": {},
   "source": [
    "Je vais regarder le nom de certains produits pour lesquels la teneur en fibres est manquante, afin de comprendre s'il s'agit des produits sans fibres ou pas."
   ]
  },
  {
   "cell_type": "code",
   "execution_count": 148,
   "id": "79cc864d-0f7f-40f9-ba15-fbccc48d1d7f",
   "metadata": {},
   "outputs": [
    {
     "data": {
      "text/plain": [
       "196044                                         Purée Pommes\n",
       "198078                                      Cacao noir 100%\n",
       "25792                             Fiesta!, Soda, Lemon Lime\n",
       "44337                                                 Candy\n",
       "38522                                      Canola Oil Blend\n",
       "14013                       Jamaican Herbal Tea, Peppermint\n",
       "160092    Grown-Up-Soda, Lightly Sweetened Blackberry So...\n",
       "226184                           Choux-fleurs en fleurettes\n",
       "189117       Biscuits sablés à la noix de coco Leader Price\n",
       "14081     Flavored Sparkling Water Beverage, White Grape...\n",
       "Name: product_name, dtype: object"
      ]
     },
     "execution_count": 148,
     "metadata": {},
     "output_type": "execute_result"
    }
   ],
   "source": [
    "#example des produits pour lesquels la teneur en fibres est manquante\n",
    "data.loc[data['fiber_100g'].isna(), 'product_name'].sample(10)"
   ]
  },
  {
   "cell_type": "markdown",
   "id": "5ccc0c45-3a0c-4282-b52b-2bb908a0402b",
   "metadata": {},
   "source": [
    "On peut trouver certains produits qui probablement contiennent des fibres (cacao et choux-fleurs). Ainsi, je ne peux pas remplacer les valeurs manquantes avec 0. Aussi, étant donné que le taux de valeurs manquantes est 22%, si je remplaçais les valeurs manquantes avec une valeur constante je risquerai d'avoir autour de 50k produits avec le meme valeur de teneur en fibre, ce qui n'a pas beaucoup de sens. Ainsi, je prefer utiliser le KNN imputer. "
   ]
  },
  {
   "cell_type": "code",
   "execution_count": 149,
   "id": "a2bc53ba-06a6-446a-b694-c6911c9f07b4",
   "metadata": {},
   "outputs": [],
   "source": [
    "#variables d'entrée du KNN imputer\n",
    "nutrients_columns = [ 'fat_100g', \n",
    "                     'saturated-fat_100g', \n",
    "                     'carbohydrates_100g',\n",
    "                     'sugars_100g', \n",
    "                     'fiber_100g', \n",
    "                     'proteins_100g', \n",
    "                     'salt_100g',\n",
    "                    ]"
   ]
  },
  {
   "cell_type": "markdown",
   "id": "c07ca728-44f2-466d-a7a9-c2840ae31430",
   "metadata": {},
   "source": [
    "La fonction `knn_imputer` retourne les variables en entrée sans valeurs manquantes"
   ]
  },
  {
   "cell_type": "code",
   "execution_count": 150,
   "id": "477e7389-c069-43c1-a6f7-3b3f2221fb88",
   "metadata": {},
   "outputs": [],
   "source": [
    "#imputation KNN\n",
    "imputed_data = knn_imputer(data, nutrients_columns, 5)"
   ]
  },
  {
   "cell_type": "markdown",
   "id": "2ee6c3d6-fd87-4121-9a30-5e861772f7c3",
   "metadata": {},
   "source": [
    "Avant de remplacer les valeurs manquantes, je vais comparer les distributions des valeurs imputées et des valeurs d'origine."
   ]
  },
  {
   "cell_type": "code",
   "execution_count": 151,
   "id": "28ffd84a-98ca-4674-95bf-9837297fbb24",
   "metadata": {},
   "outputs": [
    {
     "data": {
      "text/plain": [
       "(0.0, 10.0)"
      ]
     },
     "execution_count": 151,
     "metadata": {},
     "output_type": "execute_result"
    },
    {
     "data": {
      "image/png": "[encoded data removed]",
      "text/plain": [
       "<Figure size 432x288 with 1 Axes>"
      ]
     },
     "metadata": {
      "needs_background": "light"
     },
     "output_type": "display_data"
    }
   ],
   "source": [
    "#Comparaison des distributions\n",
    "sns.histplot(imputed_data['fiber_100g'])\n",
    "sns.histplot(data.loc[data['fiber_100g'].notna(), \"fiber_100g\"], color='r')\n",
    "plt.legend(labels = [\"imputed\", \"original\"])\n",
    "plt.xlim((0, 10))"
   ]
  },
  {
   "cell_type": "markdown",
   "id": "f68e8fc9-7910-47a2-b6d8-29967e0cb0e5",
   "metadata": {},
   "source": [
    "Les valeurs imputées reflètent la distribution de départ, je vais donc les utilise pour le remplacement."
   ]
  },
  {
   "cell_type": "code",
   "execution_count": 152,
   "id": "bbce8826-e954-4f36-ba50-c611cf938f1b",
   "metadata": {},
   "outputs": [],
   "source": [
    "#remplacement valeurs manquantes\n",
    "data['fiber_100g'] = data['fiber_100g'].fillna(imputed_data['fiber_100g'])"
   ]
  },
  {
   "cell_type": "code",
   "execution_count": 153,
   "id": "dfbfe324-0ced-436e-9b67-51dee5fc4d72",
   "metadata": {},
   "outputs": [
    {
     "data": {
      "text/plain": [
       "code                       0.000000\n",
       "url                        0.000000\n",
       "energy_100g                0.000000\n",
       "fat_100g                   0.000000\n",
       "saturated-fat_100g         0.000000\n",
       "carbohydrates_100g         0.000000\n",
       "sugars_100g                0.000000\n",
       "fiber_100g                 0.000000\n",
       "proteins_100g              0.000000\n",
       "salt_100g                  0.000000\n",
       "vitamins_100g              0.000000\n",
       "product_name               0.012746\n",
       "nutrition_grade_fr         0.140596\n",
       "nutrition-score-fr_100g    0.140596\n",
       "pnns_groups_2              0.785762\n",
       "pnns_groups_1              0.786341\n",
       "dtype: float64"
      ]
     },
     "execution_count": 153,
     "metadata": {},
     "output_type": "execute_result"
    }
   ],
   "source": [
    "#vérification valeurs manquantes\n",
    "(data.isna().sum()/data.shape[0]).sort_values()"
   ]
  },
  {
   "cell_type": "markdown",
   "id": "eb99d033-3e2d-430a-8a07-6802f7f511bf",
   "metadata": {},
   "source": [
    "Enfin, je vais supprimer les produits pour lesquels la somme des macronutriments, sel, fibres et vitamines dépasse les 100g: ces produits sont à considérer aberrants."
   ]
  },
  {
   "cell_type": "code",
   "execution_count": 154,
   "id": "c1239374-70e1-4d93-a3f9-c4bc6f85ba2b",
   "metadata": {},
   "outputs": [],
   "source": [
    "#suppression des valeurs aberrantes: la somme des nutriments est 100g au maximum\n",
    "mask = data['fat_100g'] + data['carbohydrates_100g']+ data['proteins_100g']+  data['vitamins_100g']+ data['salt_100g']+ data['fiber_100g'] <= 100\n",
    "data = data[mask]"
   ]
  },
  {
   "cell_type": "code",
   "execution_count": 155,
   "id": "0e996141-7ff5-4b59-8579-c9fa3a138a9f",
   "metadata": {},
   "outputs": [
    {
     "data": {
      "text/plain": [
       "(229513, 16)"
      ]
     },
     "execution_count": 155,
     "metadata": {},
     "output_type": "execute_result"
    }
   ],
   "source": [
    "#nombre des lignes et colonnes\n",
    "data.shape"
   ]
  },
  {
   "cell_type": "markdown",
   "id": "fe2d59ad-3e23-4989-9fe3-1076c22ac13e",
   "metadata": {},
   "source": [
    "Autour de 22k données ont été supprimées"
   ]
  },
  {
   "cell_type": "code",
   "execution_count": 156,
   "id": "a05899f1-9775-4d03-a7ab-4f4cdb15d293",
   "metadata": {},
   "outputs": [],
   "source": [
    "#reset de l'index après la suppression des données aberrantes\n",
    "data.reset_index().drop(\"index\", axis = 1, inplace= True)"
   ]
  },
  {
   "cell_type": "code",
   "execution_count": 157,
   "id": "0b330756-c441-4705-917c-8edbb3c64f04",
   "metadata": {},
   "outputs": [],
   "source": [
    "#sauvegarde du dataframe\n",
    "data.to_csv('Data/Cleaning/nullvaluesnutrientsok.csv', index = False)\n"
   ]
  },
  {
   "cell_type": "markdown",
   "id": "bdb5bad0-fbb9-4d1a-b168-2d516412aef8",
   "metadata": {},
   "source": [
    "## 4.5 Score nutritionnel"
   ]
  },
  {
   "cell_type": "code",
   "execution_count": 258,
   "id": "223d742e-84d0-4560-9818-ecc89d6a7eb7",
   "metadata": {},
   "outputs": [],
   "source": [
    "data=pd.read_csv('Data/Cleaning/nullvaluesnutrientsok.csv', low_memory= False)"
   ]
  },
  {
   "cell_type": "markdown",
   "id": "f6c0df74-40e8-4519-a3cb-0dd45e2a48b8",
   "metadata": {},
   "source": [
    "Etant donné que le score nutritionnel peut être calculé à partir des nutriments d'un produit, il est raisonnable d'utiliser le KNN Imputer pour remplacer les valeurs manquantes : des produits avec une teneur en nutriments similaire auront un score nutritionnel similaire. Pour l’imputation, je vais fournir en entrée les variables qui rentrent dans le calcul du Nutri-score."
   ]
  },
  {
   "cell_type": "code",
   "execution_count": 158,
   "id": "a9014520-99a6-45ef-8ec5-9112b687e163",
   "metadata": {},
   "outputs": [],
   "source": [
    "#selection variables d'entrée pour le KNN imputer\n",
    "knn_data_nutriscore = [\n",
    "    'energy_100g', \n",
    "    'fat_100g', \n",
    "    'saturated-fat_100g',\n",
    "    'sugars_100g', \n",
    "    'fiber_100g', \n",
    "    'proteins_100g',\n",
    "    'salt_100g', \n",
    "    'nutrition-score-fr_100g', \n",
    "    'vitamins_100g']"
   ]
  },
  {
   "cell_type": "code",
   "execution_count": 159,
   "id": "7d1596a6-4266-4fea-92e0-71991cf91df3",
   "metadata": {},
   "outputs": [],
   "source": [
    "#imputation KNN\n",
    "imputed_data_score = knn_imputer(data, knn_data_nutriscore, 5)"
   ]
  },
  {
   "cell_type": "code",
   "execution_count": 161,
   "id": "54bde1bc-d1d3-42ce-ab30-6936a4a2c4de",
   "metadata": {},
   "outputs": [],
   "source": [
    "#remplacement valeurs manquantes\n",
    "data['nutrition-score-fr_100g'] = data['nutrition-score-fr_100g'].fillna(imputed_data_score['nutrition-score-fr_100g'].astype('int64'))"
   ]
  },
  {
   "cell_type": "code",
   "execution_count": 162,
   "id": "e017905f-8f9e-4515-b6d5-dee4d82aae38",
   "metadata": {},
   "outputs": [
    {
     "data": {
      "text/plain": [
       "code                       0.000000\n",
       "url                        0.000000\n",
       "energy_100g                0.000000\n",
       "fat_100g                   0.000000\n",
       "saturated-fat_100g         0.000000\n",
       "carbohydrates_100g         0.000000\n",
       "sugars_100g                0.000000\n",
       "fiber_100g                 0.000000\n",
       "proteins_100g              0.000000\n",
       "salt_100g                  0.000000\n",
       "nutrition-score-fr_100g    0.000000\n",
       "vitamins_100g              0.000000\n",
       "product_name               0.013616\n",
       "nutrition_grade_fr         0.147090\n",
       "pnns_groups_2              0.769617\n",
       "pnns_groups_1              0.770253\n",
       "dtype: float64"
      ]
     },
     "execution_count": 162,
     "metadata": {},
     "output_type": "execute_result"
    }
   ],
   "source": [
    "#vérification valeurs manquantes\n",
    "(data.isna().sum()/data.shape[0]).sort_values()"
   ]
  },
  {
   "cell_type": "code",
   "execution_count": 163,
   "id": "3caf7431-766c-43ac-9488-65d6e5727d9f",
   "metadata": {},
   "outputs": [],
   "source": [
    "#sauvegarde du dataframe\n",
    "data.to_csv(\"Data/Cleaning/categories_imputer_ok.csv\", index = False)"
   ]
  },
  {
   "cell_type": "markdown",
   "id": "991f4354-3788-4ff9-a744-ef97486df1d9",
   "metadata": {},
   "source": [
    "## 4.6 Catégorie du produit : PNNS groups\n"
   ]
  },
  {
   "cell_type": "code",
   "execution_count": 164,
   "id": "a44bb2a6-b23b-443f-8365-6e29e88dca80",
   "metadata": {},
   "outputs": [],
   "source": [
    "#lecture données\n",
    "data = pd.read_csv(\"Data/Cleaning/categories_imputer_ok.csv\", low_memory = False)"
   ]
  },
  {
   "cell_type": "markdown",
   "id": "01c9ac8f-3daf-4ba6-90e5-c6c36ec4601e",
   "metadata": {},
   "source": [
    "En ce qui concerne les catégories, je n'avais gardé que `pnns_groups_1` et `pnns_groups_2` avec 9 et 36 valeurs uniques, respectivement.\n",
    "Ces variables ont un taux similaire des valeurs manquantes. \n",
    "L'idée est d'abord d’utiliser un KNN Imputer pour remplacer les valeurs manquantes du `pnns_groups_1`, dont les catégories sont plus génériques. Si j'obtiens des catégories cohérentes, je vais utiliser un 2eme KNN Imputer pour remplacer les valeurs manquantes de la variable `pnns_groups_2`. La fonction `knn_imputer_categorical` realise toutes les étapes nécessaires aux remplacement des valeurs manquantes,labélisation des catégories,  scaling, imputation, transformations inverser et remplacement des valeurs manquantes."
   ]
  },
  {
   "cell_type": "markdown",
   "id": "3a730375-e355-4bc7-8378-97f7019ba975",
   "metadata": {},
   "source": [
    "### 4.6.1 pnns_groups_1"
   ]
  },
  {
   "cell_type": "code",
   "execution_count": 165,
   "id": "5abf7e03-99da-48ff-9037-daaeb0d545a7",
   "metadata": {},
   "outputs": [],
   "source": [
    "#variables à fournir en entrée au KNN imputer\n",
    "columns_knn_pnns_1 = [\n",
    "    'pnns_groups_1',\n",
    "    'energy_100g', \n",
    "    'fat_100g',\n",
    "    'saturated-fat_100g', \n",
    "    'carbohydrates_100g', \n",
    "    'sugars_100g', \n",
    "    'fiber_100g',\n",
    "    'proteins_100g', \n",
    "    'salt_100g', \n",
    "    'nutrition-score-fr_100g',\n",
    "    'vitamins_100g']"
   ]
  },
  {
   "cell_type": "code",
   "execution_count": 166,
   "id": "772c69b1-61d3-4330-aa4f-2e45e6f3dad7",
   "metadata": {},
   "outputs": [
    {
     "name": "stderr",
     "output_type": "stream",
     "text": [
      "C:\\Users\\elena\\AppData\\Local\\Temp\\ipykernel_20828\\230069972.py:167: SettingWithCopyWarning: \n",
      "A value is trying to be set on a copy of a slice from a DataFrame.\n",
      "Try using .loc[row_indexer,col_indexer] = value instead\n",
      "\n",
      "See the caveats in the documentation: https://pandas.pydata.org/pandas-docs/stable/user_guide/indexing.html#returning-a-view-versus-a-copy\n",
      "  data_columns[categorical]= data_columns[categorical].astype('float64')\n"
     ]
    }
   ],
   "source": [
    "#imputation KNN\n",
    "data = knn_imputer_categorical(data, 'pnns_groups_1', columns_knn_pnns_1, 15)"
   ]
  },
  {
   "cell_type": "code",
   "execution_count": 24,
   "id": "c1945c26-4bad-44bb-b227-18321461f32f",
   "metadata": {},
   "outputs": [
    {
     "data": {
      "text/plain": [
       "code                            0\n",
       "url                             0\n",
       "product_name                 3139\n",
       "nutrition_grade_fr          33812\n",
       "pnns_groups_1                   0\n",
       "pnns_groups_2              176989\n",
       "energy_100g                     0\n",
       "fat_100g                        0\n",
       "saturated-fat_100g              0\n",
       "carbohydrates_100g              0\n",
       "sugars_100g                     0\n",
       "fiber_100g                      0\n",
       "proteins_100g                   0\n",
       "salt_100g                       0\n",
       "nutrition-score-fr_100g         0\n",
       "vitamins_100g                   0\n",
       "dtype: int64"
      ]
     },
     "execution_count": 24,
     "metadata": {},
     "output_type": "execute_result"
    }
   ],
   "source": [
    "#vérification valeurs manquantes\n",
    "data.isna().sum()"
   ]
  },
  {
   "cell_type": "markdown",
   "id": "6290bc64-db5f-4128-867a-3f07ee54f773",
   "metadata": {},
   "source": [
    "Pour vérifier que le KNN Imputer a produit des données cohérentes, je vais examiner les noms de produits et la catégorie `pnns_groups_1`"
   ]
  },
  {
   "cell_type": "code",
   "execution_count": 391,
   "id": "3e9d9854-244e-42f3-9baf-ae2b8c64a11f",
   "metadata": {},
   "outputs": [
    {
     "data": {
      "text/html": [
       "<div>\n",
       "<style scoped>\n",
       "    .dataframe tbody tr th:only-of-type {\n",
       "        vertical-align: middle;\n",
       "    }\n",
       "\n",
       "    .dataframe tbody tr th {\n",
       "        vertical-align: top;\n",
       "    }\n",
       "\n",
       "    .dataframe thead th {\n",
       "        text-align: right;\n",
       "    }\n",
       "</style>\n",
       "<table border=\"1\" class=\"dataframe\">\n",
       "  <thead>\n",
       "    <tr style=\"text-align: right;\">\n",
       "      <th></th>\n",
       "      <th>product_name</th>\n",
       "      <th>pnns_groups_1</th>\n",
       "    </tr>\n",
       "  </thead>\n",
       "  <tbody>\n",
       "    <tr>\n",
       "      <th>158012</th>\n",
       "      <td>Ice Tea saveur Mangue</td>\n",
       "      <td>Beverages</td>\n",
       "    </tr>\n",
       "    <tr>\n",
       "      <th>182584</th>\n",
       "      <td>Champignons de Paris entiers 1er choix Bio</td>\n",
       "      <td>Fruits and vegetables</td>\n",
       "    </tr>\n",
       "    <tr>\n",
       "      <th>112041</th>\n",
       "      <td>Somerdale, Tintern Aged Cheddar Cheese With Ch...</td>\n",
       "      <td>Milk and dairy products</td>\n",
       "    </tr>\n",
       "    <tr>\n",
       "      <th>204856</th>\n",
       "      <td>Côte d'Or noir noisettes</td>\n",
       "      <td>Sugary snacks</td>\n",
       "    </tr>\n",
       "    <tr>\n",
       "      <th>47334</th>\n",
       "      <td>Lobster Bisque</td>\n",
       "      <td>Composite foods</td>\n",
       "    </tr>\n",
       "    <tr>\n",
       "      <th>3535</th>\n",
       "      <td>Spreadable Butter, Olive Oil And Sea Salt</td>\n",
       "      <td>Fat and sauces</td>\n",
       "    </tr>\n",
       "    <tr>\n",
       "      <th>197641</th>\n",
       "      <td>Galettes mexicaines</td>\n",
       "      <td>Cereals and potatoes</td>\n",
       "    </tr>\n",
       "    <tr>\n",
       "      <th>40603</th>\n",
       "      <td>Cauliflower Florets</td>\n",
       "      <td>Fat and sauces</td>\n",
       "    </tr>\n",
       "    <tr>\n",
       "      <th>14642</th>\n",
       "      <td>Apple Sauce</td>\n",
       "      <td>Beverages</td>\n",
       "    </tr>\n",
       "    <tr>\n",
       "      <th>87905</th>\n",
       "      <td>Shaved Parmesan Cheese</td>\n",
       "      <td>Milk and dairy products</td>\n",
       "    </tr>\n",
       "  </tbody>\n",
       "</table>\n",
       "</div>"
      ],
      "text/plain": [
       "                                             product_name  \\\n",
       "158012                              Ice Tea saveur Mangue   \n",
       "182584         Champignons de Paris entiers 1er choix Bio   \n",
       "112041  Somerdale, Tintern Aged Cheddar Cheese With Ch...   \n",
       "204856                          Côte d'Or noir noisettes    \n",
       "47334                                      Lobster Bisque   \n",
       "3535            Spreadable Butter, Olive Oil And Sea Salt   \n",
       "197641                                Galettes mexicaines   \n",
       "40603                                 Cauliflower Florets   \n",
       "14642                                         Apple Sauce   \n",
       "87905                              Shaved Parmesan Cheese   \n",
       "\n",
       "                  pnns_groups_1  \n",
       "158012                Beverages  \n",
       "182584    Fruits and vegetables  \n",
       "112041  Milk and dairy products  \n",
       "204856            Sugary snacks  \n",
       "47334           Composite foods  \n",
       "3535             Fat and sauces  \n",
       "197641     Cereals and potatoes  \n",
       "40603            Fat and sauces  \n",
       "14642                 Beverages  \n",
       "87905   Milk and dairy products  "
      ]
     },
     "execution_count": 391,
     "metadata": {},
     "output_type": "execute_result"
    }
   ],
   "source": [
    "data[['product_name', 'pnns_groups_1']].sample(10)"
   ]
  },
  {
   "cell_type": "markdown",
   "id": "12b1c012-e775-4b31-93c7-e3d2c055796e",
   "metadata": {},
   "source": [
    "En ayant regardé plusieurs échantillons, j'ai pu observer que l'association produit-catégorie n'est pas exacte au 100%. Par exemple, Cauliflower Florets devrait faire partir de `Fruits et vegetables`, alors qu’ici il est classé comme `Fat and sauces`. J'estime l'erreur à 5-10%.\n",
    "\n",
    "Je pense que malgré l'erreur, l'application pourrait être faisable: il y a des chances que si un produit est mal classé, aussi les produits similaires seront mal classés et vont rentrer dans la même 'mauvaise' catégorie. Ainsi, en cherchant des produits similaires dans la même ‘mauvaise’ catégorie, l'application va pouvoir repérer les bons produits."
   ]
  },
  {
   "cell_type": "code",
   "execution_count": 167,
   "id": "a9f4ac63-a171-4eab-ad47-10c3f7d3e51e",
   "metadata": {},
   "outputs": [
    {
     "data": {
      "text/plain": [
       "code                       0.000000\n",
       "url                        0.000000\n",
       "pnns_groups_1              0.000000\n",
       "energy_100g                0.000000\n",
       "fat_100g                   0.000000\n",
       "saturated-fat_100g         0.000000\n",
       "carbohydrates_100g         0.000000\n",
       "sugars_100g                0.000000\n",
       "fiber_100g                 0.000000\n",
       "proteins_100g              0.000000\n",
       "salt_100g                  0.000000\n",
       "nutrition-score-fr_100g    0.000000\n",
       "vitamins_100g              0.000000\n",
       "product_name               0.013616\n",
       "nutrition_grade_fr         0.147090\n",
       "pnns_groups_2              0.769617\n",
       "dtype: float64"
      ]
     },
     "execution_count": 167,
     "metadata": {},
     "output_type": "execute_result"
    }
   ],
   "source": [
    "#Vérification valeurs manquantes\n",
    "(data.isna().sum()/data.shape[0]).sort_values()"
   ]
  },
  {
   "cell_type": "markdown",
   "id": "f2d3415a-02aa-4a5e-a0d6-c360aa8c5396",
   "metadata": {
    "tags": []
   },
   "source": [
    "### 4.6.2 pnns_groups_2"
   ]
  },
  {
   "cell_type": "markdown",
   "id": "6e225295-5ffb-4b86-9b01-f2e38ad1c837",
   "metadata": {},
   "source": [
    "Je vais remplacer les valeurs manquantes de la variable `pnns_groups_2` à l'aide du KNN imputer"
   ]
  },
  {
   "cell_type": "code",
   "execution_count": 168,
   "id": "c7daa99b-325e-4c41-8d17-47a3f716e21b",
   "metadata": {},
   "outputs": [],
   "source": [
    "#labelisation données pnns_groups_1\n",
    "labels = LabelEncoder()\n",
    "pnns_1_num = labels.fit_transform(data['pnns_groups_1'])\n",
    "data['pnns_groups_1_num'] = pnns_1_num"
   ]
  },
  {
   "cell_type": "code",
   "execution_count": 169,
   "id": "b9dc6c69-5446-4331-ba4a-d1fe5b3f4f02",
   "metadata": {},
   "outputs": [],
   "source": [
    "#variables à fournir en entrée au KNN imputer\n",
    "columns_knn_pnns_2 = [\n",
    "    'pnns_groups_1_num',\n",
    "    'pnns_groups_2',\n",
    "    'energy_100g', \n",
    "    'fat_100g',\n",
    "    'saturated-fat_100g', \n",
    "    'carbohydrates_100g', \n",
    "    'sugars_100g', \n",
    "    'fiber_100g',\n",
    "    'proteins_100g', \n",
    "    'salt_100g', \n",
    "    'nutrition-score-fr_100g',\n",
    "    'vitamins_100g']"
   ]
  },
  {
   "cell_type": "code",
   "execution_count": 170,
   "id": "72310a63-3b39-47e7-8be3-bc64e2f00783",
   "metadata": {},
   "outputs": [
    {
     "name": "stderr",
     "output_type": "stream",
     "text": [
      "C:\\Users\\elena\\AppData\\Local\\Temp\\ipykernel_20828\\230069972.py:167: SettingWithCopyWarning: \n",
      "A value is trying to be set on a copy of a slice from a DataFrame.\n",
      "Try using .loc[row_indexer,col_indexer] = value instead\n",
      "\n",
      "See the caveats in the documentation: https://pandas.pydata.org/pandas-docs/stable/user_guide/indexing.html#returning-a-view-versus-a-copy\n",
      "  data_columns[categorical]= data_columns[categorical].astype('float64')\n"
     ]
    }
   ],
   "source": [
    "#imputation\n",
    "data = knn_imputer_categorical(data, 'pnns_groups_2', columns_knn_pnns_2, 15)"
   ]
  },
  {
   "cell_type": "markdown",
   "id": "64a17b6f-26c0-404a-8363-8170e20a18a5",
   "metadata": {},
   "source": [
    "Pour vérifier que le KNN Imputer a produit des données cohérentes, je vais examiner les noms de produits et la catégorie `pnns_groups_2`"
   ]
  },
  {
   "cell_type": "code",
   "execution_count": 398,
   "id": "be16aa23-9734-43b9-974c-458a81dc994d",
   "metadata": {},
   "outputs": [
    {
     "data": {
      "text/html": [
       "<div>\n",
       "<style scoped>\n",
       "    .dataframe tbody tr th:only-of-type {\n",
       "        vertical-align: middle;\n",
       "    }\n",
       "\n",
       "    .dataframe tbody tr th {\n",
       "        vertical-align: top;\n",
       "    }\n",
       "\n",
       "    .dataframe thead th {\n",
       "        text-align: right;\n",
       "    }\n",
       "</style>\n",
       "<table border=\"1\" class=\"dataframe\">\n",
       "  <thead>\n",
       "    <tr style=\"text-align: right;\">\n",
       "      <th></th>\n",
       "      <th>product_name</th>\n",
       "      <th>pnns_groups_1</th>\n",
       "      <th>pnns_groups_2</th>\n",
       "    </tr>\n",
       "  </thead>\n",
       "  <tbody>\n",
       "    <tr>\n",
       "      <th>179169</th>\n",
       "      <td>Coppa</td>\n",
       "      <td>Fish Meat Eggs</td>\n",
       "      <td>Processed meat</td>\n",
       "    </tr>\n",
       "    <tr>\n",
       "      <th>100032</th>\n",
       "      <td>Muscle Milk, 30g Protein Crunch Bar, Vanilla A...</td>\n",
       "      <td>Fruits and vegetables</td>\n",
       "      <td>Meat</td>\n",
       "    </tr>\n",
       "    <tr>\n",
       "      <th>223139</th>\n",
       "      <td>Dulce de membrillo</td>\n",
       "      <td>Fruits and vegetables</td>\n",
       "      <td>Fruits</td>\n",
       "    </tr>\n",
       "    <tr>\n",
       "      <th>32828</th>\n",
       "      <td>Sour Cream, Light</td>\n",
       "      <td>Milk and dairy products</td>\n",
       "      <td>Dairy desserts</td>\n",
       "    </tr>\n",
       "    <tr>\n",
       "      <th>97555</th>\n",
       "      <td>Rubicon Bakers, Fruit &amp; Bran Muffins</td>\n",
       "      <td>Sugary snacks</td>\n",
       "      <td>Cereals</td>\n",
       "    </tr>\n",
       "    <tr>\n",
       "      <th>217224</th>\n",
       "      <td>Farce pour vol-au-vent M-Classic.</td>\n",
       "      <td>Fish Meat Eggs</td>\n",
       "      <td>Meat</td>\n",
       "    </tr>\n",
       "    <tr>\n",
       "      <th>154842</th>\n",
       "      <td>Filets d'anchois marines au citron confit</td>\n",
       "      <td>Fish Meat Eggs</td>\n",
       "      <td>Fish and seafood</td>\n",
       "    </tr>\n",
       "    <tr>\n",
       "      <th>186484</th>\n",
       "      <td>Crème de Caramel au Beurre Salé</td>\n",
       "      <td>Sugary snacks</td>\n",
       "      <td>Sweets</td>\n",
       "    </tr>\n",
       "    <tr>\n",
       "      <th>212432</th>\n",
       "      <td>Qualité et Prix Giandino Blanc</td>\n",
       "      <td>Salty snacks</td>\n",
       "      <td>Eggs</td>\n",
       "    </tr>\n",
       "    <tr>\n",
       "      <th>184491</th>\n",
       "      <td>Olive Huile d'olive vierge extra 60% MG (Tarti...</td>\n",
       "      <td>Fat and sauces</td>\n",
       "      <td>Fats</td>\n",
       "    </tr>\n",
       "  </tbody>\n",
       "</table>\n",
       "</div>"
      ],
      "text/plain": [
       "                                             product_name  \\\n",
       "179169                                              Coppa   \n",
       "100032  Muscle Milk, 30g Protein Crunch Bar, Vanilla A...   \n",
       "223139                                 Dulce de membrillo   \n",
       "32828                                   Sour Cream, Light   \n",
       "97555                Rubicon Bakers, Fruit & Bran Muffins   \n",
       "217224                  Farce pour vol-au-vent M-Classic.   \n",
       "154842          Filets d'anchois marines au citron confit   \n",
       "186484                    Crème de Caramel au Beurre Salé   \n",
       "212432                     Qualité et Prix Giandino Blanc   \n",
       "184491  Olive Huile d'olive vierge extra 60% MG (Tarti...   \n",
       "\n",
       "                  pnns_groups_1     pnns_groups_2  \n",
       "179169           Fish Meat Eggs    Processed meat  \n",
       "100032    Fruits and vegetables              Meat  \n",
       "223139    Fruits and vegetables            Fruits  \n",
       "32828   Milk and dairy products    Dairy desserts  \n",
       "97555             Sugary snacks           Cereals  \n",
       "217224           Fish Meat Eggs              Meat  \n",
       "154842           Fish Meat Eggs  Fish and seafood  \n",
       "186484            Sugary snacks            Sweets  \n",
       "212432             Salty snacks              Eggs  \n",
       "184491           Fat and sauces              Fats  "
      ]
     },
     "execution_count": 398,
     "metadata": {},
     "output_type": "execute_result"
    }
   ],
   "source": [
    "data[['product_name','pnns_groups_1', 'pnns_groups_2']].sample(10)"
   ]
  },
  {
   "cell_type": "markdown",
   "id": "d136ef8c-3fde-4b4c-953f-c6c1dbf86fd3",
   "metadata": {},
   "source": [
    "Ici, on peut voir clairement que l'association produit-catégorie `pnns_groups_2` est plutôt incohérente, peut être en raison de trop nombreuses classes. Je préfère supprimer cette variable."
   ]
  },
  {
   "cell_type": "code",
   "execution_count": 401,
   "id": "fcfcf123-a841-4066-88a6-b154f8c404d1",
   "metadata": {},
   "outputs": [],
   "source": [
    "#suppression variables \n",
    "data = data.drop(['pnns_groups_2', 'pnns_groups_1_num'], axis = 1)"
   ]
  },
  {
   "cell_type": "markdown",
   "id": "48a76ea8-f484-4fbc-9d45-6dbd40192a1f",
   "metadata": {
    "tags": []
   },
   "source": [
    "## 4.7 Nutri-score"
   ]
  },
  {
   "cell_type": "markdown",
   "id": "49edb1fd-3c56-45b2-a68d-cbeb28146037",
   "metadata": {},
   "source": [
    "Pour le `nutrition_grade_fr`, je peux tout simplement faire la conversion entre `nutrition-score-fr_100g` et grade détaillée ici :\n",
    "https://www.santepubliquefrance.fr/media/files/02-determinants-de-sante/nutrition-et-activite-physique/nutri-score/qr-scientifique-technique\n",
    "\n",
    "La fonction 'fill_nutrition_scores' réalise la conversion.\n",
    "(A noter que la conversion pourrait ne pas être exacte à 100%, parce qu’elle est différente pour produits solides et boissons, et pour distinguer les deux je me base sur la variable `pnns_groups_1` qui n'est pas exacte à 100. L’analyse de la cohérence de données est faite dans le Notebook 'Nardi_Elena_2_notebook_exploration_112022')."
   ]
  },
  {
   "cell_type": "code",
   "execution_count": 405,
   "id": "494b4cfe-e8c6-4a00-9fe2-a8bcd2bc94c1",
   "metadata": {},
   "outputs": [
    {
     "name": "stderr",
     "output_type": "stream",
     "text": [
      "C:\\Users\\elena\\AppData\\Local\\Temp\\ipykernel_20828\\230069972.py:205: SettingWithCopyWarning: \n",
      "A value is trying to be set on a copy of a slice from a DataFrame.\n",
      "Try using .loc[row_indexer,col_indexer] = value instead\n",
      "\n",
      "See the caveats in the documentation: https://pandas.pydata.org/pandas-docs/stable/user_guide/indexing.html#returning-a-view-versus-a-copy\n",
      "  data_sol.loc[data_grade, \"calculated_grade\"] = grade\n",
      "C:\\Users\\elena\\AppData\\Local\\Temp\\ipykernel_20828\\230069972.py:208: SettingWithCopyWarning: \n",
      "A value is trying to be set on a copy of a slice from a DataFrame.\n",
      "Try using .loc[row_indexer,col_indexer] = value instead\n",
      "\n",
      "See the caveats in the documentation: https://pandas.pydata.org/pandas-docs/stable/user_guide/indexing.html#returning-a-view-versus-a-copy\n",
      "  data_bev.loc[data_grade, 'calculated_grade'] = grade\n"
     ]
    }
   ],
   "source": [
    "data = fill_nutrition_scores(data)"
   ]
  },
  {
   "cell_type": "code",
   "execution_count": 406,
   "id": "7db13ffe-b78b-43e9-8ae2-d517406e522b",
   "metadata": {},
   "outputs": [
    {
     "data": {
      "text/plain": [
       "code                          0\n",
       "url                           0\n",
       "product_name               3125\n",
       "nutrition_grade_fr            0\n",
       "pnns_groups_1                 0\n",
       "energy_100g                   0\n",
       "fat_100g                      0\n",
       "saturated-fat_100g            0\n",
       "carbohydrates_100g            0\n",
       "sugars_100g                   0\n",
       "fiber_100g                    0\n",
       "proteins_100g                 0\n",
       "salt_100g                     0\n",
       "nutrition-score-fr_100g       0\n",
       "vitamins_100g                 0\n",
       "dtype: int64"
      ]
     },
     "execution_count": 406,
     "metadata": {},
     "output_type": "execute_result"
    }
   ],
   "source": [
    "#vérification valeurs manquantes\n",
    "data.isna().sum()"
   ]
  },
  {
   "cell_type": "markdown",
   "id": "e341200b-7185-424a-be5c-d1cb4c92c631",
   "metadata": {},
   "source": [
    "Il reste encore des produits sans `product_name`, mais c'est n'est pas important parce que le code et l'url du produit sont disponibles. Enfine, je vais transformer la variable `code` pour ne pas avoir le DtypeWarning à l'ouverture du fichier. "
   ]
  },
  {
   "cell_type": "code",
   "execution_count": 407,
   "id": "e348ee65-f4e7-48e9-993b-13232c169136",
   "metadata": {},
   "outputs": [],
   "source": [
    "data['code'] = data['code'].astype('float64')\n",
    "data['code'] = data['code'].astype('int64')"
   ]
  },
  {
   "cell_type": "code",
   "execution_count": 408,
   "id": "45441cde-1189-4798-b293-8b7d4b3f615d",
   "metadata": {},
   "outputs": [],
   "source": [
    "data.to_csv(\"Data/Cleaning/cleaned_data.csv\", index = False)"
   ]
  },
  {
   "cell_type": "markdown",
   "id": "ca7da714-6f44-4359-a092-558e27ae2255",
   "metadata": {},
   "source": [
    "# 5. Conclusions"
   ]
  },
  {
   "cell_type": "markdown",
   "id": "d35a0471-957d-46fb-a18c-63dc5ef3e0fa",
   "metadata": {},
   "source": [
    "A partir du jeu de données de départ, des variables potentiellement intéressantes pour l’application ont été sélectionnées : macronutriments, vitamines, nutriments qui rentrent dans le calcul du Nutri-score, variables liées à la catégorie du produit et variables liées au Nutri-score.\n",
    "Une première analyse de ces variables a permis de supprimer les valeurs aberrantes et filtrer ultérieurement les variables, notamment :\n",
    " - Pour la teneur en macronutriments, des limites inferieures (0g) et supérieures (10g, 60g ou 100g selon la variable) ont été imposées\n",
    " - Pour la teneur en vitamines, des limites inferieures (0g) et supérieures (1g) ont été imposées, les variables de type vitamine ont été remplacées avec la somme des vitamines\n",
    " - Pour les catégories, que la variables 'ppns_groups_1' a été retenue\n",
    " - Pour le Nutri-score, le score nutritionnel français et le Nutri-score français ont été retenus\n",
    " \n",
    "Suite à cette analyse, les valeurs manquantes ont été traités en choisissant la méthode appropriée selon le taux et la typologie des variables :\n",
    " - Pour les macronutriments, suppression des produits si glucides et sucres sont tous les deux manquantes, gras et gras satures sont tous les deux manquantes, ou les protéines sont manquantes. Ensuite, remplacement des glucides avec sucres et vice-versa, et de même pour gras et gras saturés.\n",
    " - Calcul des valeurs manquantes à partir d'autres variables pour l'apport énergétique et le Nutri-Score\n",
    " - Remplacement avec la médiane pour la teneur en sel\n",
    " - KNN Imputer pour la teneur en fibres, le score nutritionnel et la catégorie du produit\n",
    " \n",
    "Ainsi, le jeu de données est nettoyé et exploitable. Mais pour justifier la faisabilité de l'application, il faut explorer et analyser plus en détail les données. L'exploration et l'analyse sont décrites dans la 'Notebook' 'Nardi_Elena_2_notebook_exploration_112022'.\n",
    "\n"
   ]
  }
 ],
 "metadata": {
  "kernelspec": {
   "display_name": "Python 3 (ipykernel)",
   "language": "python",
   "name": "python3"
  },
  "language_info": {
   "codemirror_mode": {
    "name": "ipython",
    "version": 3
   },
   "file_extension": ".py",
   "mimetype": "text/x-python",
   "name": "python",
   "nbconvert_exporter": "python",
   "pygments_lexer": "ipython3",
   "version": "3.9.12"
  },
  "toc": {
   "base_numbering": 1,
   "nav_menu": {},
   "number_sections": false,
   "sideBar": true,
   "skip_h1_title": false,
   "title_cell": "Table of Contents",
   "title_sidebar": "Contents",
   "toc_cell": true,
   "toc_position": {},
   "toc_section_display": true,
   "toc_window_display": true
  }
 },
 "nbformat": 4,
 "nbformat_minor": 5
}
